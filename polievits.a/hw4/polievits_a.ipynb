{
 "cells": [
  {
   "cell_type": "code",
   "execution_count": 210,
   "metadata": {},
   "outputs": [],
   "source": [
    "from matplotlib import pyplot as plt\n",
    "\n",
    "import numpy as np\n",
    "\n",
    "import pandas as pd\n",
    "\n",
    "import scipy.special\n",
    "import scipy.stats\n",
    "\n",
    "from sklearn import linear_model\n",
    "from sklearn import metrics\n",
    "from sklearn import preprocessing\n",
    "\n",
    "%matplotlib inline"
   ]
  },
  {
   "cell_type": "code",
   "execution_count": 2,
   "metadata": {},
   "outputs": [],
   "source": [
    "np.random.seed(123)"
   ]
  },
  {
   "cell_type": "markdown",
   "metadata": {},
   "source": [
    "## inspeect data"
   ]
  },
  {
   "cell_type": "code",
   "execution_count": 3,
   "metadata": {},
   "outputs": [
    {
     "name": "stdout",
     "output_type": "stream",
     "text": [
      "CPU times: user 37.3 s, sys: 9.02 s, total: 46.4 s\n",
      "Wall time: 46.4 s\n"
     ]
    }
   ],
   "source": [
    "%%time \n",
    "\n",
    "data = pd.read_csv(\"../../../data/data.csv\", parse_dates=[\"date_time\"])"
   ]
  },
  {
   "cell_type": "code",
   "execution_count": 4,
   "metadata": {},
   "outputs": [],
   "source": [
    "## data for linear model\n",
    "#data = all_data[\n",
    "#    [\"date_time\", \"zone_id\", \"banner_id\", \"campaign_clicks\", \"os_id\", \"country_id\", \"impressions\", \"clicks\"]\n",
    "#]"
   ]
  },
  {
   "cell_type": "code",
   "execution_count": 5,
   "metadata": {},
   "outputs": [
    {
     "data": {
      "text/html": [
       "<div>\n",
       "<style scoped>\n",
       "    .dataframe tbody tr th:only-of-type {\n",
       "        vertical-align: middle;\n",
       "    }\n",
       "\n",
       "    .dataframe tbody tr th {\n",
       "        vertical-align: top;\n",
       "    }\n",
       "\n",
       "    .dataframe thead th {\n",
       "        text-align: right;\n",
       "    }\n",
       "</style>\n",
       "<table border=\"1\" class=\"dataframe\">\n",
       "  <thead>\n",
       "    <tr style=\"text-align: right;\">\n",
       "      <th></th>\n",
       "      <th>date_time</th>\n",
       "      <th>zone_id</th>\n",
       "      <th>banner_id</th>\n",
       "      <th>oaid_hash</th>\n",
       "      <th>campaign_clicks</th>\n",
       "      <th>os_id</th>\n",
       "      <th>country_id</th>\n",
       "      <th>banner_id0</th>\n",
       "      <th>rate0</th>\n",
       "      <th>g0</th>\n",
       "      <th>coeff_sum0</th>\n",
       "      <th>banner_id1</th>\n",
       "      <th>rate1</th>\n",
       "      <th>g1</th>\n",
       "      <th>coeff_sum1</th>\n",
       "      <th>impressions</th>\n",
       "      <th>clicks</th>\n",
       "    </tr>\n",
       "  </thead>\n",
       "  <tbody>\n",
       "    <tr>\n",
       "      <th>0</th>\n",
       "      <td>2021-09-27 00:01:30</td>\n",
       "      <td>0</td>\n",
       "      <td>0</td>\n",
       "      <td>5664530014561852622</td>\n",
       "      <td>0</td>\n",
       "      <td>0</td>\n",
       "      <td>0</td>\n",
       "      <td>1240</td>\n",
       "      <td>0.067</td>\n",
       "      <td>0.035016</td>\n",
       "      <td>-7.268846</td>\n",
       "      <td>0</td>\n",
       "      <td>0.010</td>\n",
       "      <td>0.049516</td>\n",
       "      <td>-5.369901</td>\n",
       "      <td>1</td>\n",
       "      <td>1</td>\n",
       "    </tr>\n",
       "    <tr>\n",
       "      <th>1</th>\n",
       "      <td>2021-09-26 22:54:49</td>\n",
       "      <td>1</td>\n",
       "      <td>1</td>\n",
       "      <td>5186611064559013950</td>\n",
       "      <td>0</td>\n",
       "      <td>0</td>\n",
       "      <td>1</td>\n",
       "      <td>1</td>\n",
       "      <td>0.002</td>\n",
       "      <td>0.054298</td>\n",
       "      <td>-2.657477</td>\n",
       "      <td>269</td>\n",
       "      <td>0.004</td>\n",
       "      <td>0.031942</td>\n",
       "      <td>-4.449220</td>\n",
       "      <td>1</td>\n",
       "      <td>1</td>\n",
       "    </tr>\n",
       "    <tr>\n",
       "      <th>2</th>\n",
       "      <td>2021-09-26 23:57:20</td>\n",
       "      <td>2</td>\n",
       "      <td>2</td>\n",
       "      <td>2215519569292448030</td>\n",
       "      <td>3</td>\n",
       "      <td>0</td>\n",
       "      <td>0</td>\n",
       "      <td>2</td>\n",
       "      <td>0.014</td>\n",
       "      <td>0.014096</td>\n",
       "      <td>-3.824875</td>\n",
       "      <td>21</td>\n",
       "      <td>0.014</td>\n",
       "      <td>0.014906</td>\n",
       "      <td>-3.939309</td>\n",
       "      <td>1</td>\n",
       "      <td>1</td>\n",
       "    </tr>\n",
       "    <tr>\n",
       "      <th>3</th>\n",
       "      <td>2021-09-27 00:04:30</td>\n",
       "      <td>3</td>\n",
       "      <td>3</td>\n",
       "      <td>6262169206735077204</td>\n",
       "      <td>0</td>\n",
       "      <td>1</td>\n",
       "      <td>1</td>\n",
       "      <td>3</td>\n",
       "      <td>0.012</td>\n",
       "      <td>0.015232</td>\n",
       "      <td>-3.461357</td>\n",
       "      <td>99</td>\n",
       "      <td>0.006</td>\n",
       "      <td>0.050671</td>\n",
       "      <td>-3.418403</td>\n",
       "      <td>1</td>\n",
       "      <td>1</td>\n",
       "    </tr>\n",
       "    <tr>\n",
       "      <th>4</th>\n",
       "      <td>2021-09-27 00:06:21</td>\n",
       "      <td>4</td>\n",
       "      <td>4</td>\n",
       "      <td>4778985830203613115</td>\n",
       "      <td>0</td>\n",
       "      <td>1</td>\n",
       "      <td>0</td>\n",
       "      <td>4</td>\n",
       "      <td>0.019</td>\n",
       "      <td>0.051265</td>\n",
       "      <td>-4.009026</td>\n",
       "      <td>11464230</td>\n",
       "      <td>6.790</td>\n",
       "      <td>0.032005</td>\n",
       "      <td>-2.828797</td>\n",
       "      <td>1</td>\n",
       "      <td>1</td>\n",
       "    </tr>\n",
       "  </tbody>\n",
       "</table>\n",
       "</div>"
      ],
      "text/plain": [
       "            date_time  zone_id  banner_id            oaid_hash  \\\n",
       "0 2021-09-27 00:01:30        0          0  5664530014561852622   \n",
       "1 2021-09-26 22:54:49        1          1  5186611064559013950   \n",
       "2 2021-09-26 23:57:20        2          2  2215519569292448030   \n",
       "3 2021-09-27 00:04:30        3          3  6262169206735077204   \n",
       "4 2021-09-27 00:06:21        4          4  4778985830203613115   \n",
       "\n",
       "   campaign_clicks  os_id  country_id  banner_id0  rate0        g0  \\\n",
       "0                0      0           0        1240  0.067  0.035016   \n",
       "1                0      0           1           1  0.002  0.054298   \n",
       "2                3      0           0           2  0.014  0.014096   \n",
       "3                0      1           1           3  0.012  0.015232   \n",
       "4                0      1           0           4  0.019  0.051265   \n",
       "\n",
       "   coeff_sum0  banner_id1  rate1        g1  coeff_sum1  impressions  clicks  \n",
       "0   -7.268846           0  0.010  0.049516   -5.369901            1       1  \n",
       "1   -2.657477         269  0.004  0.031942   -4.449220            1       1  \n",
       "2   -3.824875          21  0.014  0.014906   -3.939309            1       1  \n",
       "3   -3.461357          99  0.006  0.050671   -3.418403            1       1  \n",
       "4   -4.009026    11464230  6.790  0.032005   -2.828797            1       1  "
      ]
     },
     "execution_count": 5,
     "metadata": {},
     "output_type": "execute_result"
    }
   ],
   "source": [
    "data.head()"
   ]
  },
  {
   "cell_type": "code",
   "execution_count": 6,
   "metadata": {
    "scrolled": true
   },
   "outputs": [
    {
     "data": {
      "text/html": [
       "<div>\n",
       "<style scoped>\n",
       "    .dataframe tbody tr th:only-of-type {\n",
       "        vertical-align: middle;\n",
       "    }\n",
       "\n",
       "    .dataframe tbody tr th {\n",
       "        vertical-align: top;\n",
       "    }\n",
       "\n",
       "    .dataframe thead th {\n",
       "        text-align: right;\n",
       "    }\n",
       "</style>\n",
       "<table border=\"1\" class=\"dataframe\">\n",
       "  <thead>\n",
       "    <tr style=\"text-align: right;\">\n",
       "      <th></th>\n",
       "      <th>zone_id</th>\n",
       "      <th>banner_id</th>\n",
       "      <th>oaid_hash</th>\n",
       "      <th>campaign_clicks</th>\n",
       "      <th>os_id</th>\n",
       "      <th>country_id</th>\n",
       "      <th>banner_id0</th>\n",
       "      <th>rate0</th>\n",
       "      <th>g0</th>\n",
       "      <th>coeff_sum0</th>\n",
       "      <th>banner_id1</th>\n",
       "      <th>rate1</th>\n",
       "      <th>g1</th>\n",
       "      <th>coeff_sum1</th>\n",
       "      <th>impressions</th>\n",
       "      <th>clicks</th>\n",
       "    </tr>\n",
       "  </thead>\n",
       "  <tbody>\n",
       "    <tr>\n",
       "      <th>count</th>\n",
       "      <td>1.582147e+07</td>\n",
       "      <td>1.582147e+07</td>\n",
       "      <td>1.582147e+07</td>\n",
       "      <td>1.582147e+07</td>\n",
       "      <td>1.582147e+07</td>\n",
       "      <td>1.582147e+07</td>\n",
       "      <td>1.582147e+07</td>\n",
       "      <td>1.582140e+07</td>\n",
       "      <td>1.582140e+07</td>\n",
       "      <td>1.582140e+07</td>\n",
       "      <td>1.582147e+07</td>\n",
       "      <td>1.580173e+07</td>\n",
       "      <td>1.580173e+07</td>\n",
       "      <td>1.580173e+07</td>\n",
       "      <td>15821472.0</td>\n",
       "      <td>1.582147e+07</td>\n",
       "    </tr>\n",
       "    <tr>\n",
       "      <th>mean</th>\n",
       "      <td>8.152679e+01</td>\n",
       "      <td>3.816483e+02</td>\n",
       "      <td>4.610505e+18</td>\n",
       "      <td>6.238540e-01</td>\n",
       "      <td>1.840605e+00</td>\n",
       "      <td>4.346986e+00</td>\n",
       "      <td>6.571314e+05</td>\n",
       "      <td>1.969248e-01</td>\n",
       "      <td>7.440764e-01</td>\n",
       "      <td>-3.979590e+00</td>\n",
       "      <td>2.605069e+06</td>\n",
       "      <td>1.415899e+00</td>\n",
       "      <td>5.485722e-01</td>\n",
       "      <td>-3.968883e+00</td>\n",
       "      <td>1.0</td>\n",
       "      <td>2.668835e-02</td>\n",
       "    </tr>\n",
       "    <tr>\n",
       "      <th>std</th>\n",
       "      <td>1.632448e+02</td>\n",
       "      <td>3.959386e+02</td>\n",
       "      <td>2.663858e+18</td>\n",
       "      <td>9.249152e+00</td>\n",
       "      <td>1.530005e+00</td>\n",
       "      <td>4.317701e+00</td>\n",
       "      <td>2.606008e+06</td>\n",
       "      <td>2.733440e+00</td>\n",
       "      <td>1.670358e+01</td>\n",
       "      <td>1.143982e+00</td>\n",
       "      <td>5.230253e+06</td>\n",
       "      <td>8.689053e+00</td>\n",
       "      <td>1.419136e+01</td>\n",
       "      <td>1.186403e+00</td>\n",
       "      <td>0.0</td>\n",
       "      <td>1.611710e-01</td>\n",
       "    </tr>\n",
       "    <tr>\n",
       "      <th>min</th>\n",
       "      <td>0.000000e+00</td>\n",
       "      <td>0.000000e+00</td>\n",
       "      <td>1.116911e+12</td>\n",
       "      <td>0.000000e+00</td>\n",
       "      <td>0.000000e+00</td>\n",
       "      <td>0.000000e+00</td>\n",
       "      <td>0.000000e+00</td>\n",
       "      <td>0.000000e+00</td>\n",
       "      <td>-1.763740e-02</td>\n",
       "      <td>-8.588970e+00</td>\n",
       "      <td>0.000000e+00</td>\n",
       "      <td>0.000000e+00</td>\n",
       "      <td>-6.983897e-02</td>\n",
       "      <td>-9.562188e+00</td>\n",
       "      <td>1.0</td>\n",
       "      <td>0.000000e+00</td>\n",
       "    </tr>\n",
       "    <tr>\n",
       "      <th>25%</th>\n",
       "      <td>1.400000e+01</td>\n",
       "      <td>5.200000e+01</td>\n",
       "      <td>2.297977e+18</td>\n",
       "      <td>0.000000e+00</td>\n",
       "      <td>1.000000e+00</td>\n",
       "      <td>0.000000e+00</td>\n",
       "      <td>7.300000e+01</td>\n",
       "      <td>5.000000e-03</td>\n",
       "      <td>1.643856e-02</td>\n",
       "      <td>-4.515871e+00</td>\n",
       "      <td>9.900000e+01</td>\n",
       "      <td>4.000000e-03</td>\n",
       "      <td>1.615219e-02</td>\n",
       "      <td>-4.529519e+00</td>\n",
       "      <td>1.0</td>\n",
       "      <td>0.000000e+00</td>\n",
       "    </tr>\n",
       "    <tr>\n",
       "      <th>50%</th>\n",
       "      <td>1.900000e+01</td>\n",
       "      <td>2.170000e+02</td>\n",
       "      <td>4.614236e+18</td>\n",
       "      <td>0.000000e+00</td>\n",
       "      <td>2.000000e+00</td>\n",
       "      <td>4.000000e+00</td>\n",
       "      <td>3.030000e+02</td>\n",
       "      <td>1.000000e-02</td>\n",
       "      <td>3.539307e-02</td>\n",
       "      <td>-3.921164e+00</td>\n",
       "      <td>4.600000e+02</td>\n",
       "      <td>1.400000e-02</td>\n",
       "      <td>3.556666e-02</td>\n",
       "      <td>-3.928674e+00</td>\n",
       "      <td>1.0</td>\n",
       "      <td>0.000000e+00</td>\n",
       "    </tr>\n",
       "    <tr>\n",
       "      <th>75%</th>\n",
       "      <td>6.000000e+01</td>\n",
       "      <td>6.110000e+02</td>\n",
       "      <td>6.914243e+18</td>\n",
       "      <td>0.000000e+00</td>\n",
       "      <td>3.000000e+00</td>\n",
       "      <td>7.000000e+00</td>\n",
       "      <td>7.200000e+02</td>\n",
       "      <td>3.000000e-02</td>\n",
       "      <td>8.022935e-02</td>\n",
       "      <td>-3.421280e+00</td>\n",
       "      <td>1.236000e+03</td>\n",
       "      <td>5.000000e-02</td>\n",
       "      <td>7.546751e-02</td>\n",
       "      <td>-3.390867e+00</td>\n",
       "      <td>1.0</td>\n",
       "      <td>0.000000e+00</td>\n",
       "    </tr>\n",
       "    <tr>\n",
       "      <th>max</th>\n",
       "      <td>3.443000e+03</td>\n",
       "      <td>1.632000e+03</td>\n",
       "      <td>9.223371e+18</td>\n",
       "      <td>8.290000e+02</td>\n",
       "      <td>1.000000e+01</td>\n",
       "      <td>1.600000e+01</td>\n",
       "      <td>1.146423e+07</td>\n",
       "      <td>1.000000e+02</td>\n",
       "      <td>6.910888e+02</td>\n",
       "      <td>3.149981e-01</td>\n",
       "      <td>1.462360e+07</td>\n",
       "      <td>1.000000e+02</td>\n",
       "      <td>6.910885e+02</td>\n",
       "      <td>4.756181e-01</td>\n",
       "      <td>1.0</td>\n",
       "      <td>1.000000e+00</td>\n",
       "    </tr>\n",
       "  </tbody>\n",
       "</table>\n",
       "</div>"
      ],
      "text/plain": [
       "            zone_id     banner_id     oaid_hash  campaign_clicks  \\\n",
       "count  1.582147e+07  1.582147e+07  1.582147e+07     1.582147e+07   \n",
       "mean   8.152679e+01  3.816483e+02  4.610505e+18     6.238540e-01   \n",
       "std    1.632448e+02  3.959386e+02  2.663858e+18     9.249152e+00   \n",
       "min    0.000000e+00  0.000000e+00  1.116911e+12     0.000000e+00   \n",
       "25%    1.400000e+01  5.200000e+01  2.297977e+18     0.000000e+00   \n",
       "50%    1.900000e+01  2.170000e+02  4.614236e+18     0.000000e+00   \n",
       "75%    6.000000e+01  6.110000e+02  6.914243e+18     0.000000e+00   \n",
       "max    3.443000e+03  1.632000e+03  9.223371e+18     8.290000e+02   \n",
       "\n",
       "              os_id    country_id    banner_id0         rate0            g0  \\\n",
       "count  1.582147e+07  1.582147e+07  1.582147e+07  1.582140e+07  1.582140e+07   \n",
       "mean   1.840605e+00  4.346986e+00  6.571314e+05  1.969248e-01  7.440764e-01   \n",
       "std    1.530005e+00  4.317701e+00  2.606008e+06  2.733440e+00  1.670358e+01   \n",
       "min    0.000000e+00  0.000000e+00  0.000000e+00  0.000000e+00 -1.763740e-02   \n",
       "25%    1.000000e+00  0.000000e+00  7.300000e+01  5.000000e-03  1.643856e-02   \n",
       "50%    2.000000e+00  4.000000e+00  3.030000e+02  1.000000e-02  3.539307e-02   \n",
       "75%    3.000000e+00  7.000000e+00  7.200000e+02  3.000000e-02  8.022935e-02   \n",
       "max    1.000000e+01  1.600000e+01  1.146423e+07  1.000000e+02  6.910888e+02   \n",
       "\n",
       "         coeff_sum0    banner_id1         rate1            g1    coeff_sum1  \\\n",
       "count  1.582140e+07  1.582147e+07  1.580173e+07  1.580173e+07  1.580173e+07   \n",
       "mean  -3.979590e+00  2.605069e+06  1.415899e+00  5.485722e-01 -3.968883e+00   \n",
       "std    1.143982e+00  5.230253e+06  8.689053e+00  1.419136e+01  1.186403e+00   \n",
       "min   -8.588970e+00  0.000000e+00  0.000000e+00 -6.983897e-02 -9.562188e+00   \n",
       "25%   -4.515871e+00  9.900000e+01  4.000000e-03  1.615219e-02 -4.529519e+00   \n",
       "50%   -3.921164e+00  4.600000e+02  1.400000e-02  3.556666e-02 -3.928674e+00   \n",
       "75%   -3.421280e+00  1.236000e+03  5.000000e-02  7.546751e-02 -3.390867e+00   \n",
       "max    3.149981e-01  1.462360e+07  1.000000e+02  6.910885e+02  4.756181e-01   \n",
       "\n",
       "       impressions        clicks  \n",
       "count   15821472.0  1.582147e+07  \n",
       "mean           1.0  2.668835e-02  \n",
       "std            0.0  1.611710e-01  \n",
       "min            1.0  0.000000e+00  \n",
       "25%            1.0  0.000000e+00  \n",
       "50%            1.0  0.000000e+00  \n",
       "75%            1.0  0.000000e+00  \n",
       "max            1.0  1.000000e+00  "
      ]
     },
     "execution_count": 6,
     "metadata": {},
     "output_type": "execute_result"
    }
   ],
   "source": [
    "data.describe()"
   ]
  },
  {
   "cell_type": "code",
   "execution_count": 7,
   "metadata": {},
   "outputs": [
    {
     "data": {
      "text/plain": [
       "(Timestamp('2021-09-01 00:02:49'), Timestamp('2021-10-02 23:59:59'))"
      ]
     },
     "execution_count": 7,
     "metadata": {},
     "output_type": "execute_result"
    }
   ],
   "source": [
    "data.date_time.min(), data.date_time.max()"
   ]
  },
  {
   "cell_type": "markdown",
   "metadata": {},
   "source": [
    "## Extract day"
   ]
  },
  {
   "cell_type": "code",
   "execution_count": 8,
   "metadata": {},
   "outputs": [
    {
     "name": "stderr",
     "output_type": "stream",
     "text": [
      "/home/ifled/tmpdir/ipykernel_959148/813304573.py:1: FutureWarning: The pandas.datetime class is deprecated and will be removed from pandas in a future version. Import from datetime module instead.\n",
      "  data[\"day\"] = (data.date_time - pd.datetime(2021,9,1)).dt.days\n"
     ]
    }
   ],
   "source": [
    "data[\"day\"] = (data.date_time - pd.datetime(2021,9,1)).dt.days"
   ]
  },
  {
   "cell_type": "code",
   "execution_count": 9,
   "metadata": {},
   "outputs": [
    {
     "data": {
      "text/html": [
       "<div>\n",
       "<style scoped>\n",
       "    .dataframe tbody tr th:only-of-type {\n",
       "        vertical-align: middle;\n",
       "    }\n",
       "\n",
       "    .dataframe tbody tr th {\n",
       "        vertical-align: top;\n",
       "    }\n",
       "\n",
       "    .dataframe thead th {\n",
       "        text-align: right;\n",
       "    }\n",
       "</style>\n",
       "<table border=\"1\" class=\"dataframe\">\n",
       "  <thead>\n",
       "    <tr style=\"text-align: right;\">\n",
       "      <th></th>\n",
       "      <th>date_time</th>\n",
       "      <th>zone_id</th>\n",
       "      <th>banner_id</th>\n",
       "      <th>oaid_hash</th>\n",
       "      <th>campaign_clicks</th>\n",
       "      <th>os_id</th>\n",
       "      <th>country_id</th>\n",
       "      <th>banner_id0</th>\n",
       "      <th>rate0</th>\n",
       "      <th>g0</th>\n",
       "      <th>coeff_sum0</th>\n",
       "      <th>banner_id1</th>\n",
       "      <th>rate1</th>\n",
       "      <th>g1</th>\n",
       "      <th>coeff_sum1</th>\n",
       "      <th>impressions</th>\n",
       "      <th>clicks</th>\n",
       "      <th>day</th>\n",
       "    </tr>\n",
       "  </thead>\n",
       "  <tbody>\n",
       "    <tr>\n",
       "      <th>0</th>\n",
       "      <td>2021-09-27 00:01:30</td>\n",
       "      <td>0</td>\n",
       "      <td>0</td>\n",
       "      <td>5664530014561852622</td>\n",
       "      <td>0</td>\n",
       "      <td>0</td>\n",
       "      <td>0</td>\n",
       "      <td>1240</td>\n",
       "      <td>0.067</td>\n",
       "      <td>0.035016</td>\n",
       "      <td>-7.268846</td>\n",
       "      <td>0</td>\n",
       "      <td>0.010</td>\n",
       "      <td>0.049516</td>\n",
       "      <td>-5.369901</td>\n",
       "      <td>1</td>\n",
       "      <td>1</td>\n",
       "      <td>26</td>\n",
       "    </tr>\n",
       "    <tr>\n",
       "      <th>1</th>\n",
       "      <td>2021-09-26 22:54:49</td>\n",
       "      <td>1</td>\n",
       "      <td>1</td>\n",
       "      <td>5186611064559013950</td>\n",
       "      <td>0</td>\n",
       "      <td>0</td>\n",
       "      <td>1</td>\n",
       "      <td>1</td>\n",
       "      <td>0.002</td>\n",
       "      <td>0.054298</td>\n",
       "      <td>-2.657477</td>\n",
       "      <td>269</td>\n",
       "      <td>0.004</td>\n",
       "      <td>0.031942</td>\n",
       "      <td>-4.449220</td>\n",
       "      <td>1</td>\n",
       "      <td>1</td>\n",
       "      <td>25</td>\n",
       "    </tr>\n",
       "    <tr>\n",
       "      <th>2</th>\n",
       "      <td>2021-09-26 23:57:20</td>\n",
       "      <td>2</td>\n",
       "      <td>2</td>\n",
       "      <td>2215519569292448030</td>\n",
       "      <td>3</td>\n",
       "      <td>0</td>\n",
       "      <td>0</td>\n",
       "      <td>2</td>\n",
       "      <td>0.014</td>\n",
       "      <td>0.014096</td>\n",
       "      <td>-3.824875</td>\n",
       "      <td>21</td>\n",
       "      <td>0.014</td>\n",
       "      <td>0.014906</td>\n",
       "      <td>-3.939309</td>\n",
       "      <td>1</td>\n",
       "      <td>1</td>\n",
       "      <td>25</td>\n",
       "    </tr>\n",
       "    <tr>\n",
       "      <th>3</th>\n",
       "      <td>2021-09-27 00:04:30</td>\n",
       "      <td>3</td>\n",
       "      <td>3</td>\n",
       "      <td>6262169206735077204</td>\n",
       "      <td>0</td>\n",
       "      <td>1</td>\n",
       "      <td>1</td>\n",
       "      <td>3</td>\n",
       "      <td>0.012</td>\n",
       "      <td>0.015232</td>\n",
       "      <td>-3.461357</td>\n",
       "      <td>99</td>\n",
       "      <td>0.006</td>\n",
       "      <td>0.050671</td>\n",
       "      <td>-3.418403</td>\n",
       "      <td>1</td>\n",
       "      <td>1</td>\n",
       "      <td>26</td>\n",
       "    </tr>\n",
       "    <tr>\n",
       "      <th>4</th>\n",
       "      <td>2021-09-27 00:06:21</td>\n",
       "      <td>4</td>\n",
       "      <td>4</td>\n",
       "      <td>4778985830203613115</td>\n",
       "      <td>0</td>\n",
       "      <td>1</td>\n",
       "      <td>0</td>\n",
       "      <td>4</td>\n",
       "      <td>0.019</td>\n",
       "      <td>0.051265</td>\n",
       "      <td>-4.009026</td>\n",
       "      <td>11464230</td>\n",
       "      <td>6.790</td>\n",
       "      <td>0.032005</td>\n",
       "      <td>-2.828797</td>\n",
       "      <td>1</td>\n",
       "      <td>1</td>\n",
       "      <td>26</td>\n",
       "    </tr>\n",
       "  </tbody>\n",
       "</table>\n",
       "</div>"
      ],
      "text/plain": [
       "            date_time  zone_id  banner_id            oaid_hash  \\\n",
       "0 2021-09-27 00:01:30        0          0  5664530014561852622   \n",
       "1 2021-09-26 22:54:49        1          1  5186611064559013950   \n",
       "2 2021-09-26 23:57:20        2          2  2215519569292448030   \n",
       "3 2021-09-27 00:04:30        3          3  6262169206735077204   \n",
       "4 2021-09-27 00:06:21        4          4  4778985830203613115   \n",
       "\n",
       "   campaign_clicks  os_id  country_id  banner_id0  rate0        g0  \\\n",
       "0                0      0           0        1240  0.067  0.035016   \n",
       "1                0      0           1           1  0.002  0.054298   \n",
       "2                3      0           0           2  0.014  0.014096   \n",
       "3                0      1           1           3  0.012  0.015232   \n",
       "4                0      1           0           4  0.019  0.051265   \n",
       "\n",
       "   coeff_sum0  banner_id1  rate1        g1  coeff_sum1  impressions  clicks  \\\n",
       "0   -7.268846           0  0.010  0.049516   -5.369901            1       1   \n",
       "1   -2.657477         269  0.004  0.031942   -4.449220            1       1   \n",
       "2   -3.824875          21  0.014  0.014906   -3.939309            1       1   \n",
       "3   -3.461357          99  0.006  0.050671   -3.418403            1       1   \n",
       "4   -4.009026    11464230  6.790  0.032005   -2.828797            1       1   \n",
       "\n",
       "   day  \n",
       "0   26  \n",
       "1   25  \n",
       "2   25  \n",
       "3   26  \n",
       "4   26  "
      ]
     },
     "execution_count": 9,
     "metadata": {},
     "output_type": "execute_result"
    }
   ],
   "source": [
    "data.head()"
   ]
  },
  {
   "cell_type": "code",
   "execution_count": 10,
   "metadata": {},
   "outputs": [
    {
     "data": {
      "text/plain": [
       "(0, 31)"
      ]
     },
     "execution_count": 10,
     "metadata": {},
     "output_type": "execute_result"
    }
   ],
   "source": [
    "data.day.min(), data.day.max()"
   ]
  },
  {
   "cell_type": "code",
   "execution_count": 11,
   "metadata": {},
   "outputs": [
    {
     "data": {
      "text/plain": [
       "<AxesSubplot:>"
      ]
     },
     "execution_count": 11,
     "metadata": {},
     "output_type": "execute_result"
    },
    {
     "data": {
      "image/png": "[encoded data removed]",
      "text/plain": [
       "<Figure size 432x288 with 1 Axes>"
      ]
     },
     "metadata": {
      "needs_background": "light"
     },
     "output_type": "display_data"
    }
   ],
   "source": [
    "data.day.hist(bins=32)"
   ]
  },
  {
   "cell_type": "code",
   "execution_count": 12,
   "metadata": {},
   "outputs": [
    {
     "data": {
      "text/plain": [
       "<AxesSubplot:>"
      ]
     },
     "execution_count": 12,
     "metadata": {},
     "output_type": "execute_result"
    },
    {
     "data": {
      "image/png": "[encoded data removed]",
      "text/plain": [
       "<Figure size 432x288 with 1 Axes>"
      ]
     },
     "metadata": {
      "needs_background": "light"
     },
     "output_type": "display_data"
    }
   ],
   "source": [
    "data.day.hist(bins=32, log=True)"
   ]
  },
  {
   "cell_type": "code",
   "execution_count": 13,
   "metadata": {},
   "outputs": [
    {
     "data": {
      "text/plain": [
       "count    1.582147e+07\n",
       "mean     2.769505e+01\n",
       "std      2.039576e+00\n",
       "min      0.000000e+00\n",
       "25%      2.600000e+01\n",
       "50%      2.800000e+01\n",
       "75%      2.900000e+01\n",
       "max      3.100000e+01\n",
       "Name: day, dtype: float64"
      ]
     },
     "execution_count": 13,
     "metadata": {},
     "output_type": "execute_result"
    }
   ],
   "source": [
    "data.day.describe()"
   ]
  },
  {
   "cell_type": "markdown",
   "metadata": {},
   "source": [
    "## There is one outlier:"
   ]
  },
  {
   "cell_type": "code",
   "execution_count": 14,
   "metadata": {
    "scrolled": true
   },
   "outputs": [
    {
     "data": {
      "text/html": [
       "<div>\n",
       "<style scoped>\n",
       "    .dataframe tbody tr th:only-of-type {\n",
       "        vertical-align: middle;\n",
       "    }\n",
       "\n",
       "    .dataframe tbody tr th {\n",
       "        vertical-align: top;\n",
       "    }\n",
       "\n",
       "    .dataframe thead th {\n",
       "        text-align: right;\n",
       "    }\n",
       "</style>\n",
       "<table border=\"1\" class=\"dataframe\">\n",
       "  <thead>\n",
       "    <tr style=\"text-align: right;\">\n",
       "      <th></th>\n",
       "      <th>date_time</th>\n",
       "      <th>zone_id</th>\n",
       "      <th>banner_id</th>\n",
       "      <th>oaid_hash</th>\n",
       "      <th>campaign_clicks</th>\n",
       "      <th>os_id</th>\n",
       "      <th>country_id</th>\n",
       "      <th>banner_id0</th>\n",
       "      <th>rate0</th>\n",
       "      <th>g0</th>\n",
       "      <th>coeff_sum0</th>\n",
       "      <th>banner_id1</th>\n",
       "      <th>rate1</th>\n",
       "      <th>g1</th>\n",
       "      <th>coeff_sum1</th>\n",
       "      <th>impressions</th>\n",
       "      <th>clicks</th>\n",
       "      <th>day</th>\n",
       "    </tr>\n",
       "  </thead>\n",
       "  <tbody>\n",
       "    <tr>\n",
       "      <th>1390198</th>\n",
       "      <td>2021-09-01 00:02:49</td>\n",
       "      <td>30</td>\n",
       "      <td>596</td>\n",
       "      <td>5236744527665721365</td>\n",
       "      <td>0</td>\n",
       "      <td>0</td>\n",
       "      <td>7</td>\n",
       "      <td>596</td>\n",
       "      <td>0.05</td>\n",
       "      <td>0.06456</td>\n",
       "      <td>-4.312062</td>\n",
       "      <td>603</td>\n",
       "      <td>0.05</td>\n",
       "      <td>0.05651</td>\n",
       "      <td>-4.370191</td>\n",
       "      <td>1</td>\n",
       "      <td>0</td>\n",
       "      <td>0</td>\n",
       "    </tr>\n",
       "  </tbody>\n",
       "</table>\n",
       "</div>"
      ],
      "text/plain": [
       "                  date_time  zone_id  banner_id            oaid_hash  \\\n",
       "1390198 2021-09-01 00:02:49       30        596  5236744527665721365   \n",
       "\n",
       "         campaign_clicks  os_id  country_id  banner_id0  rate0       g0  \\\n",
       "1390198                0      0           7         596   0.05  0.06456   \n",
       "\n",
       "         coeff_sum0  banner_id1  rate1       g1  coeff_sum1  impressions  \\\n",
       "1390198   -4.312062         603   0.05  0.05651   -4.370191            1   \n",
       "\n",
       "         clicks  day  \n",
       "1390198       0    0  "
      ]
     },
     "execution_count": 14,
     "metadata": {},
     "output_type": "execute_result"
    }
   ],
   "source": [
    "data[data.day <= 24]"
   ]
  },
  {
   "cell_type": "markdown",
   "metadata": {},
   "source": [
    "## Remove the outlier"
   ]
  },
  {
   "cell_type": "code",
   "execution_count": 15,
   "metadata": {},
   "outputs": [],
   "source": [
    "data.drop(data[data.day <= 24].index, inplace=True)"
   ]
  },
  {
   "cell_type": "code",
   "execution_count": 16,
   "metadata": {},
   "outputs": [
    {
     "data": {
      "text/plain": [
       "(Timestamp('2021-09-26 00:00:00'), Timestamp('2021-10-02 23:59:59'), 25, 31)"
      ]
     },
     "execution_count": 16,
     "metadata": {},
     "output_type": "execute_result"
    }
   ],
   "source": [
    "data.date_time.min(), data.date_time.max(), data.day.min(), data.day.max()"
   ]
  },
  {
   "cell_type": "code",
   "execution_count": 17,
   "metadata": {},
   "outputs": [],
   "source": [
    "data.day -= 25"
   ]
  },
  {
   "cell_type": "code",
   "execution_count": 18,
   "metadata": {},
   "outputs": [
    {
     "data": {
      "text/plain": [
       "<AxesSubplot:>"
      ]
     },
     "execution_count": 18,
     "metadata": {},
     "output_type": "execute_result"
    },
    {
     "data": {
      "image/png": "[encoded data removed]",
      "text/plain": [
       "<Figure size 432x288 with 1 Axes>"
      ]
     },
     "metadata": {
      "needs_background": "light"
     },
     "output_type": "display_data"
    }
   ],
   "source": [
    "data.day.hist(bins=7)"
   ]
  },
  {
   "cell_type": "code",
   "execution_count": 19,
   "metadata": {},
   "outputs": [],
   "source": [
    "categorical_columns = [\"zone_id\", \"banner_id\", \"os_id\", \"country_id\"]"
   ]
  },
  {
   "cell_type": "code",
   "execution_count": 20,
   "metadata": {},
   "outputs": [
    {
     "name": "stdout",
     "output_type": "stream",
     "text": [
      "zone_id 0 3443\n",
      "banner_id 0 1632\n",
      "os_id 0 10\n",
      "country_id 0 16\n"
     ]
    }
   ],
   "source": [
    "for colname in categorical_columns:\n",
    "    print(colname, data[colname].min(), data[colname].max())\n",
    "    data[colname] = data[colname].astype(\n",
    "        pd.api.types.CategoricalDtype(range(data[colname].max() - data[colname].min() + 1))\n",
    "    )"
   ]
  },
  {
   "cell_type": "code",
   "execution_count": 21,
   "metadata": {},
   "outputs": [
    {
     "name": "stderr",
     "output_type": "stream",
     "text": [
      "/home/ifled/tmpdir/ipykernel_959148/1336221646.py:1: FutureWarning: Treating datetime data as categorical rather than numeric in `.describe` is deprecated and will be removed in a future version of pandas. Specify `datetime_is_numeric=True` to silence this warning and adopt the future behavior now.\n",
      "  data.describe(include='all')\n"
     ]
    },
    {
     "data": {
      "text/html": [
       "<div>\n",
       "<style scoped>\n",
       "    .dataframe tbody tr th:only-of-type {\n",
       "        vertical-align: middle;\n",
       "    }\n",
       "\n",
       "    .dataframe tbody tr th {\n",
       "        vertical-align: top;\n",
       "    }\n",
       "\n",
       "    .dataframe thead th {\n",
       "        text-align: right;\n",
       "    }\n",
       "</style>\n",
       "<table border=\"1\" class=\"dataframe\">\n",
       "  <thead>\n",
       "    <tr style=\"text-align: right;\">\n",
       "      <th></th>\n",
       "      <th>date_time</th>\n",
       "      <th>zone_id</th>\n",
       "      <th>banner_id</th>\n",
       "      <th>oaid_hash</th>\n",
       "      <th>campaign_clicks</th>\n",
       "      <th>os_id</th>\n",
       "      <th>country_id</th>\n",
       "      <th>banner_id0</th>\n",
       "      <th>rate0</th>\n",
       "      <th>g0</th>\n",
       "      <th>coeff_sum0</th>\n",
       "      <th>banner_id1</th>\n",
       "      <th>rate1</th>\n",
       "      <th>g1</th>\n",
       "      <th>coeff_sum1</th>\n",
       "      <th>impressions</th>\n",
       "      <th>clicks</th>\n",
       "      <th>day</th>\n",
       "    </tr>\n",
       "  </thead>\n",
       "  <tbody>\n",
       "    <tr>\n",
       "      <th>count</th>\n",
       "      <td>15821471</td>\n",
       "      <td>15821471.0</td>\n",
       "      <td>15821471.0</td>\n",
       "      <td>1.582147e+07</td>\n",
       "      <td>1.582147e+07</td>\n",
       "      <td>15821471.0</td>\n",
       "      <td>15821471.0</td>\n",
       "      <td>1.582147e+07</td>\n",
       "      <td>1.582140e+07</td>\n",
       "      <td>1.582140e+07</td>\n",
       "      <td>1.582140e+07</td>\n",
       "      <td>1.582147e+07</td>\n",
       "      <td>1.580173e+07</td>\n",
       "      <td>1.580173e+07</td>\n",
       "      <td>1.580173e+07</td>\n",
       "      <td>15821471.0</td>\n",
       "      <td>1.582147e+07</td>\n",
       "      <td>1.582147e+07</td>\n",
       "    </tr>\n",
       "    <tr>\n",
       "      <th>unique</th>\n",
       "      <td>604711</td>\n",
       "      <td>3444.0</td>\n",
       "      <td>1633.0</td>\n",
       "      <td>NaN</td>\n",
       "      <td>NaN</td>\n",
       "      <td>11.0</td>\n",
       "      <td>17.0</td>\n",
       "      <td>NaN</td>\n",
       "      <td>NaN</td>\n",
       "      <td>NaN</td>\n",
       "      <td>NaN</td>\n",
       "      <td>NaN</td>\n",
       "      <td>NaN</td>\n",
       "      <td>NaN</td>\n",
       "      <td>NaN</td>\n",
       "      <td>NaN</td>\n",
       "      <td>NaN</td>\n",
       "      <td>NaN</td>\n",
       "    </tr>\n",
       "    <tr>\n",
       "      <th>top</th>\n",
       "      <td>2021-09-29 19:14:40</td>\n",
       "      <td>17.0</td>\n",
       "      <td>22.0</td>\n",
       "      <td>NaN</td>\n",
       "      <td>NaN</td>\n",
       "      <td>2.0</td>\n",
       "      <td>0.0</td>\n",
       "      <td>NaN</td>\n",
       "      <td>NaN</td>\n",
       "      <td>NaN</td>\n",
       "      <td>NaN</td>\n",
       "      <td>NaN</td>\n",
       "      <td>NaN</td>\n",
       "      <td>NaN</td>\n",
       "      <td>NaN</td>\n",
       "      <td>NaN</td>\n",
       "      <td>NaN</td>\n",
       "      <td>NaN</td>\n",
       "    </tr>\n",
       "    <tr>\n",
       "      <th>freq</th>\n",
       "      <td>140</td>\n",
       "      <td>2280422.0</td>\n",
       "      <td>613367.0</td>\n",
       "      <td>NaN</td>\n",
       "      <td>NaN</td>\n",
       "      <td>4589979.0</td>\n",
       "      <td>4956393.0</td>\n",
       "      <td>NaN</td>\n",
       "      <td>NaN</td>\n",
       "      <td>NaN</td>\n",
       "      <td>NaN</td>\n",
       "      <td>NaN</td>\n",
       "      <td>NaN</td>\n",
       "      <td>NaN</td>\n",
       "      <td>NaN</td>\n",
       "      <td>NaN</td>\n",
       "      <td>NaN</td>\n",
       "      <td>NaN</td>\n",
       "    </tr>\n",
       "    <tr>\n",
       "      <th>first</th>\n",
       "      <td>2021-09-26 00:00:00</td>\n",
       "      <td>NaN</td>\n",
       "      <td>NaN</td>\n",
       "      <td>NaN</td>\n",
       "      <td>NaN</td>\n",
       "      <td>NaN</td>\n",
       "      <td>NaN</td>\n",
       "      <td>NaN</td>\n",
       "      <td>NaN</td>\n",
       "      <td>NaN</td>\n",
       "      <td>NaN</td>\n",
       "      <td>NaN</td>\n",
       "      <td>NaN</td>\n",
       "      <td>NaN</td>\n",
       "      <td>NaN</td>\n",
       "      <td>NaN</td>\n",
       "      <td>NaN</td>\n",
       "      <td>NaN</td>\n",
       "    </tr>\n",
       "    <tr>\n",
       "      <th>last</th>\n",
       "      <td>2021-10-02 23:59:59</td>\n",
       "      <td>NaN</td>\n",
       "      <td>NaN</td>\n",
       "      <td>NaN</td>\n",
       "      <td>NaN</td>\n",
       "      <td>NaN</td>\n",
       "      <td>NaN</td>\n",
       "      <td>NaN</td>\n",
       "      <td>NaN</td>\n",
       "      <td>NaN</td>\n",
       "      <td>NaN</td>\n",
       "      <td>NaN</td>\n",
       "      <td>NaN</td>\n",
       "      <td>NaN</td>\n",
       "      <td>NaN</td>\n",
       "      <td>NaN</td>\n",
       "      <td>NaN</td>\n",
       "      <td>NaN</td>\n",
       "    </tr>\n",
       "    <tr>\n",
       "      <th>mean</th>\n",
       "      <td>NaN</td>\n",
       "      <td>NaN</td>\n",
       "      <td>NaN</td>\n",
       "      <td>4.610505e+18</td>\n",
       "      <td>6.238540e-01</td>\n",
       "      <td>NaN</td>\n",
       "      <td>NaN</td>\n",
       "      <td>6.571315e+05</td>\n",
       "      <td>1.969248e-01</td>\n",
       "      <td>7.440765e-01</td>\n",
       "      <td>-3.979590e+00</td>\n",
       "      <td>2.605069e+06</td>\n",
       "      <td>1.415899e+00</td>\n",
       "      <td>5.485722e-01</td>\n",
       "      <td>-3.968883e+00</td>\n",
       "      <td>1.0</td>\n",
       "      <td>2.668835e-02</td>\n",
       "      <td>2.695049e+00</td>\n",
       "    </tr>\n",
       "    <tr>\n",
       "      <th>std</th>\n",
       "      <td>NaN</td>\n",
       "      <td>NaN</td>\n",
       "      <td>NaN</td>\n",
       "      <td>2.663858e+18</td>\n",
       "      <td>9.249152e+00</td>\n",
       "      <td>NaN</td>\n",
       "      <td>NaN</td>\n",
       "      <td>2.606008e+06</td>\n",
       "      <td>2.733441e+00</td>\n",
       "      <td>1.670358e+01</td>\n",
       "      <td>1.143982e+00</td>\n",
       "      <td>5.230253e+06</td>\n",
       "      <td>8.689053e+00</td>\n",
       "      <td>1.419136e+01</td>\n",
       "      <td>1.186403e+00</td>\n",
       "      <td>0.0</td>\n",
       "      <td>1.611710e-01</td>\n",
       "      <td>2.039565e+00</td>\n",
       "    </tr>\n",
       "    <tr>\n",
       "      <th>min</th>\n",
       "      <td>NaN</td>\n",
       "      <td>NaN</td>\n",
       "      <td>NaN</td>\n",
       "      <td>1.116911e+12</td>\n",
       "      <td>0.000000e+00</td>\n",
       "      <td>NaN</td>\n",
       "      <td>NaN</td>\n",
       "      <td>0.000000e+00</td>\n",
       "      <td>0.000000e+00</td>\n",
       "      <td>-1.763740e-02</td>\n",
       "      <td>-8.588970e+00</td>\n",
       "      <td>0.000000e+00</td>\n",
       "      <td>0.000000e+00</td>\n",
       "      <td>-6.983897e-02</td>\n",
       "      <td>-9.562188e+00</td>\n",
       "      <td>1.0</td>\n",
       "      <td>0.000000e+00</td>\n",
       "      <td>0.000000e+00</td>\n",
       "    </tr>\n",
       "    <tr>\n",
       "      <th>25%</th>\n",
       "      <td>NaN</td>\n",
       "      <td>NaN</td>\n",
       "      <td>NaN</td>\n",
       "      <td>2.297977e+18</td>\n",
       "      <td>0.000000e+00</td>\n",
       "      <td>NaN</td>\n",
       "      <td>NaN</td>\n",
       "      <td>7.300000e+01</td>\n",
       "      <td>5.000000e-03</td>\n",
       "      <td>1.643856e-02</td>\n",
       "      <td>-4.515871e+00</td>\n",
       "      <td>9.900000e+01</td>\n",
       "      <td>4.000000e-03</td>\n",
       "      <td>1.615219e-02</td>\n",
       "      <td>-4.529519e+00</td>\n",
       "      <td>1.0</td>\n",
       "      <td>0.000000e+00</td>\n",
       "      <td>1.000000e+00</td>\n",
       "    </tr>\n",
       "    <tr>\n",
       "      <th>50%</th>\n",
       "      <td>NaN</td>\n",
       "      <td>NaN</td>\n",
       "      <td>NaN</td>\n",
       "      <td>4.614236e+18</td>\n",
       "      <td>0.000000e+00</td>\n",
       "      <td>NaN</td>\n",
       "      <td>NaN</td>\n",
       "      <td>3.030000e+02</td>\n",
       "      <td>1.000000e-02</td>\n",
       "      <td>3.539307e-02</td>\n",
       "      <td>-3.921164e+00</td>\n",
       "      <td>4.600000e+02</td>\n",
       "      <td>1.400000e-02</td>\n",
       "      <td>3.556666e-02</td>\n",
       "      <td>-3.928674e+00</td>\n",
       "      <td>1.0</td>\n",
       "      <td>0.000000e+00</td>\n",
       "      <td>3.000000e+00</td>\n",
       "    </tr>\n",
       "    <tr>\n",
       "      <th>75%</th>\n",
       "      <td>NaN</td>\n",
       "      <td>NaN</td>\n",
       "      <td>NaN</td>\n",
       "      <td>6.914243e+18</td>\n",
       "      <td>0.000000e+00</td>\n",
       "      <td>NaN</td>\n",
       "      <td>NaN</td>\n",
       "      <td>7.200000e+02</td>\n",
       "      <td>3.000000e-02</td>\n",
       "      <td>8.022936e-02</td>\n",
       "      <td>-3.421280e+00</td>\n",
       "      <td>1.236000e+03</td>\n",
       "      <td>5.000000e-02</td>\n",
       "      <td>7.546752e-02</td>\n",
       "      <td>-3.390867e+00</td>\n",
       "      <td>1.0</td>\n",
       "      <td>0.000000e+00</td>\n",
       "      <td>4.000000e+00</td>\n",
       "    </tr>\n",
       "    <tr>\n",
       "      <th>max</th>\n",
       "      <td>NaN</td>\n",
       "      <td>NaN</td>\n",
       "      <td>NaN</td>\n",
       "      <td>9.223371e+18</td>\n",
       "      <td>8.290000e+02</td>\n",
       "      <td>NaN</td>\n",
       "      <td>NaN</td>\n",
       "      <td>1.146423e+07</td>\n",
       "      <td>1.000000e+02</td>\n",
       "      <td>6.910888e+02</td>\n",
       "      <td>3.149981e-01</td>\n",
       "      <td>1.462360e+07</td>\n",
       "      <td>1.000000e+02</td>\n",
       "      <td>6.910885e+02</td>\n",
       "      <td>4.756181e-01</td>\n",
       "      <td>1.0</td>\n",
       "      <td>1.000000e+00</td>\n",
       "      <td>6.000000e+00</td>\n",
       "    </tr>\n",
       "  </tbody>\n",
       "</table>\n",
       "</div>"
      ],
      "text/plain": [
       "                  date_time     zone_id   banner_id     oaid_hash  \\\n",
       "count              15821471  15821471.0  15821471.0  1.582147e+07   \n",
       "unique               604711      3444.0      1633.0           NaN   \n",
       "top     2021-09-29 19:14:40        17.0        22.0           NaN   \n",
       "freq                    140   2280422.0    613367.0           NaN   \n",
       "first   2021-09-26 00:00:00         NaN         NaN           NaN   \n",
       "last    2021-10-02 23:59:59         NaN         NaN           NaN   \n",
       "mean                    NaN         NaN         NaN  4.610505e+18   \n",
       "std                     NaN         NaN         NaN  2.663858e+18   \n",
       "min                     NaN         NaN         NaN  1.116911e+12   \n",
       "25%                     NaN         NaN         NaN  2.297977e+18   \n",
       "50%                     NaN         NaN         NaN  4.614236e+18   \n",
       "75%                     NaN         NaN         NaN  6.914243e+18   \n",
       "max                     NaN         NaN         NaN  9.223371e+18   \n",
       "\n",
       "        campaign_clicks       os_id  country_id    banner_id0         rate0  \\\n",
       "count      1.582147e+07  15821471.0  15821471.0  1.582147e+07  1.582140e+07   \n",
       "unique              NaN        11.0        17.0           NaN           NaN   \n",
       "top                 NaN         2.0         0.0           NaN           NaN   \n",
       "freq                NaN   4589979.0   4956393.0           NaN           NaN   \n",
       "first               NaN         NaN         NaN           NaN           NaN   \n",
       "last                NaN         NaN         NaN           NaN           NaN   \n",
       "mean       6.238540e-01         NaN         NaN  6.571315e+05  1.969248e-01   \n",
       "std        9.249152e+00         NaN         NaN  2.606008e+06  2.733441e+00   \n",
       "min        0.000000e+00         NaN         NaN  0.000000e+00  0.000000e+00   \n",
       "25%        0.000000e+00         NaN         NaN  7.300000e+01  5.000000e-03   \n",
       "50%        0.000000e+00         NaN         NaN  3.030000e+02  1.000000e-02   \n",
       "75%        0.000000e+00         NaN         NaN  7.200000e+02  3.000000e-02   \n",
       "max        8.290000e+02         NaN         NaN  1.146423e+07  1.000000e+02   \n",
       "\n",
       "                  g0    coeff_sum0    banner_id1         rate1            g1  \\\n",
       "count   1.582140e+07  1.582140e+07  1.582147e+07  1.580173e+07  1.580173e+07   \n",
       "unique           NaN           NaN           NaN           NaN           NaN   \n",
       "top              NaN           NaN           NaN           NaN           NaN   \n",
       "freq             NaN           NaN           NaN           NaN           NaN   \n",
       "first            NaN           NaN           NaN           NaN           NaN   \n",
       "last             NaN           NaN           NaN           NaN           NaN   \n",
       "mean    7.440765e-01 -3.979590e+00  2.605069e+06  1.415899e+00  5.485722e-01   \n",
       "std     1.670358e+01  1.143982e+00  5.230253e+06  8.689053e+00  1.419136e+01   \n",
       "min    -1.763740e-02 -8.588970e+00  0.000000e+00  0.000000e+00 -6.983897e-02   \n",
       "25%     1.643856e-02 -4.515871e+00  9.900000e+01  4.000000e-03  1.615219e-02   \n",
       "50%     3.539307e-02 -3.921164e+00  4.600000e+02  1.400000e-02  3.556666e-02   \n",
       "75%     8.022936e-02 -3.421280e+00  1.236000e+03  5.000000e-02  7.546752e-02   \n",
       "max     6.910888e+02  3.149981e-01  1.462360e+07  1.000000e+02  6.910885e+02   \n",
       "\n",
       "          coeff_sum1  impressions        clicks           day  \n",
       "count   1.580173e+07   15821471.0  1.582147e+07  1.582147e+07  \n",
       "unique           NaN          NaN           NaN           NaN  \n",
       "top              NaN          NaN           NaN           NaN  \n",
       "freq             NaN          NaN           NaN           NaN  \n",
       "first            NaN          NaN           NaN           NaN  \n",
       "last             NaN          NaN           NaN           NaN  \n",
       "mean   -3.968883e+00          1.0  2.668835e-02  2.695049e+00  \n",
       "std     1.186403e+00          0.0  1.611710e-01  2.039565e+00  \n",
       "min    -9.562188e+00          1.0  0.000000e+00  0.000000e+00  \n",
       "25%    -4.529519e+00          1.0  0.000000e+00  1.000000e+00  \n",
       "50%    -3.928674e+00          1.0  0.000000e+00  3.000000e+00  \n",
       "75%    -3.390867e+00          1.0  0.000000e+00  4.000000e+00  \n",
       "max     4.756181e-01          1.0  1.000000e+00  6.000000e+00  "
      ]
     },
     "execution_count": 21,
     "metadata": {},
     "output_type": "execute_result"
    }
   ],
   "source": [
    "data.describe(include='all')"
   ]
  },
  {
   "cell_type": "markdown",
   "metadata": {},
   "source": [
    "## train dev test split"
   ]
  },
  {
   "cell_type": "code",
   "execution_count": 22,
   "metadata": {},
   "outputs": [
    {
     "data": {
      "text/plain": [
       "(12049045, 1643448, 2128978, 2128978)"
      ]
     },
     "execution_count": 22,
     "metadata": {},
     "output_type": "execute_result"
    }
   ],
   "source": [
    "train = data[data.day <= 4]\n",
    "dev = data[data.day == 5]\n",
    "test = data[data.day == 6]\n",
    "test_feats = test.drop(\"clicks\", axis='columns')\n",
    "\n",
    "len(train), len(dev), len(test), len(test_feats)"
   ]
  },
  {
   "cell_type": "code",
   "execution_count": 23,
   "metadata": {},
   "outputs": [
    {
     "data": {
      "text/plain": [
       "Index(['date_time', 'zone_id', 'banner_id', 'oaid_hash', 'campaign_clicks',\n",
       "       'os_id', 'country_id', 'banner_id0', 'rate0', 'g0', 'coeff_sum0',\n",
       "       'banner_id1', 'rate1', 'g1', 'coeff_sum1', 'impressions', 'day'],\n",
       "      dtype='object')"
      ]
     },
     "execution_count": 23,
     "metadata": {},
     "output_type": "execute_result"
    }
   ],
   "source": [
    "test_feats.columns"
   ]
  },
  {
   "cell_type": "code",
   "execution_count": null,
   "metadata": {},
   "outputs": [],
   "source": []
  },
  {
   "cell_type": "markdown",
   "metadata": {},
   "source": [
    "## Prepare baseline"
   ]
  },
  {
   "cell_type": "code",
   "execution_count": 24,
   "metadata": {},
   "outputs": [
    {
     "data": {
      "text/plain": [
       "(0.02308797087238034, 0.04180174851896744)"
      ]
     },
     "execution_count": 24,
     "metadata": {},
     "output_type": "execute_result"
    }
   ],
   "source": [
    "train.clicks.mean(), dev.clicks.mean()"
   ]
  },
  {
   "cell_type": "markdown",
   "metadata": {},
   "source": [
    "## Predict constant learned from train"
   ]
  },
  {
   "cell_type": "code",
   "execution_count": 25,
   "metadata": {},
   "outputs": [
    {
     "data": {
      "text/plain": [
       "0.17990976856673876"
      ]
     },
     "execution_count": 25,
     "metadata": {},
     "output_type": "execute_result"
    }
   ],
   "source": [
    "metrics.log_loss(dev.clicks, [0.02308797087238034] * len(dev))"
   ]
  },
  {
   "cell_type": "code",
   "execution_count": 26,
   "metadata": {},
   "outputs": [
    {
     "data": {
      "text/plain": [
       "0.15592795520192157"
      ]
     },
     "execution_count": 26,
     "metadata": {},
     "output_type": "execute_result"
    }
   ],
   "source": [
    "metrics.log_loss(test.clicks, [0.02308797087238034] * len(test))"
   ]
  },
  {
   "cell_type": "markdown",
   "metadata": {},
   "source": [
    "## Predict constant learned from dev"
   ]
  },
  {
   "cell_type": "code",
   "execution_count": 27,
   "metadata": {},
   "outputs": [
    {
     "data": {
      "text/plain": [
       "0.1736285268660261"
      ]
     },
     "execution_count": 27,
     "metadata": {},
     "output_type": "execute_result"
    }
   ],
   "source": [
    "metrics.log_loss(dev.clicks, [0.04180174851896744] * len(dev))"
   ]
  },
  {
   "cell_type": "code",
   "execution_count": 28,
   "metadata": {},
   "outputs": [
    {
     "data": {
      "text/plain": [
       "0.15357188282131304"
      ]
     },
     "execution_count": 28,
     "metadata": {},
     "output_type": "execute_result"
    }
   ],
   "source": [
    "metrics.log_loss(test.clicks, [0.04180174851896744] * len(test))"
   ]
  },
  {
   "cell_type": "code",
   "execution_count": null,
   "metadata": {},
   "outputs": [],
   "source": []
  },
  {
   "cell_type": "markdown",
   "metadata": {},
   "source": [
    "## Apply logistic regression with liblinear optimizer for 'zone_id', 'banner_id', 'os_id', 'country_id'\n",
    "\n",
    "Will not use model with interactions because it has almost same quality"
   ]
  },
  {
   "cell_type": "code",
   "execution_count": 29,
   "metadata": {},
   "outputs": [
    {
     "data": {
      "text/plain": [
       "['zone_id', 'banner_id', 'os_id', 'country_id']"
      ]
     },
     "execution_count": 29,
     "metadata": {},
     "output_type": "execute_result"
    }
   ],
   "source": [
    "categorical_columns"
   ]
  },
  {
   "cell_type": "code",
   "execution_count": 30,
   "metadata": {},
   "outputs": [],
   "source": [
    "X_train_cat = train[categorical_columns].to_numpy()"
   ]
  },
  {
   "cell_type": "code",
   "execution_count": 31,
   "metadata": {
    "scrolled": true
   },
   "outputs": [],
   "source": [
    "ohe = preprocessing.OneHotEncoder(categories=[range(3444), range(1633), range(11), range(17)])"
   ]
  },
  {
   "cell_type": "code",
   "execution_count": 32,
   "metadata": {},
   "outputs": [
    {
     "data": {
      "text/plain": [
       "OneHotEncoder(categories=[range(0, 3444), range(0, 1633), range(0, 11),\n",
       "                          range(0, 17)])"
      ]
     },
     "execution_count": 32,
     "metadata": {},
     "output_type": "execute_result"
    }
   ],
   "source": [
    "ohe.fit(X_train_cat)"
   ]
  },
  {
   "cell_type": "code",
   "execution_count": 33,
   "metadata": {},
   "outputs": [],
   "source": [
    "X_train = ohe.transform(X_train_cat)"
   ]
  },
  {
   "cell_type": "code",
   "execution_count": 34,
   "metadata": {},
   "outputs": [
    {
     "data": {
      "text/plain": [
       "(12049045, 5105)"
      ]
     },
     "execution_count": 34,
     "metadata": {},
     "output_type": "execute_result"
    }
   ],
   "source": [
    "X_train.shape"
   ]
  },
  {
   "cell_type": "code",
   "execution_count": 35,
   "metadata": {},
   "outputs": [],
   "source": [
    "model = linear_model.LogisticRegression(solver='liblinear')"
   ]
  },
  {
   "cell_type": "code",
   "execution_count": 36,
   "metadata": {},
   "outputs": [],
   "source": [
    "shuffled_train_idxs = list(range(len(train)))\n",
    "np.random.shuffle(shuffled_train_idxs)"
   ]
  },
  {
   "cell_type": "code",
   "execution_count": null,
   "metadata": {},
   "outputs": [],
   "source": []
  },
  {
   "cell_type": "code",
   "execution_count": 37,
   "metadata": {
    "scrolled": true
   },
   "outputs": [
    {
     "name": "stdout",
     "output_type": "stream",
     "text": [
      "CPU times: user 1min 12s, sys: 3.84 s, total: 1min 16s\n",
      "Wall time: 28.9 s\n"
     ]
    },
    {
     "data": {
      "text/plain": [
       "LogisticRegression(solver='liblinear')"
      ]
     },
     "execution_count": 37,
     "metadata": {},
     "output_type": "execute_result"
    }
   ],
   "source": [
    "%%time\n",
    "model.fit(X_train[shuffled_train_idxs[:2000000]], train.clicks.to_numpy()[shuffled_train_idxs[:2000000]])"
   ]
  },
  {
   "cell_type": "code",
   "execution_count": null,
   "metadata": {},
   "outputs": [],
   "source": []
  },
  {
   "cell_type": "code",
   "execution_count": 38,
   "metadata": {},
   "outputs": [],
   "source": [
    "X_dev = ohe.transform(dev[categorical_columns].to_numpy())"
   ]
  },
  {
   "cell_type": "code",
   "execution_count": 39,
   "metadata": {},
   "outputs": [
    {
     "name": "stdout",
     "output_type": "stream",
     "text": [
      "CPU times: user 80 ms, sys: 4 ms, total: 84 ms\n",
      "Wall time: 82.5 ms\n"
     ]
    }
   ],
   "source": [
    "%%time\n",
    "dev_predict = model.predict_proba(X_dev)"
   ]
  },
  {
   "cell_type": "code",
   "execution_count": 40,
   "metadata": {},
   "outputs": [
    {
     "data": {
      "text/plain": [
       "0.15287545717148104"
      ]
     },
     "execution_count": 40,
     "metadata": {},
     "output_type": "execute_result"
    }
   ],
   "source": [
    "metrics.log_loss(dev.clicks, dev_predict)"
   ]
  },
  {
   "cell_type": "code",
   "execution_count": null,
   "metadata": {},
   "outputs": [],
   "source": []
  },
  {
   "cell_type": "code",
   "execution_count": 41,
   "metadata": {},
   "outputs": [
    {
     "data": {
      "text/plain": [
       "0.13597807111968535"
      ]
     },
     "execution_count": 41,
     "metadata": {},
     "output_type": "execute_result"
    }
   ],
   "source": [
    "X_test = ohe.transform(test_feats[categorical_columns].to_numpy())\n",
    "test_predict = model.predict_proba(X_test)\n",
    "metrics.log_loss(test.clicks, test_predict)"
   ]
  },
  {
   "cell_type": "code",
   "execution_count": null,
   "metadata": {},
   "outputs": [],
   "source": []
  },
  {
   "cell_type": "markdown",
   "metadata": {},
   "source": [
    "## Filter test data"
   ]
  },
  {
   "cell_type": "markdown",
   "metadata": {},
   "source": [
    "### Remove also data with banners_id1 > 1632 (hope I'll fix it later)"
   ]
  },
  {
   "cell_type": "code",
   "execution_count": 64,
   "metadata": {},
   "outputs": [
    {
     "data": {
      "text/plain": [
       "((2128978, 18), (2128978, 17))"
      ]
     },
     "execution_count": 64,
     "metadata": {},
     "output_type": "execute_result"
    }
   ],
   "source": [
    "test.shape, test_feats.shape"
   ]
  },
  {
   "cell_type": "code",
   "execution_count": 127,
   "metadata": {},
   "outputs": [
    {
     "data": {
      "text/plain": [
       "462433"
      ]
     },
     "execution_count": 127,
     "metadata": {},
     "output_type": "execute_result"
    }
   ],
   "source": [
    "((test.banner_id == test.banner_id0) & (test.banner_id1 > 1632)).sum()"
   ]
  },
  {
   "cell_type": "code",
   "execution_count": 135,
   "metadata": {},
   "outputs": [
    {
     "data": {
      "text/plain": [
       "<AxesSubplot:>"
      ]
     },
     "execution_count": 135,
     "metadata": {},
     "output_type": "execute_result"
    },
    {
     "data": {
      "image/png": "[encoded data removed]",
      "text/plain": [
       "<Figure size 432x288 with 1 Axes>"
      ]
     },
     "metadata": {
      "needs_background": "light"
     },
     "output_type": "display_data"
    }
   ],
   "source": [
    "test[test.g0 < 0.01].g0.hist(log=True)"
   ]
  },
  {
   "cell_type": "code",
   "execution_count": 133,
   "metadata": {},
   "outputs": [
    {
     "data": {
      "text/plain": [
       "17352"
      ]
     },
     "execution_count": 133,
     "metadata": {},
     "output_type": "execute_result"
    }
   ],
   "source": [
    "(test.g0 < 0.001).sum()"
   ]
  },
  {
   "cell_type": "code",
   "execution_count": 134,
   "metadata": {},
   "outputs": [
    {
     "data": {
      "text/plain": [
       "32539"
      ]
     },
     "execution_count": 134,
     "metadata": {},
     "output_type": "execute_result"
    }
   ],
   "source": [
    "(test.g1 < 0.001).sum()"
   ]
  },
  {
   "cell_type": "code",
   "execution_count": 149,
   "metadata": {},
   "outputs": [],
   "source": [
    "filtered_test = test[\n",
    "    (test.banner_id == test.banner_id0) & (test.banner_id1 <= 1632) & (test.g0 >= 0.001) & (test.g1 >= 0.001)\n",
    "]\n",
    "banner_0_feats = filtered_test[categorical_columns]\n",
    "banner_1_feats = filtered_test[categorical_columns].copy()\n",
    "banner_1_feats.banner_id = filtered_test.banner_id1"
   ]
  },
  {
   "cell_type": "code",
   "execution_count": 150,
   "metadata": {},
   "outputs": [
    {
     "data": {
      "text/plain": [
       "((1428059, 18), (1428059, 4), (1428059, 4))"
      ]
     },
     "execution_count": 150,
     "metadata": {},
     "output_type": "execute_result"
    }
   ],
   "source": [
    "filtered_test.shape, banner_0_feats.shape, banner_1_feats.shape"
   ]
  },
  {
   "cell_type": "code",
   "execution_count": 151,
   "metadata": {},
   "outputs": [
    {
     "data": {
      "text/html": [
       "<div>\n",
       "<style scoped>\n",
       "    .dataframe tbody tr th:only-of-type {\n",
       "        vertical-align: middle;\n",
       "    }\n",
       "\n",
       "    .dataframe tbody tr th {\n",
       "        vertical-align: top;\n",
       "    }\n",
       "\n",
       "    .dataframe thead th {\n",
       "        text-align: right;\n",
       "    }\n",
       "</style>\n",
       "<table border=\"1\" class=\"dataframe\">\n",
       "  <thead>\n",
       "    <tr style=\"text-align: right;\">\n",
       "      <th></th>\n",
       "      <th>date_time</th>\n",
       "      <th>zone_id</th>\n",
       "      <th>banner_id</th>\n",
       "      <th>oaid_hash</th>\n",
       "      <th>campaign_clicks</th>\n",
       "      <th>os_id</th>\n",
       "      <th>country_id</th>\n",
       "      <th>banner_id0</th>\n",
       "      <th>rate0</th>\n",
       "      <th>g0</th>\n",
       "      <th>coeff_sum0</th>\n",
       "      <th>banner_id1</th>\n",
       "      <th>rate1</th>\n",
       "      <th>g1</th>\n",
       "      <th>coeff_sum1</th>\n",
       "      <th>impressions</th>\n",
       "      <th>clicks</th>\n",
       "      <th>day</th>\n",
       "    </tr>\n",
       "  </thead>\n",
       "  <tbody>\n",
       "    <tr>\n",
       "      <th>164</th>\n",
       "      <td>2021-10-02 00:01:07</td>\n",
       "      <td>8</td>\n",
       "      <td>76</td>\n",
       "      <td>8008530729166508034</td>\n",
       "      <td>0</td>\n",
       "      <td>1</td>\n",
       "      <td>3</td>\n",
       "      <td>76</td>\n",
       "      <td>0.008</td>\n",
       "      <td>0.055551</td>\n",
       "      <td>-2.926980</td>\n",
       "      <td>401</td>\n",
       "      <td>0.003</td>\n",
       "      <td>0.030272</td>\n",
       "      <td>-3.390642</td>\n",
       "      <td>1</td>\n",
       "      <td>1</td>\n",
       "      <td>6</td>\n",
       "    </tr>\n",
       "    <tr>\n",
       "      <th>169</th>\n",
       "      <td>2021-10-02 00:04:12</td>\n",
       "      <td>14</td>\n",
       "      <td>46</td>\n",
       "      <td>5180296235094691109</td>\n",
       "      <td>0</td>\n",
       "      <td>0</td>\n",
       "      <td>0</td>\n",
       "      <td>46</td>\n",
       "      <td>0.004</td>\n",
       "      <td>0.017439</td>\n",
       "      <td>-2.493974</td>\n",
       "      <td>0</td>\n",
       "      <td>0.010</td>\n",
       "      <td>0.017624</td>\n",
       "      <td>-3.889516</td>\n",
       "      <td>1</td>\n",
       "      <td>1</td>\n",
       "      <td>6</td>\n",
       "    </tr>\n",
       "    <tr>\n",
       "      <th>359</th>\n",
       "      <td>2021-10-02 00:01:09</td>\n",
       "      <td>14</td>\n",
       "      <td>2</td>\n",
       "      <td>4843044827996727497</td>\n",
       "      <td>0</td>\n",
       "      <td>0</td>\n",
       "      <td>0</td>\n",
       "      <td>2</td>\n",
       "      <td>0.014</td>\n",
       "      <td>0.020414</td>\n",
       "      <td>-2.154111</td>\n",
       "      <td>49</td>\n",
       "      <td>0.014</td>\n",
       "      <td>0.068041</td>\n",
       "      <td>-3.088063</td>\n",
       "      <td>1</td>\n",
       "      <td>1</td>\n",
       "      <td>6</td>\n",
       "    </tr>\n",
       "    <tr>\n",
       "      <th>361</th>\n",
       "      <td>2021-10-02 00:02:34</td>\n",
       "      <td>55</td>\n",
       "      <td>131</td>\n",
       "      <td>7553975436848867369</td>\n",
       "      <td>0</td>\n",
       "      <td>1</td>\n",
       "      <td>7</td>\n",
       "      <td>131</td>\n",
       "      <td>0.001</td>\n",
       "      <td>0.234356</td>\n",
       "      <td>-3.850595</td>\n",
       "      <td>78</td>\n",
       "      <td>0.001</td>\n",
       "      <td>0.230436</td>\n",
       "      <td>-3.866019</td>\n",
       "      <td>1</td>\n",
       "      <td>1</td>\n",
       "      <td>6</td>\n",
       "    </tr>\n",
       "    <tr>\n",
       "      <th>362</th>\n",
       "      <td>2021-10-02 00:03:24</td>\n",
       "      <td>86</td>\n",
       "      <td>84</td>\n",
       "      <td>2874462738663473300</td>\n",
       "      <td>0</td>\n",
       "      <td>3</td>\n",
       "      <td>0</td>\n",
       "      <td>84</td>\n",
       "      <td>0.001</td>\n",
       "      <td>0.065159</td>\n",
       "      <td>-2.982837</td>\n",
       "      <td>149</td>\n",
       "      <td>0.001</td>\n",
       "      <td>0.136913</td>\n",
       "      <td>-3.271700</td>\n",
       "      <td>1</td>\n",
       "      <td>1</td>\n",
       "      <td>6</td>\n",
       "    </tr>\n",
       "  </tbody>\n",
       "</table>\n",
       "</div>"
      ],
      "text/plain": [
       "              date_time zone_id banner_id            oaid_hash  \\\n",
       "164 2021-10-02 00:01:07       8        76  8008530729166508034   \n",
       "169 2021-10-02 00:04:12      14        46  5180296235094691109   \n",
       "359 2021-10-02 00:01:09      14         2  4843044827996727497   \n",
       "361 2021-10-02 00:02:34      55       131  7553975436848867369   \n",
       "362 2021-10-02 00:03:24      86        84  2874462738663473300   \n",
       "\n",
       "     campaign_clicks os_id country_id  banner_id0  rate0        g0  \\\n",
       "164                0     1          3          76  0.008  0.055551   \n",
       "169                0     0          0          46  0.004  0.017439   \n",
       "359                0     0          0           2  0.014  0.020414   \n",
       "361                0     1          7         131  0.001  0.234356   \n",
       "362                0     3          0          84  0.001  0.065159   \n",
       "\n",
       "     coeff_sum0  banner_id1  rate1        g1  coeff_sum1  impressions  clicks  \\\n",
       "164   -2.926980         401  0.003  0.030272   -3.390642            1       1   \n",
       "169   -2.493974           0  0.010  0.017624   -3.889516            1       1   \n",
       "359   -2.154111          49  0.014  0.068041   -3.088063            1       1   \n",
       "361   -3.850595          78  0.001  0.230436   -3.866019            1       1   \n",
       "362   -2.982837         149  0.001  0.136913   -3.271700            1       1   \n",
       "\n",
       "     day  \n",
       "164    6  \n",
       "169    6  \n",
       "359    6  \n",
       "361    6  \n",
       "362    6  "
      ]
     },
     "execution_count": 151,
     "metadata": {},
     "output_type": "execute_result"
    }
   ],
   "source": [
    "filtered_test.head()"
   ]
  },
  {
   "cell_type": "code",
   "execution_count": 152,
   "metadata": {},
   "outputs": [
    {
     "data": {
      "text/html": [
       "<div>\n",
       "<style scoped>\n",
       "    .dataframe tbody tr th:only-of-type {\n",
       "        vertical-align: middle;\n",
       "    }\n",
       "\n",
       "    .dataframe tbody tr th {\n",
       "        vertical-align: top;\n",
       "    }\n",
       "\n",
       "    .dataframe thead th {\n",
       "        text-align: right;\n",
       "    }\n",
       "</style>\n",
       "<table border=\"1\" class=\"dataframe\">\n",
       "  <thead>\n",
       "    <tr style=\"text-align: right;\">\n",
       "      <th></th>\n",
       "      <th>zone_id</th>\n",
       "      <th>banner_id</th>\n",
       "      <th>os_id</th>\n",
       "      <th>country_id</th>\n",
       "    </tr>\n",
       "  </thead>\n",
       "  <tbody>\n",
       "    <tr>\n",
       "      <th>164</th>\n",
       "      <td>8</td>\n",
       "      <td>76</td>\n",
       "      <td>1</td>\n",
       "      <td>3</td>\n",
       "    </tr>\n",
       "    <tr>\n",
       "      <th>169</th>\n",
       "      <td>14</td>\n",
       "      <td>46</td>\n",
       "      <td>0</td>\n",
       "      <td>0</td>\n",
       "    </tr>\n",
       "    <tr>\n",
       "      <th>359</th>\n",
       "      <td>14</td>\n",
       "      <td>2</td>\n",
       "      <td>0</td>\n",
       "      <td>0</td>\n",
       "    </tr>\n",
       "    <tr>\n",
       "      <th>361</th>\n",
       "      <td>55</td>\n",
       "      <td>131</td>\n",
       "      <td>1</td>\n",
       "      <td>7</td>\n",
       "    </tr>\n",
       "    <tr>\n",
       "      <th>362</th>\n",
       "      <td>86</td>\n",
       "      <td>84</td>\n",
       "      <td>3</td>\n",
       "      <td>0</td>\n",
       "    </tr>\n",
       "  </tbody>\n",
       "</table>\n",
       "</div>"
      ],
      "text/plain": [
       "    zone_id banner_id os_id country_id\n",
       "164       8        76     1          3\n",
       "169      14        46     0          0\n",
       "359      14         2     0          0\n",
       "361      55       131     1          7\n",
       "362      86        84     3          0"
      ]
     },
     "execution_count": 152,
     "metadata": {},
     "output_type": "execute_result"
    }
   ],
   "source": [
    "banner_0_feats.head()"
   ]
  },
  {
   "cell_type": "code",
   "execution_count": 153,
   "metadata": {},
   "outputs": [
    {
     "data": {
      "text/html": [
       "<div>\n",
       "<style scoped>\n",
       "    .dataframe tbody tr th:only-of-type {\n",
       "        vertical-align: middle;\n",
       "    }\n",
       "\n",
       "    .dataframe tbody tr th {\n",
       "        vertical-align: top;\n",
       "    }\n",
       "\n",
       "    .dataframe thead th {\n",
       "        text-align: right;\n",
       "    }\n",
       "</style>\n",
       "<table border=\"1\" class=\"dataframe\">\n",
       "  <thead>\n",
       "    <tr style=\"text-align: right;\">\n",
       "      <th></th>\n",
       "      <th>zone_id</th>\n",
       "      <th>banner_id</th>\n",
       "      <th>os_id</th>\n",
       "      <th>country_id</th>\n",
       "    </tr>\n",
       "  </thead>\n",
       "  <tbody>\n",
       "    <tr>\n",
       "      <th>164</th>\n",
       "      <td>8</td>\n",
       "      <td>401</td>\n",
       "      <td>1</td>\n",
       "      <td>3</td>\n",
       "    </tr>\n",
       "    <tr>\n",
       "      <th>169</th>\n",
       "      <td>14</td>\n",
       "      <td>0</td>\n",
       "      <td>0</td>\n",
       "      <td>0</td>\n",
       "    </tr>\n",
       "    <tr>\n",
       "      <th>359</th>\n",
       "      <td>14</td>\n",
       "      <td>49</td>\n",
       "      <td>0</td>\n",
       "      <td>0</td>\n",
       "    </tr>\n",
       "    <tr>\n",
       "      <th>361</th>\n",
       "      <td>55</td>\n",
       "      <td>78</td>\n",
       "      <td>1</td>\n",
       "      <td>7</td>\n",
       "    </tr>\n",
       "    <tr>\n",
       "      <th>362</th>\n",
       "      <td>86</td>\n",
       "      <td>149</td>\n",
       "      <td>3</td>\n",
       "      <td>0</td>\n",
       "    </tr>\n",
       "  </tbody>\n",
       "</table>\n",
       "</div>"
      ],
      "text/plain": [
       "    zone_id  banner_id os_id country_id\n",
       "164       8        401     1          3\n",
       "169      14          0     0          0\n",
       "359      14         49     0          0\n",
       "361      55         78     1          7\n",
       "362      86        149     3          0"
      ]
     },
     "execution_count": 153,
     "metadata": {},
     "output_type": "execute_result"
    }
   ],
   "source": [
    "banner_1_feats.head()"
   ]
  },
  {
   "cell_type": "code",
   "execution_count": null,
   "metadata": {},
   "outputs": [],
   "source": []
  },
  {
   "cell_type": "markdown",
   "metadata": {},
   "source": [
    "## Prepare coeff_sum0_new and coeff_sum_1_new"
   ]
  },
  {
   "cell_type": "code",
   "execution_count": 163,
   "metadata": {},
   "outputs": [],
   "source": [
    "coeff_sum0_new_proba = model.predict_proba(ohe.transform(banner_0_feats.to_numpy()))\n",
    "coeff_sum1_new_proba = model.predict_proba(ohe.transform(banner_1_feats.to_numpy()))"
   ]
  },
  {
   "cell_type": "code",
   "execution_count": 164,
   "metadata": {},
   "outputs": [
    {
     "data": {
      "text/plain": [
       "array([[0.95908758, 0.04091242],\n",
       "       [0.92947218, 0.07052782],\n",
       "       [0.92658183, 0.07341817],\n",
       "       [0.99094934, 0.00905066],\n",
       "       [0.95325156, 0.04674844],\n",
       "       [0.92947218, 0.07052782],\n",
       "       [0.92947218, 0.07052782],\n",
       "       [0.85471713, 0.14528287],\n",
       "       [0.96087574, 0.03912426],\n",
       "       [0.92495106, 0.07504894]])"
      ]
     },
     "execution_count": 164,
     "metadata": {},
     "output_type": "execute_result"
    }
   ],
   "source": [
    "coeff_sum0_new_proba[:10]"
   ]
  },
  {
   "cell_type": "code",
   "execution_count": 165,
   "metadata": {},
   "outputs": [
    {
     "data": {
      "text/plain": [
       "array([[0.97338641, 0.02661359],\n",
       "       [0.95144105, 0.04855895],\n",
       "       [0.93316422, 0.06683578],\n",
       "       [0.99001454, 0.00998546],\n",
       "       [0.96711891, 0.03288109],\n",
       "       [0.95144105, 0.04855895],\n",
       "       [0.95144105, 0.04855895],\n",
       "       [0.86051013, 0.13948987],\n",
       "       [0.95774518, 0.04225482],\n",
       "       [0.92012207, 0.07987793]])"
      ]
     },
     "execution_count": 165,
     "metadata": {},
     "output_type": "execute_result"
    }
   ],
   "source": [
    "coeff_sum1_new_proba[:10]"
   ]
  },
  {
   "cell_type": "code",
   "execution_count": 167,
   "metadata": {},
   "outputs": [],
   "source": [
    "coeff_sum0_new = scipy.special.logit(coeff_sum0_new_proba[:, 1])\n",
    "coeff_sum1_new = scipy.special.logit(coeff_sum1_new_proba[:, 1])"
   ]
  },
  {
   "cell_type": "code",
   "execution_count": 168,
   "metadata": {},
   "outputs": [
    {
     "data": {
      "text/plain": [
       "array([-3.15454874, -2.57860964, -2.53533091, -4.69582577, -3.01509793,\n",
       "       -2.57860964, -2.57860964, -1.77208791, -3.20110244, -2.51160042])"
      ]
     },
     "execution_count": 168,
     "metadata": {},
     "output_type": "execute_result"
    }
   ],
   "source": [
    "coeff_sum0_new[:10]"
   ]
  },
  {
   "cell_type": "code",
   "execution_count": 169,
   "metadata": {},
   "outputs": [
    {
     "data": {
      "text/plain": [
       "array([-3.59935924, -2.97519918, -2.63634263, -4.59658944, -3.38142389,\n",
       "       -2.97519918, -2.97519918, -1.81953342, -3.12086344, -2.44400675])"
      ]
     },
     "execution_count": 169,
     "metadata": {},
     "output_type": "execute_result"
    }
   ],
   "source": [
    "coeff_sum1_new[:10]"
   ]
  },
  {
   "cell_type": "code",
   "execution_count": null,
   "metadata": {},
   "outputs": [],
   "source": []
  },
  {
   "cell_type": "markdown",
   "metadata": {},
   "source": [
    "## Calc policies"
   ]
  },
  {
   "cell_type": "code",
   "execution_count": 170,
   "metadata": {},
   "outputs": [],
   "source": [
    "def calc_policy(coeff_sum0, coeff_sum1, g0, g1):\n",
    "    return scipy.stats.norm.cdf(0, loc=coeff_sum1 - coeff_sum0, scale=(g0**2 + g1**2)**0.5)"
   ]
  },
  {
   "cell_type": "code",
   "execution_count": 233,
   "metadata": {},
   "outputs": [],
   "source": [
    "p0 = calc_policy(\n",
    "    filtered_test.coeff_sum0, filtered_test.coeff_sum1,\n",
    "    filtered_test.g0, filtered_test.g1\n",
    ")\n",
    "p0 = pd.DataFrame(p0, index=filtered_test.index, columns=['old p'])"
   ]
  },
  {
   "cell_type": "code",
   "execution_count": 234,
   "metadata": {},
   "outputs": [],
   "source": [
    "p1 = calc_policy(\n",
    "    coeff_sum0_new, coeff_sum1_new,\n",
    "    filtered_test.g0, filtered_test.g1\n",
    ")\n",
    "p1 = pd.DataFrame(p1, index=filtered_test.index, columns=['new p'])"
   ]
  },
  {
   "cell_type": "markdown",
   "metadata": {},
   "source": [
    "### Sanity check"
   ]
  },
  {
   "cell_type": "code",
   "execution_count": 235,
   "metadata": {},
   "outputs": [
    {
     "data": {
      "text/html": [
       "<div>\n",
       "<style scoped>\n",
       "    .dataframe tbody tr th:only-of-type {\n",
       "        vertical-align: middle;\n",
       "    }\n",
       "\n",
       "    .dataframe tbody tr th {\n",
       "        vertical-align: top;\n",
       "    }\n",
       "\n",
       "    .dataframe thead th {\n",
       "        text-align: right;\n",
       "    }\n",
       "</style>\n",
       "<table border=\"1\" class=\"dataframe\">\n",
       "  <thead>\n",
       "    <tr style=\"text-align: right;\">\n",
       "      <th></th>\n",
       "      <th>old sum0 - sum1</th>\n",
       "      <th>old p</th>\n",
       "    </tr>\n",
       "  </thead>\n",
       "  <tbody>\n",
       "    <tr>\n",
       "      <th>164</th>\n",
       "      <td>0.463663</td>\n",
       "      <td>1.000000</td>\n",
       "    </tr>\n",
       "    <tr>\n",
       "      <th>169</th>\n",
       "      <td>1.395542</td>\n",
       "      <td>1.000000</td>\n",
       "    </tr>\n",
       "    <tr>\n",
       "      <th>359</th>\n",
       "      <td>0.933951</td>\n",
       "      <td>1.000000</td>\n",
       "    </tr>\n",
       "    <tr>\n",
       "      <th>361</th>\n",
       "      <td>0.015425</td>\n",
       "      <td>0.518716</td>\n",
       "    </tr>\n",
       "    <tr>\n",
       "      <th>362</th>\n",
       "      <td>0.288863</td>\n",
       "      <td>0.971615</td>\n",
       "    </tr>\n",
       "    <tr>\n",
       "      <th>363</th>\n",
       "      <td>1.395542</td>\n",
       "      <td>1.000000</td>\n",
       "    </tr>\n",
       "    <tr>\n",
       "      <th>433</th>\n",
       "      <td>1.395542</td>\n",
       "      <td>1.000000</td>\n",
       "    </tr>\n",
       "    <tr>\n",
       "      <th>438</th>\n",
       "      <td>1.115192</td>\n",
       "      <td>1.000000</td>\n",
       "    </tr>\n",
       "    <tr>\n",
       "      <th>439</th>\n",
       "      <td>0.210941</td>\n",
       "      <td>0.981799</td>\n",
       "    </tr>\n",
       "    <tr>\n",
       "      <th>440</th>\n",
       "      <td>0.207294</td>\n",
       "      <td>1.000000</td>\n",
       "    </tr>\n",
       "  </tbody>\n",
       "</table>\n",
       "</div>"
      ],
      "text/plain": [
       "     old sum0 - sum1     old p\n",
       "164         0.463663  1.000000\n",
       "169         1.395542  1.000000\n",
       "359         0.933951  1.000000\n",
       "361         0.015425  0.518716\n",
       "362         0.288863  0.971615\n",
       "363         1.395542  1.000000\n",
       "433         1.395542  1.000000\n",
       "438         1.115192  1.000000\n",
       "439         0.210941  0.981799\n",
       "440         0.207294  1.000000"
      ]
     },
     "execution_count": 235,
     "metadata": {},
     "output_type": "execute_result"
    }
   ],
   "source": [
    "pd.concat(\n",
    "    [\n",
    "        pd.DataFrame(\n",
    "            filtered_test.coeff_sum0 - filtered_test.coeff_sum1,\n",
    "            index=filtered_test.index,\n",
    "            columns=['old sum0 - sum1']\n",
    "        ),\n",
    "        p0\n",
    "    ],\n",
    "    axis=1\n",
    ")[:10]"
   ]
  },
  {
   "cell_type": "code",
   "execution_count": 236,
   "metadata": {},
   "outputs": [
    {
     "data": {
      "text/html": [
       "<div>\n",
       "<style scoped>\n",
       "    .dataframe tbody tr th:only-of-type {\n",
       "        vertical-align: middle;\n",
       "    }\n",
       "\n",
       "    .dataframe tbody tr th {\n",
       "        vertical-align: top;\n",
       "    }\n",
       "\n",
       "    .dataframe thead th {\n",
       "        text-align: right;\n",
       "    }\n",
       "</style>\n",
       "<table border=\"1\" class=\"dataframe\">\n",
       "  <thead>\n",
       "    <tr style=\"text-align: right;\">\n",
       "      <th></th>\n",
       "      <th>new sum0 - sum1</th>\n",
       "      <th>new p</th>\n",
       "    </tr>\n",
       "  </thead>\n",
       "  <tbody>\n",
       "    <tr>\n",
       "      <th>164</th>\n",
       "      <td>0.444811</td>\n",
       "      <td>1.000000</td>\n",
       "    </tr>\n",
       "    <tr>\n",
       "      <th>169</th>\n",
       "      <td>0.396590</td>\n",
       "      <td>1.000000</td>\n",
       "    </tr>\n",
       "    <tr>\n",
       "      <th>359</th>\n",
       "      <td>0.101012</td>\n",
       "      <td>0.922480</td>\n",
       "    </tr>\n",
       "    <tr>\n",
       "      <th>361</th>\n",
       "      <td>-0.099236</td>\n",
       "      <td>0.381351</td>\n",
       "    </tr>\n",
       "    <tr>\n",
       "      <th>362</th>\n",
       "      <td>0.366326</td>\n",
       "      <td>0.992153</td>\n",
       "    </tr>\n",
       "    <tr>\n",
       "      <th>363</th>\n",
       "      <td>0.396590</td>\n",
       "      <td>1.000000</td>\n",
       "    </tr>\n",
       "    <tr>\n",
       "      <th>433</th>\n",
       "      <td>0.396590</td>\n",
       "      <td>1.000000</td>\n",
       "    </tr>\n",
       "    <tr>\n",
       "      <th>438</th>\n",
       "      <td>0.047446</td>\n",
       "      <td>0.646642</td>\n",
       "    </tr>\n",
       "    <tr>\n",
       "      <th>439</th>\n",
       "      <td>-0.080239</td>\n",
       "      <td>0.213038</td>\n",
       "    </tr>\n",
       "    <tr>\n",
       "      <th>440</th>\n",
       "      <td>-0.067594</td>\n",
       "      <td>0.023292</td>\n",
       "    </tr>\n",
       "  </tbody>\n",
       "</table>\n",
       "</div>"
      ],
      "text/plain": [
       "     new sum0 - sum1     new p\n",
       "164         0.444811  1.000000\n",
       "169         0.396590  1.000000\n",
       "359         0.101012  0.922480\n",
       "361        -0.099236  0.381351\n",
       "362         0.366326  0.992153\n",
       "363         0.396590  1.000000\n",
       "433         0.396590  1.000000\n",
       "438         0.047446  0.646642\n",
       "439        -0.080239  0.213038\n",
       "440        -0.067594  0.023292"
      ]
     },
     "execution_count": 236,
     "metadata": {},
     "output_type": "execute_result"
    }
   ],
   "source": [
    "pd.concat(\n",
    "    [\n",
    "        pd.DataFrame(coeff_sum0_new - coeff_sum1_new, index=filtered_test.index, columns=['new sum0 - sum1']),\n",
    "        p1\n",
    "    ],\n",
    "    axis=1\n",
    ")[:10]"
   ]
  },
  {
   "cell_type": "code",
   "execution_count": null,
   "metadata": {},
   "outputs": [],
   "source": []
  },
  {
   "cell_type": "markdown",
   "metadata": {},
   "source": [
    "## Calculate clipped ips"
   ]
  },
  {
   "cell_type": "code",
   "execution_count": 237,
   "metadata": {},
   "outputs": [
    {
     "data": {
      "text/plain": [
       "old p    0.0\n",
       "dtype: float64"
      ]
     },
     "execution_count": 237,
     "metadata": {},
     "output_type": "execute_result"
    }
   ],
   "source": [
    "p0.min()"
   ]
  },
  {
   "cell_type": "code",
   "execution_count": 238,
   "metadata": {},
   "outputs": [
    {
     "data": {
      "text/plain": [
       "old p    8821\n",
       "dtype: int64"
      ]
     },
     "execution_count": 238,
     "metadata": {},
     "output_type": "execute_result"
    }
   ],
   "source": [
    "(p0 <= 0).sum()"
   ]
  },
  {
   "cell_type": "code",
   "execution_count": 239,
   "metadata": {},
   "outputs": [
    {
     "data": {
      "text/plain": [
       "(array([ 99510.,  31919.,  44466.,  67039., 222152., 264788.,  90353.,\n",
       "         76079.,  77175., 445757.]),\n",
       " array([6.114097e-311, 1.000000e-001, 2.000000e-001, 3.000000e-001,\n",
       "        4.000000e-001, 5.000000e-001, 6.000000e-001, 7.000000e-001,\n",
       "        8.000000e-001, 9.000000e-001, 1.000000e+000]),\n",
       " <BarContainer object of 10 artists>)"
      ]
     },
     "execution_count": 239,
     "metadata": {},
     "output_type": "execute_result"
    },
    {
     "data": {
      "image/png": "[encoded data removed]",
      "text/plain": [
       "<Figure size 432x288 with 1 Axes>"
      ]
     },
     "metadata": {
      "needs_background": "light"
     },
     "output_type": "display_data"
    }
   ],
   "source": [
    "plt.hist(p0[p0 > 0])"
   ]
  },
  {
   "cell_type": "code",
   "execution_count": 240,
   "metadata": {},
   "outputs": [
    {
     "data": {
      "text/plain": [
       "(array([70249.,  4338.,  3684.,  3287.,  3126.,  3159.,  2856.,  2897.,\n",
       "         2900.,  3014.]),\n",
       " array([6.11409700e-311, 9.99994471e-003, 1.99998894e-002, 2.99998341e-002,\n",
       "        3.99997788e-002, 4.99997235e-002, 5.99996683e-002, 6.99996130e-002,\n",
       "        7.99995577e-002, 8.99995024e-002, 9.99994471e-002]),\n",
       " <BarContainer object of 10 artists>)"
      ]
     },
     "execution_count": 240,
     "metadata": {},
     "output_type": "execute_result"
    },
    {
     "data": {
      "image/png": "[encoded data removed]",
      "text/plain": [
       "<Figure size 432x288 with 1 Axes>"
      ]
     },
     "metadata": {
      "needs_background": "light"
     },
     "output_type": "display_data"
    }
   ],
   "source": [
    "plt.hist(p0[(0.1 > p0) & (p0 > 0)])"
   ]
  },
  {
   "cell_type": "code",
   "execution_count": 241,
   "metadata": {},
   "outputs": [
    {
     "data": {
      "text/plain": [
       "(array([  470.,   360.,   292.,   306.,   425.,   682.,  1675.,  1702.,\n",
       "         9521., 84077.]),\n",
       " array([-714.29336683, -643.09428921, -571.89521159, -500.69613397,\n",
       "        -429.49705635, -358.29797873, -287.09890111, -215.89982349,\n",
       "        -144.70074586,  -73.50166824,   -2.30259062]),\n",
       " <BarContainer object of 10 artists>)"
      ]
     },
     "execution_count": 241,
     "metadata": {},
     "output_type": "execute_result"
    },
    {
     "data": {
      "image/png": "[encoded data removed]",
      "text/plain": [
       "<Figure size 432x288 with 1 Axes>"
      ]
     },
     "metadata": {
      "needs_background": "light"
     },
     "output_type": "display_data"
    }
   ],
   "source": [
    "plt.hist(np.log(p0[(0.1 > p0) & (p0 > 0)]))"
   ]
  },
  {
   "cell_type": "code",
   "execution_count": 242,
   "metadata": {},
   "outputs": [],
   "source": [
    "lmbd = 10"
   ]
  },
  {
   "cell_type": "code",
   "execution_count": 266,
   "metadata": {},
   "outputs": [
    {
     "name": "stdout",
     "output_type": "stream",
     "text": [
      "CPU times: user 156 ms, sys: 52 ms, total: 208 ms\n",
      "Wall time: 187 ms\n"
     ]
    }
   ],
   "source": [
    "%%time\n",
    "\n",
    "good_indices = p0[\"old p\"] > 0\n",
    "\n",
    "cips_terms = filtered_test[good_indices].clicks * np.minimum(p1[good_indices][\"new p\"] / p0[good_indices][\"old p\"], lmbd)"
   ]
  },
  {
   "cell_type": "code",
   "execution_count": 268,
   "metadata": {},
   "outputs": [
    {
     "data": {
      "text/plain": [
       "164    1.000000\n",
       "169    1.000000\n",
       "359    0.922480\n",
       "361    0.735183\n",
       "362    1.021138\n",
       "dtype: float64"
      ]
     },
     "execution_count": 268,
     "metadata": {},
     "output_type": "execute_result"
    }
   ],
   "source": [
    "cips_terms.head()"
   ]
  },
  {
   "cell_type": "code",
   "execution_count": 295,
   "metadata": {},
   "outputs": [
    {
     "data": {
      "text/html": [
       "<div>\n",
       "<style scoped>\n",
       "    .dataframe tbody tr th:only-of-type {\n",
       "        vertical-align: middle;\n",
       "    }\n",
       "\n",
       "    .dataframe tbody tr th {\n",
       "        vertical-align: top;\n",
       "    }\n",
       "\n",
       "    .dataframe thead th {\n",
       "        text-align: right;\n",
       "    }\n",
       "</style>\n",
       "<table border=\"1\" class=\"dataframe\">\n",
       "  <thead>\n",
       "    <tr style=\"text-align: right;\">\n",
       "      <th></th>\n",
       "      <th>cips</th>\n",
       "      <th>p0</th>\n",
       "      <th>p1</th>\n",
       "      <th>clicks</th>\n",
       "    </tr>\n",
       "  </thead>\n",
       "  <tbody>\n",
       "    <tr>\n",
       "      <th>164</th>\n",
       "      <td>1.000000</td>\n",
       "      <td>1.000000</td>\n",
       "      <td>1.000000</td>\n",
       "      <td>1</td>\n",
       "    </tr>\n",
       "    <tr>\n",
       "      <th>169</th>\n",
       "      <td>1.000000</td>\n",
       "      <td>1.000000</td>\n",
       "      <td>1.000000</td>\n",
       "      <td>1</td>\n",
       "    </tr>\n",
       "    <tr>\n",
       "      <th>359</th>\n",
       "      <td>0.922480</td>\n",
       "      <td>1.000000</td>\n",
       "      <td>0.922480</td>\n",
       "      <td>1</td>\n",
       "    </tr>\n",
       "    <tr>\n",
       "      <th>361</th>\n",
       "      <td>0.735183</td>\n",
       "      <td>0.518716</td>\n",
       "      <td>0.381351</td>\n",
       "      <td>1</td>\n",
       "    </tr>\n",
       "    <tr>\n",
       "      <th>362</th>\n",
       "      <td>1.021138</td>\n",
       "      <td>0.971615</td>\n",
       "      <td>0.992153</td>\n",
       "      <td>1</td>\n",
       "    </tr>\n",
       "    <tr>\n",
       "      <th>363</th>\n",
       "      <td>1.000000</td>\n",
       "      <td>1.000000</td>\n",
       "      <td>1.000000</td>\n",
       "      <td>1</td>\n",
       "    </tr>\n",
       "    <tr>\n",
       "      <th>433</th>\n",
       "      <td>1.000000</td>\n",
       "      <td>1.000000</td>\n",
       "      <td>1.000000</td>\n",
       "      <td>1</td>\n",
       "    </tr>\n",
       "    <tr>\n",
       "      <th>438</th>\n",
       "      <td>0.646642</td>\n",
       "      <td>1.000000</td>\n",
       "      <td>0.646642</td>\n",
       "      <td>1</td>\n",
       "    </tr>\n",
       "    <tr>\n",
       "      <th>439</th>\n",
       "      <td>0.216987</td>\n",
       "      <td>0.981799</td>\n",
       "      <td>0.213038</td>\n",
       "      <td>1</td>\n",
       "    </tr>\n",
       "    <tr>\n",
       "      <th>440</th>\n",
       "      <td>0.023292</td>\n",
       "      <td>1.000000</td>\n",
       "      <td>0.023292</td>\n",
       "      <td>1</td>\n",
       "    </tr>\n",
       "  </tbody>\n",
       "</table>\n",
       "</div>"
      ],
      "text/plain": [
       "         cips        p0        p1  clicks\n",
       "164  1.000000  1.000000  1.000000       1\n",
       "169  1.000000  1.000000  1.000000       1\n",
       "359  0.922480  1.000000  0.922480       1\n",
       "361  0.735183  0.518716  0.381351       1\n",
       "362  1.021138  0.971615  0.992153       1\n",
       "363  1.000000  1.000000  1.000000       1\n",
       "433  1.000000  1.000000  1.000000       1\n",
       "438  0.646642  1.000000  0.646642       1\n",
       "439  0.216987  0.981799  0.213038       1\n",
       "440  0.023292  1.000000  0.023292       1"
      ]
     },
     "execution_count": 295,
     "metadata": {},
     "output_type": "execute_result"
    }
   ],
   "source": [
    "pd.concat([\n",
    "        pd.DataFrame(cips_terms, index=filtered_test[good_indices].index),\n",
    "        p0[good_indices],\n",
    "        p1[good_indices],\n",
    "        filtered_test.clicks,\n",
    "    ],\n",
    "    axis=1\n",
    ").set_axis(['cips', 'p0', 'p1', 'clicks'], axis=1)[:10]"
   ]
  },
  {
   "cell_type": "code",
   "execution_count": 296,
   "metadata": {},
   "outputs": [
    {
     "data": {
      "text/html": [
       "<div>\n",
       "<style scoped>\n",
       "    .dataframe tbody tr th:only-of-type {\n",
       "        vertical-align: middle;\n",
       "    }\n",
       "\n",
       "    .dataframe tbody tr th {\n",
       "        vertical-align: top;\n",
       "    }\n",
       "\n",
       "    .dataframe thead th {\n",
       "        text-align: right;\n",
       "    }\n",
       "</style>\n",
       "<table border=\"1\" class=\"dataframe\">\n",
       "  <thead>\n",
       "    <tr style=\"text-align: right;\">\n",
       "      <th></th>\n",
       "      <th>cips</th>\n",
       "      <th>p0</th>\n",
       "      <th>p1</th>\n",
       "      <th>clicks</th>\n",
       "    </tr>\n",
       "  </thead>\n",
       "  <tbody>\n",
       "    <tr>\n",
       "      <th>11054436</th>\n",
       "      <td>0.0</td>\n",
       "      <td>7.483623e-01</td>\n",
       "      <td>8.067761e-04</td>\n",
       "      <td>0</td>\n",
       "    </tr>\n",
       "    <tr>\n",
       "      <th>11054437</th>\n",
       "      <td>0.0</td>\n",
       "      <td>4.838684e-01</td>\n",
       "      <td>4.202504e-01</td>\n",
       "      <td>0</td>\n",
       "    </tr>\n",
       "    <tr>\n",
       "      <th>11054445</th>\n",
       "      <td>0.0</td>\n",
       "      <td>9.724561e-01</td>\n",
       "      <td>7.414661e-07</td>\n",
       "      <td>0</td>\n",
       "    </tr>\n",
       "    <tr>\n",
       "      <th>11054462</th>\n",
       "      <td>0.0</td>\n",
       "      <td>7.586417e-01</td>\n",
       "      <td>9.999170e-01</td>\n",
       "      <td>0</td>\n",
       "    </tr>\n",
       "    <tr>\n",
       "      <th>11054486</th>\n",
       "      <td>0.0</td>\n",
       "      <td>7.985453e-01</td>\n",
       "      <td>6.588225e-01</td>\n",
       "      <td>0</td>\n",
       "    </tr>\n",
       "    <tr>\n",
       "      <th>11054492</th>\n",
       "      <td>0.0</td>\n",
       "      <td>1.907057e-01</td>\n",
       "      <td>3.761802e-01</td>\n",
       "      <td>0</td>\n",
       "    </tr>\n",
       "    <tr>\n",
       "      <th>11054507</th>\n",
       "      <td>0.0</td>\n",
       "      <td>4.733005e-01</td>\n",
       "      <td>9.987554e-01</td>\n",
       "      <td>0</td>\n",
       "    </tr>\n",
       "    <tr>\n",
       "      <th>11054520</th>\n",
       "      <td>0.0</td>\n",
       "      <td>1.000000e+00</td>\n",
       "      <td>1.000000e+00</td>\n",
       "      <td>0</td>\n",
       "    </tr>\n",
       "    <tr>\n",
       "      <th>11054532</th>\n",
       "      <td>0.0</td>\n",
       "      <td>7.416958e-34</td>\n",
       "      <td>6.078545e-07</td>\n",
       "      <td>0</td>\n",
       "    </tr>\n",
       "    <tr>\n",
       "      <th>11054543</th>\n",
       "      <td>0.0</td>\n",
       "      <td>2.213812e-01</td>\n",
       "      <td>7.338532e-01</td>\n",
       "      <td>0</td>\n",
       "    </tr>\n",
       "  </tbody>\n",
       "</table>\n",
       "</div>"
      ],
      "text/plain": [
       "          cips            p0            p1  clicks\n",
       "11054436   0.0  7.483623e-01  8.067761e-04       0\n",
       "11054437   0.0  4.838684e-01  4.202504e-01       0\n",
       "11054445   0.0  9.724561e-01  7.414661e-07       0\n",
       "11054462   0.0  7.586417e-01  9.999170e-01       0\n",
       "11054486   0.0  7.985453e-01  6.588225e-01       0\n",
       "11054492   0.0  1.907057e-01  3.761802e-01       0\n",
       "11054507   0.0  4.733005e-01  9.987554e-01       0\n",
       "11054520   0.0  1.000000e+00  1.000000e+00       0\n",
       "11054532   0.0  7.416958e-34  6.078545e-07       0\n",
       "11054543   0.0  2.213812e-01  7.338532e-01       0"
      ]
     },
     "execution_count": 296,
     "metadata": {},
     "output_type": "execute_result"
    }
   ],
   "source": [
    "pd.concat([\n",
    "        pd.DataFrame(cips_terms, index=filtered_test[good_indices].index),\n",
    "        p0[good_indices],\n",
    "        p1[good_indices],\n",
    "        filtered_test.clicks,\n",
    "    ],\n",
    "    axis=1\n",
    ").set_axis(['cips', 'p0', 'p1', 'clicks'], axis=1)[1000000:1000010]"
   ]
  },
  {
   "cell_type": "code",
   "execution_count": null,
   "metadata": {},
   "outputs": [],
   "source": []
  },
  {
   "cell_type": "markdown",
   "metadata": {},
   "source": [
    "## CIPS value"
   ]
  },
  {
   "cell_type": "code",
   "execution_count": 300,
   "metadata": {},
   "outputs": [
    {
     "data": {
      "text/plain": [
       "0.04042790840794313"
      ]
     },
     "execution_count": 300,
     "metadata": {},
     "output_type": "execute_result"
    }
   ],
   "source": [
    "cips_terms.mean()"
   ]
  },
  {
   "cell_type": "code",
   "execution_count": 301,
   "metadata": {},
   "outputs": [
    {
     "data": {
      "text/plain": [
       "0.03484827773777196"
      ]
     },
     "execution_count": 301,
     "metadata": {},
     "output_type": "execute_result"
    }
   ],
   "source": [
    "filtered_test[good_indices].clicks.mean()"
   ]
  },
  {
   "cell_type": "code",
   "execution_count": null,
   "metadata": {},
   "outputs": [],
   "source": []
  }
 ],
 "metadata": {
  "kernelspec": {
   "display_name": "Python 3",
   "language": "python",
   "name": "python3"
  },
  "language_info": {
   "codemirror_mode": {
    "name": "ipython",
    "version": 3
   },
   "file_extension": ".py",
   "mimetype": "text/x-python",
   "name": "python",
   "nbconvert_exporter": "python",
   "pygments_lexer": "ipython3",
   "version": "3.9.7"
  }
 },
 "nbformat": 4,
 "nbformat_minor": 1
}
