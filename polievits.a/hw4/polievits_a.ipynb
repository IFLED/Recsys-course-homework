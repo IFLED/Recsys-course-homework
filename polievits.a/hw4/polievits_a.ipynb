{
 "cells": [
  {
   "cell_type": "code",
   "execution_count": 1,
   "metadata": {},
   "outputs": [],
   "source": [
    "from matplotlib import pyplot as plt\n",
    "\n",
    "import numpy as np\n",
    "\n",
    "import pandas as pd\n",
    "\n",
    "import scipy.special\n",
    "import scipy.stats\n",
    "\n",
    "from sklearn import linear_model\n",
    "from sklearn import metrics\n",
    "from sklearn import preprocessing\n",
    "\n",
    "%matplotlib inline"
   ]
  },
  {
   "cell_type": "code",
   "execution_count": 2,
   "metadata": {},
   "outputs": [],
   "source": [
    "np.random.seed(123)"
   ]
  },
  {
   "cell_type": "markdown",
   "metadata": {},
   "source": [
    "## inspeect data"
   ]
  },
  {
   "cell_type": "code",
   "execution_count": 3,
   "metadata": {},
   "outputs": [
    {
     "name": "stdout",
     "output_type": "stream",
     "text": [
      "CPU times: user 36 s, sys: 4.07 s, total: 40.1 s\n",
      "Wall time: 40 s\n"
     ]
    }
   ],
   "source": [
    "%%time \n",
    "\n",
    "data = pd.read_csv(\"../../../data/data.csv\", parse_dates=[\"date_time\"])"
   ]
  },
  {
   "cell_type": "code",
   "execution_count": 4,
   "metadata": {},
   "outputs": [],
   "source": [
    "## data for linear model\n",
    "#data = all_data[\n",
    "#    [\"date_time\", \"zone_id\", \"banner_id\", \"campaign_clicks\", \"os_id\", \"country_id\", \"impressions\", \"clicks\"]\n",
    "#]"
   ]
  },
  {
   "cell_type": "code",
   "execution_count": 5,
   "metadata": {},
   "outputs": [
    {
     "data": {
      "text/html": [
       "<div>\n",
       "<style scoped>\n",
       "    .dataframe tbody tr th:only-of-type {\n",
       "        vertical-align: middle;\n",
       "    }\n",
       "\n",
       "    .dataframe tbody tr th {\n",
       "        vertical-align: top;\n",
       "    }\n",
       "\n",
       "    .dataframe thead th {\n",
       "        text-align: right;\n",
       "    }\n",
       "</style>\n",
       "<table border=\"1\" class=\"dataframe\">\n",
       "  <thead>\n",
       "    <tr style=\"text-align: right;\">\n",
       "      <th></th>\n",
       "      <th>date_time</th>\n",
       "      <th>zone_id</th>\n",
       "      <th>banner_id</th>\n",
       "      <th>oaid_hash</th>\n",
       "      <th>campaign_clicks</th>\n",
       "      <th>os_id</th>\n",
       "      <th>country_id</th>\n",
       "      <th>banner_id0</th>\n",
       "      <th>rate0</th>\n",
       "      <th>g0</th>\n",
       "      <th>coeff_sum0</th>\n",
       "      <th>banner_id1</th>\n",
       "      <th>rate1</th>\n",
       "      <th>g1</th>\n",
       "      <th>coeff_sum1</th>\n",
       "      <th>impressions</th>\n",
       "      <th>clicks</th>\n",
       "    </tr>\n",
       "  </thead>\n",
       "  <tbody>\n",
       "    <tr>\n",
       "      <th>0</th>\n",
       "      <td>2021-09-27 00:01:30</td>\n",
       "      <td>0</td>\n",
       "      <td>0</td>\n",
       "      <td>5664530014561852622</td>\n",
       "      <td>0</td>\n",
       "      <td>0</td>\n",
       "      <td>0</td>\n",
       "      <td>1240</td>\n",
       "      <td>0.067</td>\n",
       "      <td>0.035016</td>\n",
       "      <td>-7.268846</td>\n",
       "      <td>0</td>\n",
       "      <td>0.010</td>\n",
       "      <td>0.049516</td>\n",
       "      <td>-5.369901</td>\n",
       "      <td>1</td>\n",
       "      <td>1</td>\n",
       "    </tr>\n",
       "    <tr>\n",
       "      <th>1</th>\n",
       "      <td>2021-09-26 22:54:49</td>\n",
       "      <td>1</td>\n",
       "      <td>1</td>\n",
       "      <td>5186611064559013950</td>\n",
       "      <td>0</td>\n",
       "      <td>0</td>\n",
       "      <td>1</td>\n",
       "      <td>1</td>\n",
       "      <td>0.002</td>\n",
       "      <td>0.054298</td>\n",
       "      <td>-2.657477</td>\n",
       "      <td>269</td>\n",
       "      <td>0.004</td>\n",
       "      <td>0.031942</td>\n",
       "      <td>-4.449220</td>\n",
       "      <td>1</td>\n",
       "      <td>1</td>\n",
       "    </tr>\n",
       "    <tr>\n",
       "      <th>2</th>\n",
       "      <td>2021-09-26 23:57:20</td>\n",
       "      <td>2</td>\n",
       "      <td>2</td>\n",
       "      <td>2215519569292448030</td>\n",
       "      <td>3</td>\n",
       "      <td>0</td>\n",
       "      <td>0</td>\n",
       "      <td>2</td>\n",
       "      <td>0.014</td>\n",
       "      <td>0.014096</td>\n",
       "      <td>-3.824875</td>\n",
       "      <td>21</td>\n",
       "      <td>0.014</td>\n",
       "      <td>0.014906</td>\n",
       "      <td>-3.939309</td>\n",
       "      <td>1</td>\n",
       "      <td>1</td>\n",
       "    </tr>\n",
       "    <tr>\n",
       "      <th>3</th>\n",
       "      <td>2021-09-27 00:04:30</td>\n",
       "      <td>3</td>\n",
       "      <td>3</td>\n",
       "      <td>6262169206735077204</td>\n",
       "      <td>0</td>\n",
       "      <td>1</td>\n",
       "      <td>1</td>\n",
       "      <td>3</td>\n",
       "      <td>0.012</td>\n",
       "      <td>0.015232</td>\n",
       "      <td>-3.461357</td>\n",
       "      <td>99</td>\n",
       "      <td>0.006</td>\n",
       "      <td>0.050671</td>\n",
       "      <td>-3.418403</td>\n",
       "      <td>1</td>\n",
       "      <td>1</td>\n",
       "    </tr>\n",
       "    <tr>\n",
       "      <th>4</th>\n",
       "      <td>2021-09-27 00:06:21</td>\n",
       "      <td>4</td>\n",
       "      <td>4</td>\n",
       "      <td>4778985830203613115</td>\n",
       "      <td>0</td>\n",
       "      <td>1</td>\n",
       "      <td>0</td>\n",
       "      <td>4</td>\n",
       "      <td>0.019</td>\n",
       "      <td>0.051265</td>\n",
       "      <td>-4.009026</td>\n",
       "      <td>11464230</td>\n",
       "      <td>6.790</td>\n",
       "      <td>0.032005</td>\n",
       "      <td>-2.828797</td>\n",
       "      <td>1</td>\n",
       "      <td>1</td>\n",
       "    </tr>\n",
       "  </tbody>\n",
       "</table>\n",
       "</div>"
      ],
      "text/plain": [
       "            date_time  zone_id  banner_id            oaid_hash  \\\n",
       "0 2021-09-27 00:01:30        0          0  5664530014561852622   \n",
       "1 2021-09-26 22:54:49        1          1  5186611064559013950   \n",
       "2 2021-09-26 23:57:20        2          2  2215519569292448030   \n",
       "3 2021-09-27 00:04:30        3          3  6262169206735077204   \n",
       "4 2021-09-27 00:06:21        4          4  4778985830203613115   \n",
       "\n",
       "   campaign_clicks  os_id  country_id  banner_id0  rate0        g0  \\\n",
       "0                0      0           0        1240  0.067  0.035016   \n",
       "1                0      0           1           1  0.002  0.054298   \n",
       "2                3      0           0           2  0.014  0.014096   \n",
       "3                0      1           1           3  0.012  0.015232   \n",
       "4                0      1           0           4  0.019  0.051265   \n",
       "\n",
       "   coeff_sum0  banner_id1  rate1        g1  coeff_sum1  impressions  clicks  \n",
       "0   -7.268846           0  0.010  0.049516   -5.369901            1       1  \n",
       "1   -2.657477         269  0.004  0.031942   -4.449220            1       1  \n",
       "2   -3.824875          21  0.014  0.014906   -3.939309            1       1  \n",
       "3   -3.461357          99  0.006  0.050671   -3.418403            1       1  \n",
       "4   -4.009026    11464230  6.790  0.032005   -2.828797            1       1  "
      ]
     },
     "execution_count": 5,
     "metadata": {},
     "output_type": "execute_result"
    }
   ],
   "source": [
    "data.head()"
   ]
  },
  {
   "cell_type": "code",
   "execution_count": 6,
   "metadata": {
    "scrolled": true
   },
   "outputs": [
    {
     "data": {
      "text/html": [
       "<div>\n",
       "<style scoped>\n",
       "    .dataframe tbody tr th:only-of-type {\n",
       "        vertical-align: middle;\n",
       "    }\n",
       "\n",
       "    .dataframe tbody tr th {\n",
       "        vertical-align: top;\n",
       "    }\n",
       "\n",
       "    .dataframe thead th {\n",
       "        text-align: right;\n",
       "    }\n",
       "</style>\n",
       "<table border=\"1\" class=\"dataframe\">\n",
       "  <thead>\n",
       "    <tr style=\"text-align: right;\">\n",
       "      <th></th>\n",
       "      <th>zone_id</th>\n",
       "      <th>banner_id</th>\n",
       "      <th>oaid_hash</th>\n",
       "      <th>campaign_clicks</th>\n",
       "      <th>os_id</th>\n",
       "      <th>country_id</th>\n",
       "      <th>banner_id0</th>\n",
       "      <th>rate0</th>\n",
       "      <th>g0</th>\n",
       "      <th>coeff_sum0</th>\n",
       "      <th>banner_id1</th>\n",
       "      <th>rate1</th>\n",
       "      <th>g1</th>\n",
       "      <th>coeff_sum1</th>\n",
       "      <th>impressions</th>\n",
       "      <th>clicks</th>\n",
       "    </tr>\n",
       "  </thead>\n",
       "  <tbody>\n",
       "    <tr>\n",
       "      <th>count</th>\n",
       "      <td>1.582147e+07</td>\n",
       "      <td>1.582147e+07</td>\n",
       "      <td>1.582147e+07</td>\n",
       "      <td>1.582147e+07</td>\n",
       "      <td>1.582147e+07</td>\n",
       "      <td>1.582147e+07</td>\n",
       "      <td>1.582147e+07</td>\n",
       "      <td>1.582140e+07</td>\n",
       "      <td>1.582140e+07</td>\n",
       "      <td>1.582140e+07</td>\n",
       "      <td>1.582147e+07</td>\n",
       "      <td>1.580173e+07</td>\n",
       "      <td>1.580173e+07</td>\n",
       "      <td>1.580173e+07</td>\n",
       "      <td>15821472.0</td>\n",
       "      <td>1.582147e+07</td>\n",
       "    </tr>\n",
       "    <tr>\n",
       "      <th>mean</th>\n",
       "      <td>8.152679e+01</td>\n",
       "      <td>3.816483e+02</td>\n",
       "      <td>4.610505e+18</td>\n",
       "      <td>6.238540e-01</td>\n",
       "      <td>1.840605e+00</td>\n",
       "      <td>4.346986e+00</td>\n",
       "      <td>6.571314e+05</td>\n",
       "      <td>1.969248e-01</td>\n",
       "      <td>7.440764e-01</td>\n",
       "      <td>-3.979590e+00</td>\n",
       "      <td>2.605069e+06</td>\n",
       "      <td>1.415899e+00</td>\n",
       "      <td>5.485722e-01</td>\n",
       "      <td>-3.968883e+00</td>\n",
       "      <td>1.0</td>\n",
       "      <td>2.668835e-02</td>\n",
       "    </tr>\n",
       "    <tr>\n",
       "      <th>std</th>\n",
       "      <td>1.632448e+02</td>\n",
       "      <td>3.959386e+02</td>\n",
       "      <td>2.663858e+18</td>\n",
       "      <td>9.249152e+00</td>\n",
       "      <td>1.530005e+00</td>\n",
       "      <td>4.317701e+00</td>\n",
       "      <td>2.606008e+06</td>\n",
       "      <td>2.733440e+00</td>\n",
       "      <td>1.670358e+01</td>\n",
       "      <td>1.143982e+00</td>\n",
       "      <td>5.230253e+06</td>\n",
       "      <td>8.689053e+00</td>\n",
       "      <td>1.419136e+01</td>\n",
       "      <td>1.186403e+00</td>\n",
       "      <td>0.0</td>\n",
       "      <td>1.611710e-01</td>\n",
       "    </tr>\n",
       "    <tr>\n",
       "      <th>min</th>\n",
       "      <td>0.000000e+00</td>\n",
       "      <td>0.000000e+00</td>\n",
       "      <td>1.116911e+12</td>\n",
       "      <td>0.000000e+00</td>\n",
       "      <td>0.000000e+00</td>\n",
       "      <td>0.000000e+00</td>\n",
       "      <td>0.000000e+00</td>\n",
       "      <td>0.000000e+00</td>\n",
       "      <td>-1.763740e-02</td>\n",
       "      <td>-8.588970e+00</td>\n",
       "      <td>0.000000e+00</td>\n",
       "      <td>0.000000e+00</td>\n",
       "      <td>-6.983897e-02</td>\n",
       "      <td>-9.562188e+00</td>\n",
       "      <td>1.0</td>\n",
       "      <td>0.000000e+00</td>\n",
       "    </tr>\n",
       "    <tr>\n",
       "      <th>25%</th>\n",
       "      <td>1.400000e+01</td>\n",
       "      <td>5.200000e+01</td>\n",
       "      <td>2.297977e+18</td>\n",
       "      <td>0.000000e+00</td>\n",
       "      <td>1.000000e+00</td>\n",
       "      <td>0.000000e+00</td>\n",
       "      <td>7.300000e+01</td>\n",
       "      <td>5.000000e-03</td>\n",
       "      <td>1.643856e-02</td>\n",
       "      <td>-4.515871e+00</td>\n",
       "      <td>9.900000e+01</td>\n",
       "      <td>4.000000e-03</td>\n",
       "      <td>1.615219e-02</td>\n",
       "      <td>-4.529519e+00</td>\n",
       "      <td>1.0</td>\n",
       "      <td>0.000000e+00</td>\n",
       "    </tr>\n",
       "    <tr>\n",
       "      <th>50%</th>\n",
       "      <td>1.900000e+01</td>\n",
       "      <td>2.170000e+02</td>\n",
       "      <td>4.614236e+18</td>\n",
       "      <td>0.000000e+00</td>\n",
       "      <td>2.000000e+00</td>\n",
       "      <td>4.000000e+00</td>\n",
       "      <td>3.030000e+02</td>\n",
       "      <td>1.000000e-02</td>\n",
       "      <td>3.539307e-02</td>\n",
       "      <td>-3.921164e+00</td>\n",
       "      <td>4.600000e+02</td>\n",
       "      <td>1.400000e-02</td>\n",
       "      <td>3.556666e-02</td>\n",
       "      <td>-3.928674e+00</td>\n",
       "      <td>1.0</td>\n",
       "      <td>0.000000e+00</td>\n",
       "    </tr>\n",
       "    <tr>\n",
       "      <th>75%</th>\n",
       "      <td>6.000000e+01</td>\n",
       "      <td>6.110000e+02</td>\n",
       "      <td>6.914243e+18</td>\n",
       "      <td>0.000000e+00</td>\n",
       "      <td>3.000000e+00</td>\n",
       "      <td>7.000000e+00</td>\n",
       "      <td>7.200000e+02</td>\n",
       "      <td>3.000000e-02</td>\n",
       "      <td>8.022935e-02</td>\n",
       "      <td>-3.421280e+00</td>\n",
       "      <td>1.236000e+03</td>\n",
       "      <td>5.000000e-02</td>\n",
       "      <td>7.546751e-02</td>\n",
       "      <td>-3.390867e+00</td>\n",
       "      <td>1.0</td>\n",
       "      <td>0.000000e+00</td>\n",
       "    </tr>\n",
       "    <tr>\n",
       "      <th>max</th>\n",
       "      <td>3.443000e+03</td>\n",
       "      <td>1.632000e+03</td>\n",
       "      <td>9.223371e+18</td>\n",
       "      <td>8.290000e+02</td>\n",
       "      <td>1.000000e+01</td>\n",
       "      <td>1.600000e+01</td>\n",
       "      <td>1.146423e+07</td>\n",
       "      <td>1.000000e+02</td>\n",
       "      <td>6.910888e+02</td>\n",
       "      <td>3.149981e-01</td>\n",
       "      <td>1.462360e+07</td>\n",
       "      <td>1.000000e+02</td>\n",
       "      <td>6.910885e+02</td>\n",
       "      <td>4.756181e-01</td>\n",
       "      <td>1.0</td>\n",
       "      <td>1.000000e+00</td>\n",
       "    </tr>\n",
       "  </tbody>\n",
       "</table>\n",
       "</div>"
      ],
      "text/plain": [
       "            zone_id     banner_id     oaid_hash  campaign_clicks  \\\n",
       "count  1.582147e+07  1.582147e+07  1.582147e+07     1.582147e+07   \n",
       "mean   8.152679e+01  3.816483e+02  4.610505e+18     6.238540e-01   \n",
       "std    1.632448e+02  3.959386e+02  2.663858e+18     9.249152e+00   \n",
       "min    0.000000e+00  0.000000e+00  1.116911e+12     0.000000e+00   \n",
       "25%    1.400000e+01  5.200000e+01  2.297977e+18     0.000000e+00   \n",
       "50%    1.900000e+01  2.170000e+02  4.614236e+18     0.000000e+00   \n",
       "75%    6.000000e+01  6.110000e+02  6.914243e+18     0.000000e+00   \n",
       "max    3.443000e+03  1.632000e+03  9.223371e+18     8.290000e+02   \n",
       "\n",
       "              os_id    country_id    banner_id0         rate0            g0  \\\n",
       "count  1.582147e+07  1.582147e+07  1.582147e+07  1.582140e+07  1.582140e+07   \n",
       "mean   1.840605e+00  4.346986e+00  6.571314e+05  1.969248e-01  7.440764e-01   \n",
       "std    1.530005e+00  4.317701e+00  2.606008e+06  2.733440e+00  1.670358e+01   \n",
       "min    0.000000e+00  0.000000e+00  0.000000e+00  0.000000e+00 -1.763740e-02   \n",
       "25%    1.000000e+00  0.000000e+00  7.300000e+01  5.000000e-03  1.643856e-02   \n",
       "50%    2.000000e+00  4.000000e+00  3.030000e+02  1.000000e-02  3.539307e-02   \n",
       "75%    3.000000e+00  7.000000e+00  7.200000e+02  3.000000e-02  8.022935e-02   \n",
       "max    1.000000e+01  1.600000e+01  1.146423e+07  1.000000e+02  6.910888e+02   \n",
       "\n",
       "         coeff_sum0    banner_id1         rate1            g1    coeff_sum1  \\\n",
       "count  1.582140e+07  1.582147e+07  1.580173e+07  1.580173e+07  1.580173e+07   \n",
       "mean  -3.979590e+00  2.605069e+06  1.415899e+00  5.485722e-01 -3.968883e+00   \n",
       "std    1.143982e+00  5.230253e+06  8.689053e+00  1.419136e+01  1.186403e+00   \n",
       "min   -8.588970e+00  0.000000e+00  0.000000e+00 -6.983897e-02 -9.562188e+00   \n",
       "25%   -4.515871e+00  9.900000e+01  4.000000e-03  1.615219e-02 -4.529519e+00   \n",
       "50%   -3.921164e+00  4.600000e+02  1.400000e-02  3.556666e-02 -3.928674e+00   \n",
       "75%   -3.421280e+00  1.236000e+03  5.000000e-02  7.546751e-02 -3.390867e+00   \n",
       "max    3.149981e-01  1.462360e+07  1.000000e+02  6.910885e+02  4.756181e-01   \n",
       "\n",
       "       impressions        clicks  \n",
       "count   15821472.0  1.582147e+07  \n",
       "mean           1.0  2.668835e-02  \n",
       "std            0.0  1.611710e-01  \n",
       "min            1.0  0.000000e+00  \n",
       "25%            1.0  0.000000e+00  \n",
       "50%            1.0  0.000000e+00  \n",
       "75%            1.0  0.000000e+00  \n",
       "max            1.0  1.000000e+00  "
      ]
     },
     "execution_count": 6,
     "metadata": {},
     "output_type": "execute_result"
    }
   ],
   "source": [
    "data.describe()"
   ]
  },
  {
   "cell_type": "code",
   "execution_count": 7,
   "metadata": {},
   "outputs": [
    {
     "data": {
      "text/plain": [
       "(Timestamp('2021-09-01 00:02:49'), Timestamp('2021-10-02 23:59:59'))"
      ]
     },
     "execution_count": 7,
     "metadata": {},
     "output_type": "execute_result"
    }
   ],
   "source": [
    "data.date_time.min(), data.date_time.max()"
   ]
  },
  {
   "cell_type": "markdown",
   "metadata": {},
   "source": [
    "## Extract day"
   ]
  },
  {
   "cell_type": "code",
   "execution_count": 8,
   "metadata": {},
   "outputs": [
    {
     "name": "stderr",
     "output_type": "stream",
     "text": [
      "/home/ifled/tmpdir/ipykernel_752266/813304573.py:1: FutureWarning: The pandas.datetime class is deprecated and will be removed from pandas in a future version. Import from datetime module instead.\n",
      "  data[\"day\"] = (data.date_time - pd.datetime(2021,9,1)).dt.days\n"
     ]
    }
   ],
   "source": [
    "data[\"day\"] = (data.date_time - pd.datetime(2021,9,1)).dt.days"
   ]
  },
  {
   "cell_type": "code",
   "execution_count": 9,
   "metadata": {},
   "outputs": [
    {
     "data": {
      "text/html": [
       "<div>\n",
       "<style scoped>\n",
       "    .dataframe tbody tr th:only-of-type {\n",
       "        vertical-align: middle;\n",
       "    }\n",
       "\n",
       "    .dataframe tbody tr th {\n",
       "        vertical-align: top;\n",
       "    }\n",
       "\n",
       "    .dataframe thead th {\n",
       "        text-align: right;\n",
       "    }\n",
       "</style>\n",
       "<table border=\"1\" class=\"dataframe\">\n",
       "  <thead>\n",
       "    <tr style=\"text-align: right;\">\n",
       "      <th></th>\n",
       "      <th>date_time</th>\n",
       "      <th>zone_id</th>\n",
       "      <th>banner_id</th>\n",
       "      <th>oaid_hash</th>\n",
       "      <th>campaign_clicks</th>\n",
       "      <th>os_id</th>\n",
       "      <th>country_id</th>\n",
       "      <th>banner_id0</th>\n",
       "      <th>rate0</th>\n",
       "      <th>g0</th>\n",
       "      <th>coeff_sum0</th>\n",
       "      <th>banner_id1</th>\n",
       "      <th>rate1</th>\n",
       "      <th>g1</th>\n",
       "      <th>coeff_sum1</th>\n",
       "      <th>impressions</th>\n",
       "      <th>clicks</th>\n",
       "      <th>day</th>\n",
       "    </tr>\n",
       "  </thead>\n",
       "  <tbody>\n",
       "    <tr>\n",
       "      <th>0</th>\n",
       "      <td>2021-09-27 00:01:30</td>\n",
       "      <td>0</td>\n",
       "      <td>0</td>\n",
       "      <td>5664530014561852622</td>\n",
       "      <td>0</td>\n",
       "      <td>0</td>\n",
       "      <td>0</td>\n",
       "      <td>1240</td>\n",
       "      <td>0.067</td>\n",
       "      <td>0.035016</td>\n",
       "      <td>-7.268846</td>\n",
       "      <td>0</td>\n",
       "      <td>0.010</td>\n",
       "      <td>0.049516</td>\n",
       "      <td>-5.369901</td>\n",
       "      <td>1</td>\n",
       "      <td>1</td>\n",
       "      <td>26</td>\n",
       "    </tr>\n",
       "    <tr>\n",
       "      <th>1</th>\n",
       "      <td>2021-09-26 22:54:49</td>\n",
       "      <td>1</td>\n",
       "      <td>1</td>\n",
       "      <td>5186611064559013950</td>\n",
       "      <td>0</td>\n",
       "      <td>0</td>\n",
       "      <td>1</td>\n",
       "      <td>1</td>\n",
       "      <td>0.002</td>\n",
       "      <td>0.054298</td>\n",
       "      <td>-2.657477</td>\n",
       "      <td>269</td>\n",
       "      <td>0.004</td>\n",
       "      <td>0.031942</td>\n",
       "      <td>-4.449220</td>\n",
       "      <td>1</td>\n",
       "      <td>1</td>\n",
       "      <td>25</td>\n",
       "    </tr>\n",
       "    <tr>\n",
       "      <th>2</th>\n",
       "      <td>2021-09-26 23:57:20</td>\n",
       "      <td>2</td>\n",
       "      <td>2</td>\n",
       "      <td>2215519569292448030</td>\n",
       "      <td>3</td>\n",
       "      <td>0</td>\n",
       "      <td>0</td>\n",
       "      <td>2</td>\n",
       "      <td>0.014</td>\n",
       "      <td>0.014096</td>\n",
       "      <td>-3.824875</td>\n",
       "      <td>21</td>\n",
       "      <td>0.014</td>\n",
       "      <td>0.014906</td>\n",
       "      <td>-3.939309</td>\n",
       "      <td>1</td>\n",
       "      <td>1</td>\n",
       "      <td>25</td>\n",
       "    </tr>\n",
       "    <tr>\n",
       "      <th>3</th>\n",
       "      <td>2021-09-27 00:04:30</td>\n",
       "      <td>3</td>\n",
       "      <td>3</td>\n",
       "      <td>6262169206735077204</td>\n",
       "      <td>0</td>\n",
       "      <td>1</td>\n",
       "      <td>1</td>\n",
       "      <td>3</td>\n",
       "      <td>0.012</td>\n",
       "      <td>0.015232</td>\n",
       "      <td>-3.461357</td>\n",
       "      <td>99</td>\n",
       "      <td>0.006</td>\n",
       "      <td>0.050671</td>\n",
       "      <td>-3.418403</td>\n",
       "      <td>1</td>\n",
       "      <td>1</td>\n",
       "      <td>26</td>\n",
       "    </tr>\n",
       "    <tr>\n",
       "      <th>4</th>\n",
       "      <td>2021-09-27 00:06:21</td>\n",
       "      <td>4</td>\n",
       "      <td>4</td>\n",
       "      <td>4778985830203613115</td>\n",
       "      <td>0</td>\n",
       "      <td>1</td>\n",
       "      <td>0</td>\n",
       "      <td>4</td>\n",
       "      <td>0.019</td>\n",
       "      <td>0.051265</td>\n",
       "      <td>-4.009026</td>\n",
       "      <td>11464230</td>\n",
       "      <td>6.790</td>\n",
       "      <td>0.032005</td>\n",
       "      <td>-2.828797</td>\n",
       "      <td>1</td>\n",
       "      <td>1</td>\n",
       "      <td>26</td>\n",
       "    </tr>\n",
       "  </tbody>\n",
       "</table>\n",
       "</div>"
      ],
      "text/plain": [
       "            date_time  zone_id  banner_id            oaid_hash  \\\n",
       "0 2021-09-27 00:01:30        0          0  5664530014561852622   \n",
       "1 2021-09-26 22:54:49        1          1  5186611064559013950   \n",
       "2 2021-09-26 23:57:20        2          2  2215519569292448030   \n",
       "3 2021-09-27 00:04:30        3          3  6262169206735077204   \n",
       "4 2021-09-27 00:06:21        4          4  4778985830203613115   \n",
       "\n",
       "   campaign_clicks  os_id  country_id  banner_id0  rate0        g0  \\\n",
       "0                0      0           0        1240  0.067  0.035016   \n",
       "1                0      0           1           1  0.002  0.054298   \n",
       "2                3      0           0           2  0.014  0.014096   \n",
       "3                0      1           1           3  0.012  0.015232   \n",
       "4                0      1           0           4  0.019  0.051265   \n",
       "\n",
       "   coeff_sum0  banner_id1  rate1        g1  coeff_sum1  impressions  clicks  \\\n",
       "0   -7.268846           0  0.010  0.049516   -5.369901            1       1   \n",
       "1   -2.657477         269  0.004  0.031942   -4.449220            1       1   \n",
       "2   -3.824875          21  0.014  0.014906   -3.939309            1       1   \n",
       "3   -3.461357          99  0.006  0.050671   -3.418403            1       1   \n",
       "4   -4.009026    11464230  6.790  0.032005   -2.828797            1       1   \n",
       "\n",
       "   day  \n",
       "0   26  \n",
       "1   25  \n",
       "2   25  \n",
       "3   26  \n",
       "4   26  "
      ]
     },
     "execution_count": 9,
     "metadata": {},
     "output_type": "execute_result"
    }
   ],
   "source": [
    "data.head()"
   ]
  },
  {
   "cell_type": "code",
   "execution_count": 10,
   "metadata": {},
   "outputs": [
    {
     "data": {
      "text/plain": [
       "(0, 31)"
      ]
     },
     "execution_count": 10,
     "metadata": {},
     "output_type": "execute_result"
    }
   ],
   "source": [
    "data.day.min(), data.day.max()"
   ]
  },
  {
   "cell_type": "code",
   "execution_count": 11,
   "metadata": {},
   "outputs": [
    {
     "data": {
      "text/plain": [
       "<AxesSubplot:>"
      ]
     },
     "execution_count": 11,
     "metadata": {},
     "output_type": "execute_result"
    },
    {
     "data": {
      "image/png": "[encoded data removed]",
      "text/plain": [
       "<Figure size 432x288 with 1 Axes>"
      ]
     },
     "metadata": {
      "needs_background": "light"
     },
     "output_type": "display_data"
    }
   ],
   "source": [
    "data.day.hist(bins=32)"
   ]
  },
  {
   "cell_type": "code",
   "execution_count": 12,
   "metadata": {},
   "outputs": [
    {
     "data": {
      "text/plain": [
       "<AxesSubplot:>"
      ]
     },
     "execution_count": 12,
     "metadata": {},
     "output_type": "execute_result"
    },
    {
     "data": {
      "image/png": "[encoded data removed]",
      "text/plain": [
       "<Figure size 432x288 with 1 Axes>"
      ]
     },
     "metadata": {
      "needs_background": "light"
     },
     "output_type": "display_data"
    }
   ],
   "source": [
    "data.day.hist(bins=32, log=True)"
   ]
  },
  {
   "cell_type": "code",
   "execution_count": 13,
   "metadata": {},
   "outputs": [
    {
     "data": {
      "text/plain": [
       "count    1.582147e+07\n",
       "mean     2.769505e+01\n",
       "std      2.039576e+00\n",
       "min      0.000000e+00\n",
       "25%      2.600000e+01\n",
       "50%      2.800000e+01\n",
       "75%      2.900000e+01\n",
       "max      3.100000e+01\n",
       "Name: day, dtype: float64"
      ]
     },
     "execution_count": 13,
     "metadata": {},
     "output_type": "execute_result"
    }
   ],
   "source": [
    "data.day.describe()"
   ]
  },
  {
   "cell_type": "markdown",
   "metadata": {},
   "source": [
    "## There is one outlier:"
   ]
  },
  {
   "cell_type": "code",
   "execution_count": 14,
   "metadata": {
    "scrolled": true
   },
   "outputs": [
    {
     "data": {
      "text/html": [
       "<div>\n",
       "<style scoped>\n",
       "    .dataframe tbody tr th:only-of-type {\n",
       "        vertical-align: middle;\n",
       "    }\n",
       "\n",
       "    .dataframe tbody tr th {\n",
       "        vertical-align: top;\n",
       "    }\n",
       "\n",
       "    .dataframe thead th {\n",
       "        text-align: right;\n",
       "    }\n",
       "</style>\n",
       "<table border=\"1\" class=\"dataframe\">\n",
       "  <thead>\n",
       "    <tr style=\"text-align: right;\">\n",
       "      <th></th>\n",
       "      <th>date_time</th>\n",
       "      <th>zone_id</th>\n",
       "      <th>banner_id</th>\n",
       "      <th>oaid_hash</th>\n",
       "      <th>campaign_clicks</th>\n",
       "      <th>os_id</th>\n",
       "      <th>country_id</th>\n",
       "      <th>banner_id0</th>\n",
       "      <th>rate0</th>\n",
       "      <th>g0</th>\n",
       "      <th>coeff_sum0</th>\n",
       "      <th>banner_id1</th>\n",
       "      <th>rate1</th>\n",
       "      <th>g1</th>\n",
       "      <th>coeff_sum1</th>\n",
       "      <th>impressions</th>\n",
       "      <th>clicks</th>\n",
       "      <th>day</th>\n",
       "    </tr>\n",
       "  </thead>\n",
       "  <tbody>\n",
       "    <tr>\n",
       "      <th>1390198</th>\n",
       "      <td>2021-09-01 00:02:49</td>\n",
       "      <td>30</td>\n",
       "      <td>596</td>\n",
       "      <td>5236744527665721365</td>\n",
       "      <td>0</td>\n",
       "      <td>0</td>\n",
       "      <td>7</td>\n",
       "      <td>596</td>\n",
       "      <td>0.05</td>\n",
       "      <td>0.06456</td>\n",
       "      <td>-4.312062</td>\n",
       "      <td>603</td>\n",
       "      <td>0.05</td>\n",
       "      <td>0.05651</td>\n",
       "      <td>-4.370191</td>\n",
       "      <td>1</td>\n",
       "      <td>0</td>\n",
       "      <td>0</td>\n",
       "    </tr>\n",
       "  </tbody>\n",
       "</table>\n",
       "</div>"
      ],
      "text/plain": [
       "                  date_time  zone_id  banner_id            oaid_hash  \\\n",
       "1390198 2021-09-01 00:02:49       30        596  5236744527665721365   \n",
       "\n",
       "         campaign_clicks  os_id  country_id  banner_id0  rate0       g0  \\\n",
       "1390198                0      0           7         596   0.05  0.06456   \n",
       "\n",
       "         coeff_sum0  banner_id1  rate1       g1  coeff_sum1  impressions  \\\n",
       "1390198   -4.312062         603   0.05  0.05651   -4.370191            1   \n",
       "\n",
       "         clicks  day  \n",
       "1390198       0    0  "
      ]
     },
     "execution_count": 14,
     "metadata": {},
     "output_type": "execute_result"
    }
   ],
   "source": [
    "data[data.day <= 24]"
   ]
  },
  {
   "cell_type": "markdown",
   "metadata": {},
   "source": [
    "## Remove the outlier"
   ]
  },
  {
   "cell_type": "code",
   "execution_count": 15,
   "metadata": {},
   "outputs": [],
   "source": [
    "data.drop(data[data.day <= 24].index, inplace=True)"
   ]
  },
  {
   "cell_type": "code",
   "execution_count": 16,
   "metadata": {},
   "outputs": [
    {
     "data": {
      "text/plain": [
       "(Timestamp('2021-09-26 00:00:00'), Timestamp('2021-10-02 23:59:59'), 25, 31)"
      ]
     },
     "execution_count": 16,
     "metadata": {},
     "output_type": "execute_result"
    }
   ],
   "source": [
    "data.date_time.min(), data.date_time.max(), data.day.min(), data.day.max()"
   ]
  },
  {
   "cell_type": "code",
   "execution_count": 17,
   "metadata": {},
   "outputs": [],
   "source": [
    "data.day -= 25"
   ]
  },
  {
   "cell_type": "code",
   "execution_count": 18,
   "metadata": {},
   "outputs": [
    {
     "data": {
      "text/plain": [
       "<AxesSubplot:>"
      ]
     },
     "execution_count": 18,
     "metadata": {},
     "output_type": "execute_result"
    },
    {
     "data": {
      "image/png": "[encoded data removed]",
      "text/plain": [
       "<Figure size 432x288 with 1 Axes>"
      ]
     },
     "metadata": {
      "needs_background": "light"
     },
     "output_type": "display_data"
    }
   ],
   "source": [
    "data.day.hist(bins=7)"
   ]
  },
  {
   "cell_type": "markdown",
   "metadata": {},
   "source": [
    "## Remove rows where banner_id is not equal to banner_id1"
   ]
  },
  {
   "cell_type": "code",
   "execution_count": 19,
   "metadata": {},
   "outputs": [
    {
     "data": {
      "text/plain": [
       "(15821471, 18)"
      ]
     },
     "execution_count": 19,
     "metadata": {},
     "output_type": "execute_result"
    }
   ],
   "source": [
    "data.shape"
   ]
  },
  {
   "cell_type": "code",
   "execution_count": 20,
   "metadata": {},
   "outputs": [],
   "source": [
    "data = data[data.banner_id == data.banner_id0]"
   ]
  },
  {
   "cell_type": "code",
   "execution_count": 21,
   "metadata": {},
   "outputs": [
    {
     "data": {
      "text/plain": [
       "(13947159, 18)"
      ]
     },
     "execution_count": 21,
     "metadata": {},
     "output_type": "execute_result"
    }
   ],
   "source": [
    "data.shape"
   ]
  },
  {
   "cell_type": "markdown",
   "metadata": {},
   "source": [
    "## Fix banner_id\n",
    "\n",
    "Replace banner_ids that aren't appear in the first four days with fixed value"
   ]
  },
  {
   "cell_type": "code",
   "execution_count": 22,
   "metadata": {},
   "outputs": [],
   "source": [
    "banner_ids = data[data.day <= 3].banner_id.unique()"
   ]
  },
  {
   "cell_type": "code",
   "execution_count": 23,
   "metadata": {},
   "outputs": [
    {
     "data": {
      "text/plain": [
       "(1287,)"
      ]
     },
     "execution_count": 23,
     "metadata": {},
     "output_type": "execute_result"
    }
   ],
   "source": [
    "banner_ids.shape"
   ]
  },
  {
   "cell_type": "code",
   "execution_count": 24,
   "metadata": {},
   "outputs": [
    {
     "data": {
      "text/plain": [
       "array([ 1,  2,  3,  4,  5,  6,  7,  8,  9, 11])"
      ]
     },
     "execution_count": 24,
     "metadata": {},
     "output_type": "execute_result"
    }
   ],
   "source": [
    "banner_ids[:10]"
   ]
  },
  {
   "cell_type": "code",
   "execution_count": 25,
   "metadata": {},
   "outputs": [],
   "source": [
    "known_banner_id = data.banner_id.isin(banner_ids)"
   ]
  },
  {
   "cell_type": "code",
   "execution_count": 26,
   "metadata": {},
   "outputs": [
    {
     "data": {
      "text/plain": [
       "(13947159,)"
      ]
     },
     "execution_count": 26,
     "metadata": {},
     "output_type": "execute_result"
    }
   ],
   "source": [
    "known_banner_id.shape"
   ]
  },
  {
   "cell_type": "code",
   "execution_count": 27,
   "metadata": {},
   "outputs": [
    {
     "data": {
      "text/plain": [
       "13462822"
      ]
     },
     "execution_count": 27,
     "metadata": {},
     "output_type": "execute_result"
    }
   ],
   "source": [
    "known_banner_id.sum()"
   ]
  },
  {
   "cell_type": "code",
   "execution_count": 28,
   "metadata": {},
   "outputs": [
    {
     "data": {
      "text/plain": [
       "0.9652734295206644"
      ]
     },
     "execution_count": 28,
     "metadata": {},
     "output_type": "execute_result"
    }
   ],
   "source": [
    "known_banner_id.mean()"
   ]
  },
  {
   "cell_type": "code",
   "execution_count": 29,
   "metadata": {},
   "outputs": [
    {
     "data": {
      "text/plain": [
       "0.891812593292365"
      ]
     },
     "execution_count": 29,
     "metadata": {},
     "output_type": "execute_result"
    }
   ],
   "source": [
    "known_banner_id[data.day == 6].mean()"
   ]
  },
  {
   "cell_type": "code",
   "execution_count": 30,
   "metadata": {
    "scrolled": true
   },
   "outputs": [
    {
     "data": {
      "text/plain": [
       "0.9061168332478479"
      ]
     },
     "execution_count": 30,
     "metadata": {},
     "output_type": "execute_result"
    }
   ],
   "source": [
    "known_banner_id[data.day == 5].mean()"
   ]
  },
  {
   "cell_type": "code",
   "execution_count": 31,
   "metadata": {},
   "outputs": [],
   "source": [
    "data[\"fixed_banner_id\"] = data.banner_id + 1"
   ]
  },
  {
   "cell_type": "code",
   "execution_count": 32,
   "metadata": {},
   "outputs": [
    {
     "data": {
      "text/plain": [
       "(1, 1633)"
      ]
     },
     "execution_count": 32,
     "metadata": {},
     "output_type": "execute_result"
    }
   ],
   "source": [
    "data.fixed_banner_id.min(), data.fixed_banner_id.max()"
   ]
  },
  {
   "cell_type": "code",
   "execution_count": 33,
   "metadata": {},
   "outputs": [],
   "source": [
    "data.loc[~known_banner_id, \"fixed_banner_id\"] = 0"
   ]
  },
  {
   "cell_type": "code",
   "execution_count": 34,
   "metadata": {},
   "outputs": [
    {
     "data": {
      "text/plain": [
       "(0, 1633)"
      ]
     },
     "execution_count": 34,
     "metadata": {},
     "output_type": "execute_result"
    }
   ],
   "source": [
    "data.fixed_banner_id.min(), data.fixed_banner_id.max()"
   ]
  },
  {
   "cell_type": "code",
   "execution_count": null,
   "metadata": {},
   "outputs": [],
   "source": []
  },
  {
   "cell_type": "code",
   "execution_count": 35,
   "metadata": {},
   "outputs": [],
   "source": [
    "known_banner_id1 = data.banner_id1.isin(banner_ids)"
   ]
  },
  {
   "cell_type": "code",
   "execution_count": 36,
   "metadata": {},
   "outputs": [
    {
     "data": {
      "text/plain": [
       "((13947159,), 0.7481352295474656, 0.6876228565091423, 0.6685980147702112)"
      ]
     },
     "execution_count": 36,
     "metadata": {},
     "output_type": "execute_result"
    }
   ],
   "source": [
    "known_banner_id1.shape, known_banner_id1.mean(), \\\n",
    "known_banner_id1[data.day == 5].mean(), known_banner_id1[data.day == 6].mean()"
   ]
  },
  {
   "cell_type": "code",
   "execution_count": 37,
   "metadata": {},
   "outputs": [],
   "source": [
    "data[\"fixed_banner_id1\"] = data.banner_id1 + 1"
   ]
  },
  {
   "cell_type": "code",
   "execution_count": 38,
   "metadata": {},
   "outputs": [
    {
     "data": {
      "text/plain": [
       "(1, 14623603)"
      ]
     },
     "execution_count": 38,
     "metadata": {},
     "output_type": "execute_result"
    }
   ],
   "source": [
    "data.fixed_banner_id1.min(), data.fixed_banner_id1.max()"
   ]
  },
  {
   "cell_type": "code",
   "execution_count": 39,
   "metadata": {},
   "outputs": [],
   "source": [
    "data.loc[~known_banner_id1, \"fixed_banner_id1\"] = 0"
   ]
  },
  {
   "cell_type": "code",
   "execution_count": 40,
   "metadata": {},
   "outputs": [
    {
     "data": {
      "text/plain": [
       "(0, 1625)"
      ]
     },
     "execution_count": 40,
     "metadata": {},
     "output_type": "execute_result"
    }
   ],
   "source": [
    "data.fixed_banner_id1.min(), data.fixed_banner_id1.max()"
   ]
  },
  {
   "cell_type": "code",
   "execution_count": null,
   "metadata": {},
   "outputs": [],
   "source": []
  },
  {
   "cell_type": "code",
   "execution_count": 41,
   "metadata": {},
   "outputs": [],
   "source": [
    "x, y = pd.factorize(pd.concat([data.fixed_banner_id, data.fixed_banner_id1]))"
   ]
  },
  {
   "cell_type": "code",
   "execution_count": 42,
   "metadata": {},
   "outputs": [
    {
     "data": {
      "text/plain": [
       "((27894318,), (1288,))"
      ]
     },
     "execution_count": 42,
     "metadata": {},
     "output_type": "execute_result"
    }
   ],
   "source": [
    "x.shape, y.shape"
   ]
  },
  {
   "cell_type": "code",
   "execution_count": 43,
   "metadata": {},
   "outputs": [],
   "source": [
    "z = x.reshape((2, -1)).T"
   ]
  },
  {
   "cell_type": "code",
   "execution_count": 44,
   "metadata": {},
   "outputs": [
    {
     "data": {
      "text/plain": [
       "(13947159, 2)"
      ]
     },
     "execution_count": 44,
     "metadata": {},
     "output_type": "execute_result"
    }
   ],
   "source": [
    "z.shape"
   ]
  },
  {
   "cell_type": "code",
   "execution_count": 45,
   "metadata": {},
   "outputs": [],
   "source": [
    "data[[\"banner_id_feat\", \"banner_id1_feat\"]] = z"
   ]
  },
  {
   "cell_type": "code",
   "execution_count": 46,
   "metadata": {},
   "outputs": [
    {
     "data": {
      "text/html": [
       "<div>\n",
       "<style scoped>\n",
       "    .dataframe tbody tr th:only-of-type {\n",
       "        vertical-align: middle;\n",
       "    }\n",
       "\n",
       "    .dataframe tbody tr th {\n",
       "        vertical-align: top;\n",
       "    }\n",
       "\n",
       "    .dataframe thead th {\n",
       "        text-align: right;\n",
       "    }\n",
       "</style>\n",
       "<table border=\"1\" class=\"dataframe\">\n",
       "  <thead>\n",
       "    <tr style=\"text-align: right;\">\n",
       "      <th></th>\n",
       "      <th>banner_id_feat</th>\n",
       "      <th>banner_id1_feat</th>\n",
       "      <th>banner_id</th>\n",
       "      <th>banner_id1</th>\n",
       "      <th>fixed_banner_id</th>\n",
       "      <th>fixed_banner_id1</th>\n",
       "    </tr>\n",
       "  </thead>\n",
       "  <tbody>\n",
       "    <tr>\n",
       "      <th>1</th>\n",
       "      <td>0</td>\n",
       "      <td>233</td>\n",
       "      <td>1</td>\n",
       "      <td>269</td>\n",
       "      <td>2</td>\n",
       "      <td>270</td>\n",
       "    </tr>\n",
       "    <tr>\n",
       "      <th>2</th>\n",
       "      <td>1</td>\n",
       "      <td>18</td>\n",
       "      <td>2</td>\n",
       "      <td>21</td>\n",
       "      <td>3</td>\n",
       "      <td>22</td>\n",
       "    </tr>\n",
       "    <tr>\n",
       "      <th>3</th>\n",
       "      <td>2</td>\n",
       "      <td>88</td>\n",
       "      <td>3</td>\n",
       "      <td>99</td>\n",
       "      <td>4</td>\n",
       "      <td>100</td>\n",
       "    </tr>\n",
       "    <tr>\n",
       "      <th>4</th>\n",
       "      <td>3</td>\n",
       "      <td>49</td>\n",
       "      <td>4</td>\n",
       "      <td>11464230</td>\n",
       "      <td>5</td>\n",
       "      <td>0</td>\n",
       "    </tr>\n",
       "    <tr>\n",
       "      <th>5</th>\n",
       "      <td>4</td>\n",
       "      <td>31</td>\n",
       "      <td>5</td>\n",
       "      <td>37</td>\n",
       "      <td>6</td>\n",
       "      <td>38</td>\n",
       "    </tr>\n",
       "    <tr>\n",
       "      <th>6</th>\n",
       "      <td>5</td>\n",
       "      <td>25</td>\n",
       "      <td>6</td>\n",
       "      <td>29</td>\n",
       "      <td>7</td>\n",
       "      <td>30</td>\n",
       "    </tr>\n",
       "    <tr>\n",
       "      <th>7</th>\n",
       "      <td>6</td>\n",
       "      <td>49</td>\n",
       "      <td>7</td>\n",
       "      <td>11464231</td>\n",
       "      <td>8</td>\n",
       "      <td>0</td>\n",
       "    </tr>\n",
       "    <tr>\n",
       "      <th>8</th>\n",
       "      <td>7</td>\n",
       "      <td>274</td>\n",
       "      <td>8</td>\n",
       "      <td>243</td>\n",
       "      <td>9</td>\n",
       "      <td>244</td>\n",
       "    </tr>\n",
       "    <tr>\n",
       "      <th>9</th>\n",
       "      <td>8</td>\n",
       "      <td>49</td>\n",
       "      <td>9</td>\n",
       "      <td>11464232</td>\n",
       "      <td>10</td>\n",
       "      <td>0</td>\n",
       "    </tr>\n",
       "    <tr>\n",
       "      <th>11</th>\n",
       "      <td>9</td>\n",
       "      <td>291</td>\n",
       "      <td>11</td>\n",
       "      <td>314</td>\n",
       "      <td>12</td>\n",
       "      <td>315</td>\n",
       "    </tr>\n",
       "    <tr>\n",
       "      <th>12</th>\n",
       "      <td>10</td>\n",
       "      <td>858</td>\n",
       "      <td>12</td>\n",
       "      <td>972</td>\n",
       "      <td>13</td>\n",
       "      <td>973</td>\n",
       "    </tr>\n",
       "    <tr>\n",
       "      <th>13</th>\n",
       "      <td>11</td>\n",
       "      <td>49</td>\n",
       "      <td>13</td>\n",
       "      <td>11464233</td>\n",
       "      <td>14</td>\n",
       "      <td>0</td>\n",
       "    </tr>\n",
       "    <tr>\n",
       "      <th>14</th>\n",
       "      <td>12</td>\n",
       "      <td>79</td>\n",
       "      <td>14</td>\n",
       "      <td>90</td>\n",
       "      <td>15</td>\n",
       "      <td>91</td>\n",
       "    </tr>\n",
       "    <tr>\n",
       "      <th>15</th>\n",
       "      <td>13</td>\n",
       "      <td>243</td>\n",
       "      <td>15</td>\n",
       "      <td>281</td>\n",
       "      <td>16</td>\n",
       "      <td>282</td>\n",
       "    </tr>\n",
       "    <tr>\n",
       "      <th>17</th>\n",
       "      <td>14</td>\n",
       "      <td>182</td>\n",
       "      <td>17</td>\n",
       "      <td>199</td>\n",
       "      <td>18</td>\n",
       "      <td>200</td>\n",
       "    </tr>\n",
       "    <tr>\n",
       "      <th>18</th>\n",
       "      <td>15</td>\n",
       "      <td>42</td>\n",
       "      <td>18</td>\n",
       "      <td>16</td>\n",
       "      <td>19</td>\n",
       "      <td>17</td>\n",
       "    </tr>\n",
       "    <tr>\n",
       "      <th>19</th>\n",
       "      <td>16</td>\n",
       "      <td>40</td>\n",
       "      <td>19</td>\n",
       "      <td>48</td>\n",
       "      <td>20</td>\n",
       "      <td>49</td>\n",
       "    </tr>\n",
       "    <tr>\n",
       "      <th>20</th>\n",
       "      <td>17</td>\n",
       "      <td>99</td>\n",
       "      <td>20</td>\n",
       "      <td>30</td>\n",
       "      <td>21</td>\n",
       "      <td>31</td>\n",
       "    </tr>\n",
       "    <tr>\n",
       "      <th>21</th>\n",
       "      <td>18</td>\n",
       "      <td>1</td>\n",
       "      <td>21</td>\n",
       "      <td>2</td>\n",
       "      <td>22</td>\n",
       "      <td>3</td>\n",
       "    </tr>\n",
       "    <tr>\n",
       "      <th>23</th>\n",
       "      <td>19</td>\n",
       "      <td>42</td>\n",
       "      <td>23</td>\n",
       "      <td>16</td>\n",
       "      <td>24</td>\n",
       "      <td>17</td>\n",
       "    </tr>\n",
       "  </tbody>\n",
       "</table>\n",
       "</div>"
      ],
      "text/plain": [
       "    banner_id_feat  banner_id1_feat  banner_id  banner_id1  fixed_banner_id  \\\n",
       "1                0              233          1         269                2   \n",
       "2                1               18          2          21                3   \n",
       "3                2               88          3          99                4   \n",
       "4                3               49          4    11464230                5   \n",
       "5                4               31          5          37                6   \n",
       "6                5               25          6          29                7   \n",
       "7                6               49          7    11464231                8   \n",
       "8                7              274          8         243                9   \n",
       "9                8               49          9    11464232               10   \n",
       "11               9              291         11         314               12   \n",
       "12              10              858         12         972               13   \n",
       "13              11               49         13    11464233               14   \n",
       "14              12               79         14          90               15   \n",
       "15              13              243         15         281               16   \n",
       "17              14              182         17         199               18   \n",
       "18              15               42         18          16               19   \n",
       "19              16               40         19          48               20   \n",
       "20              17               99         20          30               21   \n",
       "21              18                1         21           2               22   \n",
       "23              19               42         23          16               24   \n",
       "\n",
       "    fixed_banner_id1  \n",
       "1                270  \n",
       "2                 22  \n",
       "3                100  \n",
       "4                  0  \n",
       "5                 38  \n",
       "6                 30  \n",
       "7                  0  \n",
       "8                244  \n",
       "9                  0  \n",
       "11               315  \n",
       "12               973  \n",
       "13                 0  \n",
       "14                91  \n",
       "15               282  \n",
       "17               200  \n",
       "18                17  \n",
       "19                49  \n",
       "20                31  \n",
       "21                 3  \n",
       "23                17  "
      ]
     },
     "execution_count": 46,
     "metadata": {},
     "output_type": "execute_result"
    }
   ],
   "source": [
    "data[[\"banner_id_feat\", \"banner_id1_feat\", \"banner_id\", \"banner_id1\", \"fixed_banner_id\", \"fixed_banner_id1\"]].head(20)"
   ]
  },
  {
   "cell_type": "code",
   "execution_count": 47,
   "metadata": {},
   "outputs": [
    {
     "data": {
      "text/plain": [
       "(0, 1287)"
      ]
     },
     "execution_count": 47,
     "metadata": {},
     "output_type": "execute_result"
    }
   ],
   "source": [
    "data.banner_id_feat.min(), data.banner_id_feat.max()"
   ]
  },
  {
   "cell_type": "code",
   "execution_count": 48,
   "metadata": {},
   "outputs": [
    {
     "data": {
      "text/plain": [
       "(0, 1286)"
      ]
     },
     "execution_count": 48,
     "metadata": {},
     "output_type": "execute_result"
    }
   ],
   "source": [
    "data.banner_id1_feat.min(), data.banner_id1_feat.max()"
   ]
  },
  {
   "cell_type": "code",
   "execution_count": null,
   "metadata": {},
   "outputs": [],
   "source": []
  },
  {
   "cell_type": "code",
   "execution_count": 49,
   "metadata": {},
   "outputs": [],
   "source": [
    "categorical_columns = [\"zone_id\", \"os_id\", \"country_id\"]"
   ]
  },
  {
   "cell_type": "code",
   "execution_count": 50,
   "metadata": {},
   "outputs": [
    {
     "name": "stdout",
     "output_type": "stream",
     "text": [
      "zone_id 0 3443\n",
      "os_id 0 10\n",
      "country_id 0 16\n"
     ]
    }
   ],
   "source": [
    "for colname in categorical_columns:\n",
    "    print(colname, data[colname].min(), data[colname].max())\n",
    "    data[colname] = data[colname].astype(\n",
    "        pd.api.types.CategoricalDtype(range(data[colname].max() - data[colname].min() + 1))\n",
    "    )"
   ]
  },
  {
   "cell_type": "code",
   "execution_count": 51,
   "metadata": {},
   "outputs": [],
   "source": [
    "data[\"banner_id_feat\"] = data[\"banner_id_feat\"].astype(\n",
    "    pd.api.types.CategoricalDtype(range(1288))\n",
    ")\n",
    "data[\"banner_id1_feat\"] = data[\"banner_id1_feat\"].astype(\n",
    "    pd.api.types.CategoricalDtype(range(1288))\n",
    ")"
   ]
  },
  {
   "cell_type": "code",
   "execution_count": null,
   "metadata": {},
   "outputs": [],
   "source": []
  },
  {
   "cell_type": "code",
   "execution_count": 52,
   "metadata": {},
   "outputs": [
    {
     "name": "stderr",
     "output_type": "stream",
     "text": [
      "/home/ifled/tmpdir/ipykernel_752266/1336221646.py:1: FutureWarning: Treating datetime data as categorical rather than numeric in `.describe` is deprecated and will be removed in a future version of pandas. Specify `datetime_is_numeric=True` to silence this warning and adopt the future behavior now.\n",
      "  data.describe(include='all')\n"
     ]
    },
    {
     "data": {
      "text/html": [
       "<div>\n",
       "<style scoped>\n",
       "    .dataframe tbody tr th:only-of-type {\n",
       "        vertical-align: middle;\n",
       "    }\n",
       "\n",
       "    .dataframe tbody tr th {\n",
       "        vertical-align: top;\n",
       "    }\n",
       "\n",
       "    .dataframe thead th {\n",
       "        text-align: right;\n",
       "    }\n",
       "</style>\n",
       "<table border=\"1\" class=\"dataframe\">\n",
       "  <thead>\n",
       "    <tr style=\"text-align: right;\">\n",
       "      <th></th>\n",
       "      <th>date_time</th>\n",
       "      <th>zone_id</th>\n",
       "      <th>banner_id</th>\n",
       "      <th>oaid_hash</th>\n",
       "      <th>campaign_clicks</th>\n",
       "      <th>os_id</th>\n",
       "      <th>country_id</th>\n",
       "      <th>banner_id0</th>\n",
       "      <th>rate0</th>\n",
       "      <th>g0</th>\n",
       "      <th>...</th>\n",
       "      <th>rate1</th>\n",
       "      <th>g1</th>\n",
       "      <th>coeff_sum1</th>\n",
       "      <th>impressions</th>\n",
       "      <th>clicks</th>\n",
       "      <th>day</th>\n",
       "      <th>fixed_banner_id</th>\n",
       "      <th>fixed_banner_id1</th>\n",
       "      <th>banner_id_feat</th>\n",
       "      <th>banner_id1_feat</th>\n",
       "    </tr>\n",
       "  </thead>\n",
       "  <tbody>\n",
       "    <tr>\n",
       "      <th>count</th>\n",
       "      <td>13947159</td>\n",
       "      <td>13947159.0</td>\n",
       "      <td>1.394716e+07</td>\n",
       "      <td>1.394716e+07</td>\n",
       "      <td>1.394716e+07</td>\n",
       "      <td>13947159.0</td>\n",
       "      <td>13947159.0</td>\n",
       "      <td>1.394716e+07</td>\n",
       "      <td>1.394716e+07</td>\n",
       "      <td>1.394716e+07</td>\n",
       "      <td>...</td>\n",
       "      <td>1.392748e+07</td>\n",
       "      <td>1.392748e+07</td>\n",
       "      <td>1.392748e+07</td>\n",
       "      <td>13947159.0</td>\n",
       "      <td>1.394716e+07</td>\n",
       "      <td>1.394716e+07</td>\n",
       "      <td>1.394716e+07</td>\n",
       "      <td>1.394716e+07</td>\n",
       "      <td>13947159.0</td>\n",
       "      <td>13947159.0</td>\n",
       "    </tr>\n",
       "    <tr>\n",
       "      <th>unique</th>\n",
       "      <td>604704</td>\n",
       "      <td>3302.0</td>\n",
       "      <td>NaN</td>\n",
       "      <td>NaN</td>\n",
       "      <td>NaN</td>\n",
       "      <td>11.0</td>\n",
       "      <td>17.0</td>\n",
       "      <td>NaN</td>\n",
       "      <td>NaN</td>\n",
       "      <td>NaN</td>\n",
       "      <td>...</td>\n",
       "      <td>NaN</td>\n",
       "      <td>NaN</td>\n",
       "      <td>NaN</td>\n",
       "      <td>NaN</td>\n",
       "      <td>NaN</td>\n",
       "      <td>NaN</td>\n",
       "      <td>NaN</td>\n",
       "      <td>NaN</td>\n",
       "      <td>1288.0</td>\n",
       "      <td>1204.0</td>\n",
       "    </tr>\n",
       "    <tr>\n",
       "      <th>top</th>\n",
       "      <td>2021-09-26 17:08:47</td>\n",
       "      <td>17.0</td>\n",
       "      <td>NaN</td>\n",
       "      <td>NaN</td>\n",
       "      <td>NaN</td>\n",
       "      <td>2.0</td>\n",
       "      <td>0.0</td>\n",
       "      <td>NaN</td>\n",
       "      <td>NaN</td>\n",
       "      <td>NaN</td>\n",
       "      <td>...</td>\n",
       "      <td>NaN</td>\n",
       "      <td>NaN</td>\n",
       "      <td>NaN</td>\n",
       "      <td>NaN</td>\n",
       "      <td>NaN</td>\n",
       "      <td>NaN</td>\n",
       "      <td>NaN</td>\n",
       "      <td>NaN</td>\n",
       "      <td>49.0</td>\n",
       "      <td>49.0</td>\n",
       "    </tr>\n",
       "    <tr>\n",
       "      <th>freq</th>\n",
       "      <td>121</td>\n",
       "      <td>1885797.0</td>\n",
       "      <td>NaN</td>\n",
       "      <td>NaN</td>\n",
       "      <td>NaN</td>\n",
       "      <td>4277307.0</td>\n",
       "      <td>4451071.0</td>\n",
       "      <td>NaN</td>\n",
       "      <td>NaN</td>\n",
       "      <td>NaN</td>\n",
       "      <td>...</td>\n",
       "      <td>NaN</td>\n",
       "      <td>NaN</td>\n",
       "      <td>NaN</td>\n",
       "      <td>NaN</td>\n",
       "      <td>NaN</td>\n",
       "      <td>NaN</td>\n",
       "      <td>NaN</td>\n",
       "      <td>NaN</td>\n",
       "      <td>484337.0</td>\n",
       "      <td>3512798.0</td>\n",
       "    </tr>\n",
       "    <tr>\n",
       "      <th>first</th>\n",
       "      <td>2021-09-26 00:00:00</td>\n",
       "      <td>NaN</td>\n",
       "      <td>NaN</td>\n",
       "      <td>NaN</td>\n",
       "      <td>NaN</td>\n",
       "      <td>NaN</td>\n",
       "      <td>NaN</td>\n",
       "      <td>NaN</td>\n",
       "      <td>NaN</td>\n",
       "      <td>NaN</td>\n",
       "      <td>...</td>\n",
       "      <td>NaN</td>\n",
       "      <td>NaN</td>\n",
       "      <td>NaN</td>\n",
       "      <td>NaN</td>\n",
       "      <td>NaN</td>\n",
       "      <td>NaN</td>\n",
       "      <td>NaN</td>\n",
       "      <td>NaN</td>\n",
       "      <td>NaN</td>\n",
       "      <td>NaN</td>\n",
       "    </tr>\n",
       "    <tr>\n",
       "      <th>last</th>\n",
       "      <td>2021-10-02 23:59:59</td>\n",
       "      <td>NaN</td>\n",
       "      <td>NaN</td>\n",
       "      <td>NaN</td>\n",
       "      <td>NaN</td>\n",
       "      <td>NaN</td>\n",
       "      <td>NaN</td>\n",
       "      <td>NaN</td>\n",
       "      <td>NaN</td>\n",
       "      <td>NaN</td>\n",
       "      <td>...</td>\n",
       "      <td>NaN</td>\n",
       "      <td>NaN</td>\n",
       "      <td>NaN</td>\n",
       "      <td>NaN</td>\n",
       "      <td>NaN</td>\n",
       "      <td>NaN</td>\n",
       "      <td>NaN</td>\n",
       "      <td>NaN</td>\n",
       "      <td>NaN</td>\n",
       "      <td>NaN</td>\n",
       "    </tr>\n",
       "    <tr>\n",
       "      <th>mean</th>\n",
       "      <td>NaN</td>\n",
       "      <td>NaN</td>\n",
       "      <td>4.042934e+02</td>\n",
       "      <td>4.610500e+18</td>\n",
       "      <td>6.582655e-01</td>\n",
       "      <td>NaN</td>\n",
       "      <td>NaN</td>\n",
       "      <td>4.042934e+02</td>\n",
       "      <td>1.759876e-02</td>\n",
       "      <td>8.242761e-01</td>\n",
       "      <td>...</td>\n",
       "      <td>1.602681e+00</td>\n",
       "      <td>5.769000e-01</td>\n",
       "      <td>-3.926098e+00</td>\n",
       "      <td>1.0</td>\n",
       "      <td>2.642495e-02</td>\n",
       "      <td>2.704638e+00</td>\n",
       "      <td>3.798563e+02</td>\n",
       "      <td>3.402266e+02</td>\n",
       "      <td>NaN</td>\n",
       "      <td>NaN</td>\n",
       "    </tr>\n",
       "    <tr>\n",
       "      <th>std</th>\n",
       "      <td>NaN</td>\n",
       "      <td>NaN</td>\n",
       "      <td>4.015323e+02</td>\n",
       "      <td>2.664456e+18</td>\n",
       "      <td>9.836084e+00</td>\n",
       "      <td>NaN</td>\n",
       "      <td>NaN</td>\n",
       "      <td>4.015323e+02</td>\n",
       "      <td>1.916371e-02</td>\n",
       "      <td>1.766021e+01</td>\n",
       "      <td>...</td>\n",
       "      <td>9.238125e+00</td>\n",
       "      <td>1.460710e+01</td>\n",
       "      <td>1.227853e+00</td>\n",
       "      <td>0.0</td>\n",
       "      <td>1.603954e-01</td>\n",
       "      <td>2.038168e+00</td>\n",
       "      <td>3.966996e+02</td>\n",
       "      <td>4.199097e+02</td>\n",
       "      <td>NaN</td>\n",
       "      <td>NaN</td>\n",
       "    </tr>\n",
       "    <tr>\n",
       "      <th>min</th>\n",
       "      <td>NaN</td>\n",
       "      <td>NaN</td>\n",
       "      <td>0.000000e+00</td>\n",
       "      <td>1.116911e+12</td>\n",
       "      <td>0.000000e+00</td>\n",
       "      <td>NaN</td>\n",
       "      <td>NaN</td>\n",
       "      <td>0.000000e+00</td>\n",
       "      <td>0.000000e+00</td>\n",
       "      <td>-1.763740e-02</td>\n",
       "      <td>...</td>\n",
       "      <td>0.000000e+00</td>\n",
       "      <td>-6.983897e-02</td>\n",
       "      <td>-8.427827e+00</td>\n",
       "      <td>1.0</td>\n",
       "      <td>0.000000e+00</td>\n",
       "      <td>0.000000e+00</td>\n",
       "      <td>0.000000e+00</td>\n",
       "      <td>0.000000e+00</td>\n",
       "      <td>NaN</td>\n",
       "      <td>NaN</td>\n",
       "    </tr>\n",
       "    <tr>\n",
       "      <th>25%</th>\n",
       "      <td>NaN</td>\n",
       "      <td>NaN</td>\n",
       "      <td>6.700000e+01</td>\n",
       "      <td>2.296001e+18</td>\n",
       "      <td>0.000000e+00</td>\n",
       "      <td>NaN</td>\n",
       "      <td>NaN</td>\n",
       "      <td>6.700000e+01</td>\n",
       "      <td>5.000000e-03</td>\n",
       "      <td>1.788340e-02</td>\n",
       "      <td>...</td>\n",
       "      <td>5.000000e-03</td>\n",
       "      <td>1.625809e-02</td>\n",
       "      <td>-4.507826e+00</td>\n",
       "      <td>1.0</td>\n",
       "      <td>0.000000e+00</td>\n",
       "      <td>1.000000e+00</td>\n",
       "      <td>5.300000e+01</td>\n",
       "      <td>0.000000e+00</td>\n",
       "      <td>NaN</td>\n",
       "      <td>NaN</td>\n",
       "    </tr>\n",
       "    <tr>\n",
       "      <th>50%</th>\n",
       "      <td>NaN</td>\n",
       "      <td>NaN</td>\n",
       "      <td>2.500000e+02</td>\n",
       "      <td>4.614643e+18</td>\n",
       "      <td>0.000000e+00</td>\n",
       "      <td>NaN</td>\n",
       "      <td>NaN</td>\n",
       "      <td>2.500000e+02</td>\n",
       "      <td>1.000000e-02</td>\n",
       "      <td>3.713591e-02</td>\n",
       "      <td>...</td>\n",
       "      <td>1.400000e-02</td>\n",
       "      <td>3.585741e-02</td>\n",
       "      <td>-3.878105e+00</td>\n",
       "      <td>1.0</td>\n",
       "      <td>0.000000e+00</td>\n",
       "      <td>3.000000e+00</td>\n",
       "      <td>2.060000e+02</td>\n",
       "      <td>1.350000e+02</td>\n",
       "      <td>NaN</td>\n",
       "      <td>NaN</td>\n",
       "    </tr>\n",
       "    <tr>\n",
       "      <th>75%</th>\n",
       "      <td>NaN</td>\n",
       "      <td>NaN</td>\n",
       "      <td>6.230000e+02</td>\n",
       "      <td>6.915454e+18</td>\n",
       "      <td>0.000000e+00</td>\n",
       "      <td>NaN</td>\n",
       "      <td>NaN</td>\n",
       "      <td>6.230000e+02</td>\n",
       "      <td>2.100000e-02</td>\n",
       "      <td>8.214594e-02</td>\n",
       "      <td>...</td>\n",
       "      <td>6.700000e-02</td>\n",
       "      <td>7.633557e-02</td>\n",
       "      <td>-3.321250e+00</td>\n",
       "      <td>1.0</td>\n",
       "      <td>0.000000e+00</td>\n",
       "      <td>4.000000e+00</td>\n",
       "      <td>6.100000e+02</td>\n",
       "      <td>5.980000e+02</td>\n",
       "      <td>NaN</td>\n",
       "      <td>NaN</td>\n",
       "    </tr>\n",
       "    <tr>\n",
       "      <th>max</th>\n",
       "      <td>NaN</td>\n",
       "      <td>NaN</td>\n",
       "      <td>1.632000e+03</td>\n",
       "      <td>9.223371e+18</td>\n",
       "      <td>8.290000e+02</td>\n",
       "      <td>NaN</td>\n",
       "      <td>NaN</td>\n",
       "      <td>1.632000e+03</td>\n",
       "      <td>1.000000e-01</td>\n",
       "      <td>6.910888e+02</td>\n",
       "      <td>...</td>\n",
       "      <td>1.000000e+02</td>\n",
       "      <td>6.910885e+02</td>\n",
       "      <td>4.756181e-01</td>\n",
       "      <td>1.0</td>\n",
       "      <td>1.000000e+00</td>\n",
       "      <td>6.000000e+00</td>\n",
       "      <td>1.633000e+03</td>\n",
       "      <td>1.625000e+03</td>\n",
       "      <td>NaN</td>\n",
       "      <td>NaN</td>\n",
       "    </tr>\n",
       "  </tbody>\n",
       "</table>\n",
       "<p>13 rows × 22 columns</p>\n",
       "</div>"
      ],
      "text/plain": [
       "                  date_time     zone_id     banner_id     oaid_hash  \\\n",
       "count              13947159  13947159.0  1.394716e+07  1.394716e+07   \n",
       "unique               604704      3302.0           NaN           NaN   \n",
       "top     2021-09-26 17:08:47        17.0           NaN           NaN   \n",
       "freq                    121   1885797.0           NaN           NaN   \n",
       "first   2021-09-26 00:00:00         NaN           NaN           NaN   \n",
       "last    2021-10-02 23:59:59         NaN           NaN           NaN   \n",
       "mean                    NaN         NaN  4.042934e+02  4.610500e+18   \n",
       "std                     NaN         NaN  4.015323e+02  2.664456e+18   \n",
       "min                     NaN         NaN  0.000000e+00  1.116911e+12   \n",
       "25%                     NaN         NaN  6.700000e+01  2.296001e+18   \n",
       "50%                     NaN         NaN  2.500000e+02  4.614643e+18   \n",
       "75%                     NaN         NaN  6.230000e+02  6.915454e+18   \n",
       "max                     NaN         NaN  1.632000e+03  9.223371e+18   \n",
       "\n",
       "        campaign_clicks       os_id  country_id    banner_id0         rate0  \\\n",
       "count      1.394716e+07  13947159.0  13947159.0  1.394716e+07  1.394716e+07   \n",
       "unique              NaN        11.0        17.0           NaN           NaN   \n",
       "top                 NaN         2.0         0.0           NaN           NaN   \n",
       "freq                NaN   4277307.0   4451071.0           NaN           NaN   \n",
       "first               NaN         NaN         NaN           NaN           NaN   \n",
       "last                NaN         NaN         NaN           NaN           NaN   \n",
       "mean       6.582655e-01         NaN         NaN  4.042934e+02  1.759876e-02   \n",
       "std        9.836084e+00         NaN         NaN  4.015323e+02  1.916371e-02   \n",
       "min        0.000000e+00         NaN         NaN  0.000000e+00  0.000000e+00   \n",
       "25%        0.000000e+00         NaN         NaN  6.700000e+01  5.000000e-03   \n",
       "50%        0.000000e+00         NaN         NaN  2.500000e+02  1.000000e-02   \n",
       "75%        0.000000e+00         NaN         NaN  6.230000e+02  2.100000e-02   \n",
       "max        8.290000e+02         NaN         NaN  1.632000e+03  1.000000e-01   \n",
       "\n",
       "                  g0  ...         rate1            g1    coeff_sum1  \\\n",
       "count   1.394716e+07  ...  1.392748e+07  1.392748e+07  1.392748e+07   \n",
       "unique           NaN  ...           NaN           NaN           NaN   \n",
       "top              NaN  ...           NaN           NaN           NaN   \n",
       "freq             NaN  ...           NaN           NaN           NaN   \n",
       "first            NaN  ...           NaN           NaN           NaN   \n",
       "last             NaN  ...           NaN           NaN           NaN   \n",
       "mean    8.242761e-01  ...  1.602681e+00  5.769000e-01 -3.926098e+00   \n",
       "std     1.766021e+01  ...  9.238125e+00  1.460710e+01  1.227853e+00   \n",
       "min    -1.763740e-02  ...  0.000000e+00 -6.983897e-02 -8.427827e+00   \n",
       "25%     1.788340e-02  ...  5.000000e-03  1.625809e-02 -4.507826e+00   \n",
       "50%     3.713591e-02  ...  1.400000e-02  3.585741e-02 -3.878105e+00   \n",
       "75%     8.214594e-02  ...  6.700000e-02  7.633557e-02 -3.321250e+00   \n",
       "max     6.910888e+02  ...  1.000000e+02  6.910885e+02  4.756181e-01   \n",
       "\n",
       "        impressions        clicks           day  fixed_banner_id  \\\n",
       "count    13947159.0  1.394716e+07  1.394716e+07     1.394716e+07   \n",
       "unique          NaN           NaN           NaN              NaN   \n",
       "top             NaN           NaN           NaN              NaN   \n",
       "freq            NaN           NaN           NaN              NaN   \n",
       "first           NaN           NaN           NaN              NaN   \n",
       "last            NaN           NaN           NaN              NaN   \n",
       "mean            1.0  2.642495e-02  2.704638e+00     3.798563e+02   \n",
       "std             0.0  1.603954e-01  2.038168e+00     3.966996e+02   \n",
       "min             1.0  0.000000e+00  0.000000e+00     0.000000e+00   \n",
       "25%             1.0  0.000000e+00  1.000000e+00     5.300000e+01   \n",
       "50%             1.0  0.000000e+00  3.000000e+00     2.060000e+02   \n",
       "75%             1.0  0.000000e+00  4.000000e+00     6.100000e+02   \n",
       "max             1.0  1.000000e+00  6.000000e+00     1.633000e+03   \n",
       "\n",
       "        fixed_banner_id1  banner_id_feat  banner_id1_feat  \n",
       "count       1.394716e+07      13947159.0       13947159.0  \n",
       "unique               NaN          1288.0           1204.0  \n",
       "top                  NaN            49.0             49.0  \n",
       "freq                 NaN        484337.0        3512798.0  \n",
       "first                NaN             NaN              NaN  \n",
       "last                 NaN             NaN              NaN  \n",
       "mean        3.402266e+02             NaN              NaN  \n",
       "std         4.199097e+02             NaN              NaN  \n",
       "min         0.000000e+00             NaN              NaN  \n",
       "25%         0.000000e+00             NaN              NaN  \n",
       "50%         1.350000e+02             NaN              NaN  \n",
       "75%         5.980000e+02             NaN              NaN  \n",
       "max         1.625000e+03             NaN              NaN  \n",
       "\n",
       "[13 rows x 22 columns]"
      ]
     },
     "execution_count": 52,
     "metadata": {},
     "output_type": "execute_result"
    }
   ],
   "source": [
    "data.describe(include='all')"
   ]
  },
  {
   "cell_type": "markdown",
   "metadata": {},
   "source": [
    "## train dev test split"
   ]
  },
  {
   "cell_type": "code",
   "execution_count": 53,
   "metadata": {},
   "outputs": [
    {
     "data": {
      "text/plain": [
       "(10613857, 1442740, 1890562, 1890562)"
      ]
     },
     "execution_count": 53,
     "metadata": {},
     "output_type": "execute_result"
    }
   ],
   "source": [
    "train = data[data.day <= 4]\n",
    "dev = data[data.day == 5]\n",
    "test = data[data.day == 6]\n",
    "test_feats = test.drop(\"clicks\", axis='columns')\n",
    "\n",
    "len(train), len(dev), len(test), len(test_feats)"
   ]
  },
  {
   "cell_type": "code",
   "execution_count": 54,
   "metadata": {},
   "outputs": [
    {
     "data": {
      "text/plain": [
       "Index(['date_time', 'zone_id', 'banner_id', 'oaid_hash', 'campaign_clicks',\n",
       "       'os_id', 'country_id', 'banner_id0', 'rate0', 'g0', 'coeff_sum0',\n",
       "       'banner_id1', 'rate1', 'g1', 'coeff_sum1', 'impressions', 'day',\n",
       "       'fixed_banner_id', 'fixed_banner_id1', 'banner_id_feat',\n",
       "       'banner_id1_feat'],\n",
       "      dtype='object')"
      ]
     },
     "execution_count": 54,
     "metadata": {},
     "output_type": "execute_result"
    }
   ],
   "source": [
    "test_feats.columns"
   ]
  },
  {
   "cell_type": "code",
   "execution_count": null,
   "metadata": {},
   "outputs": [],
   "source": []
  },
  {
   "cell_type": "markdown",
   "metadata": {},
   "source": [
    "## Prepare baseline"
   ]
  },
  {
   "cell_type": "code",
   "execution_count": 55,
   "metadata": {},
   "outputs": [
    {
     "data": {
      "text/plain": [
       "(0.022485040075441002, 0.04254543438180129)"
      ]
     },
     "execution_count": 55,
     "metadata": {},
     "output_type": "execute_result"
    }
   ],
   "source": [
    "train.clicks.mean(), dev.clicks.mean()"
   ]
  },
  {
   "cell_type": "markdown",
   "metadata": {},
   "source": [
    "## Predict constant learned from train"
   ]
  },
  {
   "cell_type": "code",
   "execution_count": 56,
   "metadata": {},
   "outputs": [
    {
     "data": {
      "text/plain": [
       "0.18323001310351755"
      ]
     },
     "execution_count": 56,
     "metadata": {},
     "output_type": "execute_result"
    }
   ],
   "source": [
    "metrics.log_loss(dev.clicks, [0.022485040075441002] * len(dev))"
   ]
  },
  {
   "cell_type": "code",
   "execution_count": 57,
   "metadata": {},
   "outputs": [
    {
     "data": {
      "text/plain": [
       "0.15945293147295383"
      ]
     },
     "execution_count": 57,
     "metadata": {},
     "output_type": "execute_result"
    }
   ],
   "source": [
    "metrics.log_loss(test.clicks, [0.022485040075441002] * len(test))"
   ]
  },
  {
   "cell_type": "markdown",
   "metadata": {},
   "source": [
    "## Predict constant learned from dev"
   ]
  },
  {
   "cell_type": "code",
   "execution_count": 58,
   "metadata": {},
   "outputs": [
    {
     "data": {
      "text/plain": [
       "0.17595097248598737"
      ]
     },
     "execution_count": 58,
     "metadata": {},
     "output_type": "execute_result"
    }
   ],
   "source": [
    "metrics.log_loss(dev.clicks, [0.04254543438180129] * len(dev))"
   ]
  },
  {
   "cell_type": "code",
   "execution_count": 59,
   "metadata": {},
   "outputs": [
    {
     "data": {
      "text/plain": [
       "0.15632434782844007"
      ]
     },
     "execution_count": 59,
     "metadata": {},
     "output_type": "execute_result"
    }
   ],
   "source": [
    "metrics.log_loss(test.clicks, [0.04254543438180129] * len(test))"
   ]
  },
  {
   "cell_type": "code",
   "execution_count": null,
   "metadata": {},
   "outputs": [],
   "source": []
  },
  {
   "cell_type": "markdown",
   "metadata": {},
   "source": [
    "## Apply logistic regression with liblinear optimizer for 'zone_id', 'banner_id', 'os_id', 'country_id'\n",
    "\n",
    "Will not use model with interactions because it has almost same quality"
   ]
  },
  {
   "cell_type": "code",
   "execution_count": 60,
   "metadata": {},
   "outputs": [
    {
     "data": {
      "text/plain": [
       "['zone_id', 'os_id', 'country_id', 'banner_id_feat']"
      ]
     },
     "execution_count": 60,
     "metadata": {},
     "output_type": "execute_result"
    }
   ],
   "source": [
    "feature_columns = categorical_columns + [\"banner_id_feat\"]\n",
    "feature_columns"
   ]
  },
  {
   "cell_type": "code",
   "execution_count": 61,
   "metadata": {},
   "outputs": [],
   "source": [
    "X_train_cat = train[feature_columns].to_numpy()"
   ]
  },
  {
   "cell_type": "code",
   "execution_count": 62,
   "metadata": {
    "scrolled": true
   },
   "outputs": [],
   "source": [
    "ohe = preprocessing.OneHotEncoder(categories=[range(3444), range(11), range(17), range(1288)])"
   ]
  },
  {
   "cell_type": "code",
   "execution_count": 63,
   "metadata": {},
   "outputs": [
    {
     "data": {
      "text/plain": [
       "OneHotEncoder(categories=[range(0, 3444), range(0, 11), range(0, 17),\n",
       "                          range(0, 1288)])"
      ]
     },
     "execution_count": 63,
     "metadata": {},
     "output_type": "execute_result"
    }
   ],
   "source": [
    "ohe.fit(X_train_cat)"
   ]
  },
  {
   "cell_type": "code",
   "execution_count": 64,
   "metadata": {},
   "outputs": [],
   "source": [
    "X_train = ohe.transform(X_train_cat)"
   ]
  },
  {
   "cell_type": "code",
   "execution_count": 65,
   "metadata": {},
   "outputs": [
    {
     "data": {
      "text/plain": [
       "(10613857, 4760)"
      ]
     },
     "execution_count": 65,
     "metadata": {},
     "output_type": "execute_result"
    }
   ],
   "source": [
    "X_train.shape"
   ]
  },
  {
   "cell_type": "code",
   "execution_count": 66,
   "metadata": {},
   "outputs": [],
   "source": [
    "model = linear_model.LogisticRegression(solver='liblinear')"
   ]
  },
  {
   "cell_type": "code",
   "execution_count": 67,
   "metadata": {},
   "outputs": [],
   "source": [
    "shuffled_train_idxs = list(range(len(train)))\n",
    "np.random.shuffle(shuffled_train_idxs)"
   ]
  },
  {
   "cell_type": "code",
   "execution_count": null,
   "metadata": {},
   "outputs": [],
   "source": []
  },
  {
   "cell_type": "code",
   "execution_count": 68,
   "metadata": {
    "scrolled": true
   },
   "outputs": [
    {
     "name": "stdout",
     "output_type": "stream",
     "text": [
      "CPU times: user 1min 13s, sys: 3.47 s, total: 1min 17s\n",
      "Wall time: 28.9 s\n"
     ]
    },
    {
     "data": {
      "text/plain": [
       "LogisticRegression(solver='liblinear')"
      ]
     },
     "execution_count": 68,
     "metadata": {},
     "output_type": "execute_result"
    }
   ],
   "source": [
    "%%time\n",
    "model.fit(X_train[shuffled_train_idxs[:2000000]], train.clicks.to_numpy()[shuffled_train_idxs[:2000000]])"
   ]
  },
  {
   "cell_type": "code",
   "execution_count": null,
   "metadata": {},
   "outputs": [],
   "source": []
  },
  {
   "cell_type": "code",
   "execution_count": 69,
   "metadata": {},
   "outputs": [],
   "source": [
    "X_dev = ohe.transform(dev[feature_columns].to_numpy())"
   ]
  },
  {
   "cell_type": "code",
   "execution_count": 70,
   "metadata": {},
   "outputs": [
    {
     "name": "stdout",
     "output_type": "stream",
     "text": [
      "CPU times: user 64 ms, sys: 0 ns, total: 64 ms\n",
      "Wall time: 62.7 ms\n"
     ]
    }
   ],
   "source": [
    "%%time\n",
    "dev_predict = model.predict_proba(X_dev)"
   ]
  },
  {
   "cell_type": "code",
   "execution_count": 71,
   "metadata": {},
   "outputs": [
    {
     "data": {
      "text/plain": [
       "0.15238399769925912"
      ]
     },
     "execution_count": 71,
     "metadata": {},
     "output_type": "execute_result"
    }
   ],
   "source": [
    "metrics.log_loss(dev.clicks, dev_predict)"
   ]
  },
  {
   "cell_type": "code",
   "execution_count": null,
   "metadata": {},
   "outputs": [],
   "source": []
  },
  {
   "cell_type": "code",
   "execution_count": 72,
   "metadata": {},
   "outputs": [
    {
     "data": {
      "text/plain": [
       "0.1364646355605041"
      ]
     },
     "execution_count": 72,
     "metadata": {},
     "output_type": "execute_result"
    }
   ],
   "source": [
    "X_test = ohe.transform(test_feats[feature_columns].to_numpy())\n",
    "test_predict = model.predict_proba(X_test)\n",
    "metrics.log_loss(test.clicks, test_predict)"
   ]
  },
  {
   "cell_type": "code",
   "execution_count": null,
   "metadata": {},
   "outputs": [],
   "source": []
  },
  {
   "cell_type": "markdown",
   "metadata": {},
   "source": [
    "## Filter test data"
   ]
  },
  {
   "cell_type": "code",
   "execution_count": 73,
   "metadata": {},
   "outputs": [
    {
     "data": {
      "text/plain": [
       "((1890562, 22), (1890562, 21))"
      ]
     },
     "execution_count": 73,
     "metadata": {},
     "output_type": "execute_result"
    }
   ],
   "source": [
    "test.shape, test_feats.shape"
   ]
  },
  {
   "cell_type": "code",
   "execution_count": 74,
   "metadata": {},
   "outputs": [
    {
     "data": {
      "text/plain": [
       "<AxesSubplot:>"
      ]
     },
     "execution_count": 74,
     "metadata": {},
     "output_type": "execute_result"
    },
    {
     "data": {
      "image/png": "[encoded data removed]",
      "text/plain": [
       "<Figure size 432x288 with 1 Axes>"
      ]
     },
     "metadata": {
      "needs_background": "light"
     },
     "output_type": "display_data"
    }
   ],
   "source": [
    "test[test.g0 < 0.01].g0.hist(log=True)"
   ]
  },
  {
   "cell_type": "code",
   "execution_count": 75,
   "metadata": {},
   "outputs": [
    {
     "data": {
      "text/plain": [
       "73"
      ]
     },
     "execution_count": 75,
     "metadata": {},
     "output_type": "execute_result"
    }
   ],
   "source": [
    "(test.g0 < 0.001).sum()"
   ]
  },
  {
   "cell_type": "code",
   "execution_count": 76,
   "metadata": {},
   "outputs": [
    {
     "data": {
      "text/plain": [
       "32418"
      ]
     },
     "execution_count": 76,
     "metadata": {},
     "output_type": "execute_result"
    }
   ],
   "source": [
    "(test.g1 < 0.001).sum()"
   ]
  },
  {
   "cell_type": "code",
   "execution_count": 77,
   "metadata": {},
   "outputs": [
    {
     "data": {
      "text/plain": [
       "32416"
      ]
     },
     "execution_count": 77,
     "metadata": {},
     "output_type": "execute_result"
    }
   ],
   "source": [
    "(test.g1 == 0).sum()"
   ]
  },
  {
   "cell_type": "code",
   "execution_count": 78,
   "metadata": {},
   "outputs": [
    {
     "data": {
      "text/plain": [
       "0"
      ]
     },
     "execution_count": 78,
     "metadata": {},
     "output_type": "execute_result"
    }
   ],
   "source": [
    "(test.banner_id != test.banner_id0).sum()"
   ]
  },
  {
   "cell_type": "code",
   "execution_count": 79,
   "metadata": {},
   "outputs": [],
   "source": [
    "filtered_test = test[(test.g0 >= 0.001) & (test.g1 >= 0.001)]\n",
    "banner_0_feats = filtered_test[feature_columns]\n",
    "banner_1_feats = filtered_test[feature_columns].copy()\n",
    "banner_1_feats.banner_id_feat = filtered_test.banner_id1_feat"
   ]
  },
  {
   "cell_type": "code",
   "execution_count": 80,
   "metadata": {},
   "outputs": [
    {
     "data": {
      "text/plain": [
       "((1853252, 22), (1853252, 4), (1853252, 4))"
      ]
     },
     "execution_count": 80,
     "metadata": {},
     "output_type": "execute_result"
    }
   ],
   "source": [
    "filtered_test.shape, banner_0_feats.shape, banner_1_feats.shape"
   ]
  },
  {
   "cell_type": "code",
   "execution_count": 81,
   "metadata": {},
   "outputs": [
    {
     "data": {
      "text/html": [
       "<div>\n",
       "<style scoped>\n",
       "    .dataframe tbody tr th:only-of-type {\n",
       "        vertical-align: middle;\n",
       "    }\n",
       "\n",
       "    .dataframe tbody tr th {\n",
       "        vertical-align: top;\n",
       "    }\n",
       "\n",
       "    .dataframe thead th {\n",
       "        text-align: right;\n",
       "    }\n",
       "</style>\n",
       "<table border=\"1\" class=\"dataframe\">\n",
       "  <thead>\n",
       "    <tr style=\"text-align: right;\">\n",
       "      <th></th>\n",
       "      <th>date_time</th>\n",
       "      <th>zone_id</th>\n",
       "      <th>banner_id</th>\n",
       "      <th>oaid_hash</th>\n",
       "      <th>campaign_clicks</th>\n",
       "      <th>os_id</th>\n",
       "      <th>country_id</th>\n",
       "      <th>banner_id0</th>\n",
       "      <th>rate0</th>\n",
       "      <th>g0</th>\n",
       "      <th>...</th>\n",
       "      <th>rate1</th>\n",
       "      <th>g1</th>\n",
       "      <th>coeff_sum1</th>\n",
       "      <th>impressions</th>\n",
       "      <th>clicks</th>\n",
       "      <th>day</th>\n",
       "      <th>fixed_banner_id</th>\n",
       "      <th>fixed_banner_id1</th>\n",
       "      <th>banner_id_feat</th>\n",
       "      <th>banner_id1_feat</th>\n",
       "    </tr>\n",
       "  </thead>\n",
       "  <tbody>\n",
       "    <tr>\n",
       "      <th>164</th>\n",
       "      <td>2021-10-02 00:01:07</td>\n",
       "      <td>8</td>\n",
       "      <td>76</td>\n",
       "      <td>8008530729166508034</td>\n",
       "      <td>0</td>\n",
       "      <td>1</td>\n",
       "      <td>3</td>\n",
       "      <td>76</td>\n",
       "      <td>0.008</td>\n",
       "      <td>0.055551</td>\n",
       "      <td>...</td>\n",
       "      <td>0.003</td>\n",
       "      <td>0.030272</td>\n",
       "      <td>-3.390642</td>\n",
       "      <td>1</td>\n",
       "      <td>1</td>\n",
       "      <td>6</td>\n",
       "      <td>0</td>\n",
       "      <td>402</td>\n",
       "      <td>49</td>\n",
       "      <td>355</td>\n",
       "    </tr>\n",
       "    <tr>\n",
       "      <th>166</th>\n",
       "      <td>2021-10-02 00:00:56</td>\n",
       "      <td>14</td>\n",
       "      <td>46</td>\n",
       "      <td>6788111278352924668</td>\n",
       "      <td>0</td>\n",
       "      <td>6</td>\n",
       "      <td>0</td>\n",
       "      <td>46</td>\n",
       "      <td>0.004</td>\n",
       "      <td>0.017521</td>\n",
       "      <td>...</td>\n",
       "      <td>5.000</td>\n",
       "      <td>0.085038</td>\n",
       "      <td>-3.329596</td>\n",
       "      <td>1</td>\n",
       "      <td>1</td>\n",
       "      <td>6</td>\n",
       "      <td>47</td>\n",
       "      <td>0</td>\n",
       "      <td>38</td>\n",
       "      <td>49</td>\n",
       "    </tr>\n",
       "    <tr>\n",
       "      <th>168</th>\n",
       "      <td>2021-10-02 00:04:05</td>\n",
       "      <td>30</td>\n",
       "      <td>76</td>\n",
       "      <td>4080945494333051894</td>\n",
       "      <td>0</td>\n",
       "      <td>2</td>\n",
       "      <td>3</td>\n",
       "      <td>76</td>\n",
       "      <td>0.008</td>\n",
       "      <td>0.171074</td>\n",
       "      <td>...</td>\n",
       "      <td>0.350</td>\n",
       "      <td>0.079034</td>\n",
       "      <td>-1.907685</td>\n",
       "      <td>1</td>\n",
       "      <td>1</td>\n",
       "      <td>6</td>\n",
       "      <td>0</td>\n",
       "      <td>0</td>\n",
       "      <td>49</td>\n",
       "      <td>49</td>\n",
       "    </tr>\n",
       "    <tr>\n",
       "      <th>169</th>\n",
       "      <td>2021-10-02 00:04:12</td>\n",
       "      <td>14</td>\n",
       "      <td>46</td>\n",
       "      <td>5180296235094691109</td>\n",
       "      <td>0</td>\n",
       "      <td>0</td>\n",
       "      <td>0</td>\n",
       "      <td>46</td>\n",
       "      <td>0.004</td>\n",
       "      <td>0.017439</td>\n",
       "      <td>...</td>\n",
       "      <td>0.010</td>\n",
       "      <td>0.017624</td>\n",
       "      <td>-3.889516</td>\n",
       "      <td>1</td>\n",
       "      <td>1</td>\n",
       "      <td>6</td>\n",
       "      <td>47</td>\n",
       "      <td>1</td>\n",
       "      <td>38</td>\n",
       "      <td>254</td>\n",
       "    </tr>\n",
       "    <tr>\n",
       "      <th>359</th>\n",
       "      <td>2021-10-02 00:01:09</td>\n",
       "      <td>14</td>\n",
       "      <td>2</td>\n",
       "      <td>4843044827996727497</td>\n",
       "      <td>0</td>\n",
       "      <td>0</td>\n",
       "      <td>0</td>\n",
       "      <td>2</td>\n",
       "      <td>0.014</td>\n",
       "      <td>0.020414</td>\n",
       "      <td>...</td>\n",
       "      <td>0.014</td>\n",
       "      <td>0.068041</td>\n",
       "      <td>-3.088063</td>\n",
       "      <td>1</td>\n",
       "      <td>1</td>\n",
       "      <td>6</td>\n",
       "      <td>3</td>\n",
       "      <td>50</td>\n",
       "      <td>1</td>\n",
       "      <td>41</td>\n",
       "    </tr>\n",
       "  </tbody>\n",
       "</table>\n",
       "<p>5 rows × 22 columns</p>\n",
       "</div>"
      ],
      "text/plain": [
       "              date_time zone_id  banner_id            oaid_hash  \\\n",
       "164 2021-10-02 00:01:07       8         76  8008530729166508034   \n",
       "166 2021-10-02 00:00:56      14         46  6788111278352924668   \n",
       "168 2021-10-02 00:04:05      30         76  4080945494333051894   \n",
       "169 2021-10-02 00:04:12      14         46  5180296235094691109   \n",
       "359 2021-10-02 00:01:09      14          2  4843044827996727497   \n",
       "\n",
       "     campaign_clicks os_id country_id  banner_id0  rate0        g0  ...  \\\n",
       "164                0     1          3          76  0.008  0.055551  ...   \n",
       "166                0     6          0          46  0.004  0.017521  ...   \n",
       "168                0     2          3          76  0.008  0.171074  ...   \n",
       "169                0     0          0          46  0.004  0.017439  ...   \n",
       "359                0     0          0           2  0.014  0.020414  ...   \n",
       "\n",
       "     rate1        g1  coeff_sum1  impressions  clicks  day  fixed_banner_id  \\\n",
       "164  0.003  0.030272   -3.390642            1       1    6                0   \n",
       "166  5.000  0.085038   -3.329596            1       1    6               47   \n",
       "168  0.350  0.079034   -1.907685            1       1    6                0   \n",
       "169  0.010  0.017624   -3.889516            1       1    6               47   \n",
       "359  0.014  0.068041   -3.088063            1       1    6                3   \n",
       "\n",
       "     fixed_banner_id1  banner_id_feat  banner_id1_feat  \n",
       "164               402              49              355  \n",
       "166                 0              38               49  \n",
       "168                 0              49               49  \n",
       "169                 1              38              254  \n",
       "359                50               1               41  \n",
       "\n",
       "[5 rows x 22 columns]"
      ]
     },
     "execution_count": 81,
     "metadata": {},
     "output_type": "execute_result"
    }
   ],
   "source": [
    "filtered_test.head()"
   ]
  },
  {
   "cell_type": "code",
   "execution_count": 82,
   "metadata": {},
   "outputs": [
    {
     "data": {
      "text/html": [
       "<div>\n",
       "<style scoped>\n",
       "    .dataframe tbody tr th:only-of-type {\n",
       "        vertical-align: middle;\n",
       "    }\n",
       "\n",
       "    .dataframe tbody tr th {\n",
       "        vertical-align: top;\n",
       "    }\n",
       "\n",
       "    .dataframe thead th {\n",
       "        text-align: right;\n",
       "    }\n",
       "</style>\n",
       "<table border=\"1\" class=\"dataframe\">\n",
       "  <thead>\n",
       "    <tr style=\"text-align: right;\">\n",
       "      <th></th>\n",
       "      <th>zone_id</th>\n",
       "      <th>os_id</th>\n",
       "      <th>country_id</th>\n",
       "      <th>banner_id_feat</th>\n",
       "    </tr>\n",
       "  </thead>\n",
       "  <tbody>\n",
       "    <tr>\n",
       "      <th>164</th>\n",
       "      <td>8</td>\n",
       "      <td>1</td>\n",
       "      <td>3</td>\n",
       "      <td>49</td>\n",
       "    </tr>\n",
       "    <tr>\n",
       "      <th>166</th>\n",
       "      <td>14</td>\n",
       "      <td>6</td>\n",
       "      <td>0</td>\n",
       "      <td>38</td>\n",
       "    </tr>\n",
       "    <tr>\n",
       "      <th>168</th>\n",
       "      <td>30</td>\n",
       "      <td>2</td>\n",
       "      <td>3</td>\n",
       "      <td>49</td>\n",
       "    </tr>\n",
       "    <tr>\n",
       "      <th>169</th>\n",
       "      <td>14</td>\n",
       "      <td>0</td>\n",
       "      <td>0</td>\n",
       "      <td>38</td>\n",
       "    </tr>\n",
       "    <tr>\n",
       "      <th>359</th>\n",
       "      <td>14</td>\n",
       "      <td>0</td>\n",
       "      <td>0</td>\n",
       "      <td>1</td>\n",
       "    </tr>\n",
       "  </tbody>\n",
       "</table>\n",
       "</div>"
      ],
      "text/plain": [
       "    zone_id os_id country_id banner_id_feat\n",
       "164       8     1          3             49\n",
       "166      14     6          0             38\n",
       "168      30     2          3             49\n",
       "169      14     0          0             38\n",
       "359      14     0          0              1"
      ]
     },
     "execution_count": 82,
     "metadata": {},
     "output_type": "execute_result"
    }
   ],
   "source": [
    "banner_0_feats.head()"
   ]
  },
  {
   "cell_type": "code",
   "execution_count": 83,
   "metadata": {},
   "outputs": [
    {
     "data": {
      "text/html": [
       "<div>\n",
       "<style scoped>\n",
       "    .dataframe tbody tr th:only-of-type {\n",
       "        vertical-align: middle;\n",
       "    }\n",
       "\n",
       "    .dataframe tbody tr th {\n",
       "        vertical-align: top;\n",
       "    }\n",
       "\n",
       "    .dataframe thead th {\n",
       "        text-align: right;\n",
       "    }\n",
       "</style>\n",
       "<table border=\"1\" class=\"dataframe\">\n",
       "  <thead>\n",
       "    <tr style=\"text-align: right;\">\n",
       "      <th></th>\n",
       "      <th>zone_id</th>\n",
       "      <th>os_id</th>\n",
       "      <th>country_id</th>\n",
       "      <th>banner_id_feat</th>\n",
       "    </tr>\n",
       "  </thead>\n",
       "  <tbody>\n",
       "    <tr>\n",
       "      <th>164</th>\n",
       "      <td>8</td>\n",
       "      <td>1</td>\n",
       "      <td>3</td>\n",
       "      <td>355</td>\n",
       "    </tr>\n",
       "    <tr>\n",
       "      <th>166</th>\n",
       "      <td>14</td>\n",
       "      <td>6</td>\n",
       "      <td>0</td>\n",
       "      <td>49</td>\n",
       "    </tr>\n",
       "    <tr>\n",
       "      <th>168</th>\n",
       "      <td>30</td>\n",
       "      <td>2</td>\n",
       "      <td>3</td>\n",
       "      <td>49</td>\n",
       "    </tr>\n",
       "    <tr>\n",
       "      <th>169</th>\n",
       "      <td>14</td>\n",
       "      <td>0</td>\n",
       "      <td>0</td>\n",
       "      <td>254</td>\n",
       "    </tr>\n",
       "    <tr>\n",
       "      <th>359</th>\n",
       "      <td>14</td>\n",
       "      <td>0</td>\n",
       "      <td>0</td>\n",
       "      <td>41</td>\n",
       "    </tr>\n",
       "  </tbody>\n",
       "</table>\n",
       "</div>"
      ],
      "text/plain": [
       "    zone_id os_id country_id banner_id_feat\n",
       "164       8     1          3            355\n",
       "166      14     6          0             49\n",
       "168      30     2          3             49\n",
       "169      14     0          0            254\n",
       "359      14     0          0             41"
      ]
     },
     "execution_count": 83,
     "metadata": {},
     "output_type": "execute_result"
    }
   ],
   "source": [
    "banner_1_feats.head()"
   ]
  },
  {
   "cell_type": "code",
   "execution_count": null,
   "metadata": {},
   "outputs": [],
   "source": []
  },
  {
   "cell_type": "markdown",
   "metadata": {},
   "source": [
    "## Prepare coeff_sum0_new and coeff_sum_1_new"
   ]
  },
  {
   "cell_type": "code",
   "execution_count": 84,
   "metadata": {},
   "outputs": [],
   "source": [
    "coeff_sum0_new_proba = model.predict_proba(ohe.transform(banner_0_feats.to_numpy()))\n",
    "coeff_sum1_new_proba = model.predict_proba(ohe.transform(banner_1_feats.to_numpy()))"
   ]
  },
  {
   "cell_type": "code",
   "execution_count": 85,
   "metadata": {},
   "outputs": [
    {
     "data": {
      "text/plain": [
       "array([0.04431455, 0.11215698, 0.02721867, 0.06901344, 0.07785941,\n",
       "       0.00583412, 0.04267378, 0.06901344, 0.06901344, 0.0261955 ])"
      ]
     },
     "execution_count": 85,
     "metadata": {},
     "output_type": "execute_result"
    }
   ],
   "source": [
    "coeff_sum0_new_proba[:10, 1]"
   ]
  },
  {
   "cell_type": "code",
   "execution_count": 86,
   "metadata": {},
   "outputs": [
    {
     "data": {
      "text/plain": [
       "array([0.02612681, 0.11037994, 0.02721867, 0.03209706, 0.07785149,\n",
       "       0.01009824, 0.0252009 , 0.03209706, 0.06786772, 0.0261955 ])"
      ]
     },
     "execution_count": 86,
     "metadata": {},
     "output_type": "execute_result"
    }
   ],
   "source": [
    "coeff_sum1_new_proba[:10, 1]"
   ]
  },
  {
   "cell_type": "code",
   "execution_count": 87,
   "metadata": {},
   "outputs": [],
   "source": [
    "coeff_sum0_new = scipy.special.logit(coeff_sum0_new_proba[:, 1])\n",
    "coeff_sum1_new = scipy.special.logit(coeff_sum1_new_proba[:, 1])"
   ]
  },
  {
   "cell_type": "code",
   "execution_count": 88,
   "metadata": {},
   "outputs": [
    {
     "data": {
      "text/plain": [
       "array([-3.07111586, -2.06889543, -3.57625623, -2.6019436 , -2.47179298,\n",
       "       -5.13817978, -3.11055948, -2.6019436 , -2.6019436 , -3.61562283])"
      ]
     },
     "execution_count": 88,
     "metadata": {},
     "output_type": "execute_result"
    }
   ],
   "source": [
    "coeff_sum0_new[:10]"
   ]
  },
  {
   "cell_type": "code",
   "execution_count": 89,
   "metadata": {},
   "outputs": [
    {
     "data": {
      "text/plain": [
       "array([-3.61831913, -2.08686603, -3.57625623, -3.40636752, -2.47190322,\n",
       "       -4.58524504, -3.6553517 , -3.40636752, -2.6199142 , -3.61562283])"
      ]
     },
     "execution_count": 89,
     "metadata": {},
     "output_type": "execute_result"
    }
   ],
   "source": [
    "coeff_sum1_new[:10]"
   ]
  },
  {
   "cell_type": "code",
   "execution_count": null,
   "metadata": {},
   "outputs": [],
   "source": []
  },
  {
   "cell_type": "markdown",
   "metadata": {},
   "source": [
    "## Calc policies"
   ]
  },
  {
   "cell_type": "code",
   "execution_count": 90,
   "metadata": {},
   "outputs": [],
   "source": [
    "def calc_policy(coeff_sum0, coeff_sum1, g0, g1):\n",
    "    return scipy.stats.norm.cdf(0, loc=coeff_sum1 - coeff_sum0, scale=(g0**2 + g1**2)**0.5)"
   ]
  },
  {
   "cell_type": "code",
   "execution_count": 91,
   "metadata": {},
   "outputs": [],
   "source": [
    "p0 = calc_policy(\n",
    "    filtered_test.coeff_sum0, filtered_test.coeff_sum1,\n",
    "    filtered_test.g0, filtered_test.g1\n",
    ")\n",
    "p0 = pd.DataFrame(p0, index=filtered_test.index, columns=['old p'])"
   ]
  },
  {
   "cell_type": "code",
   "execution_count": 92,
   "metadata": {},
   "outputs": [],
   "source": [
    "p1 = calc_policy(\n",
    "    coeff_sum0_new, coeff_sum1_new,\n",
    "    filtered_test.g0, filtered_test.g1\n",
    ")\n",
    "p1 = pd.DataFrame(p1, index=filtered_test.index, columns=['new p'])"
   ]
  },
  {
   "cell_type": "markdown",
   "metadata": {},
   "source": [
    "### Sanity check"
   ]
  },
  {
   "cell_type": "code",
   "execution_count": 93,
   "metadata": {},
   "outputs": [
    {
     "data": {
      "text/html": [
       "<div>\n",
       "<style scoped>\n",
       "    .dataframe tbody tr th:only-of-type {\n",
       "        vertical-align: middle;\n",
       "    }\n",
       "\n",
       "    .dataframe tbody tr th {\n",
       "        vertical-align: top;\n",
       "    }\n",
       "\n",
       "    .dataframe thead th {\n",
       "        text-align: right;\n",
       "    }\n",
       "</style>\n",
       "<table border=\"1\" class=\"dataframe\">\n",
       "  <thead>\n",
       "    <tr style=\"text-align: right;\">\n",
       "      <th></th>\n",
       "      <th>old sum0 - sum1</th>\n",
       "      <th>old p</th>\n",
       "    </tr>\n",
       "  </thead>\n",
       "  <tbody>\n",
       "    <tr>\n",
       "      <th>164</th>\n",
       "      <td>0.463663</td>\n",
       "      <td>1.000000e+00</td>\n",
       "    </tr>\n",
       "    <tr>\n",
       "      <th>166</th>\n",
       "      <td>1.952276</td>\n",
       "      <td>1.000000e+00</td>\n",
       "    </tr>\n",
       "    <tr>\n",
       "      <th>168</th>\n",
       "      <td>-1.204397</td>\n",
       "      <td>8.233476e-11</td>\n",
       "    </tr>\n",
       "    <tr>\n",
       "      <th>169</th>\n",
       "      <td>1.395542</td>\n",
       "      <td>1.000000e+00</td>\n",
       "    </tr>\n",
       "    <tr>\n",
       "      <th>359</th>\n",
       "      <td>0.933951</td>\n",
       "      <td>1.000000e+00</td>\n",
       "    </tr>\n",
       "    <tr>\n",
       "      <th>361</th>\n",
       "      <td>0.015425</td>\n",
       "      <td>5.187158e-01</td>\n",
       "    </tr>\n",
       "    <tr>\n",
       "      <th>362</th>\n",
       "      <td>0.288863</td>\n",
       "      <td>9.716152e-01</td>\n",
       "    </tr>\n",
       "    <tr>\n",
       "      <th>363</th>\n",
       "      <td>1.395542</td>\n",
       "      <td>1.000000e+00</td>\n",
       "    </tr>\n",
       "    <tr>\n",
       "      <th>364</th>\n",
       "      <td>1.121543</td>\n",
       "      <td>1.000000e+00</td>\n",
       "    </tr>\n",
       "    <tr>\n",
       "      <th>365</th>\n",
       "      <td>-1.066456</td>\n",
       "      <td>7.946425e-10</td>\n",
       "    </tr>\n",
       "  </tbody>\n",
       "</table>\n",
       "</div>"
      ],
      "text/plain": [
       "     old sum0 - sum1         old p\n",
       "164         0.463663  1.000000e+00\n",
       "166         1.952276  1.000000e+00\n",
       "168        -1.204397  8.233476e-11\n",
       "169         1.395542  1.000000e+00\n",
       "359         0.933951  1.000000e+00\n",
       "361         0.015425  5.187158e-01\n",
       "362         0.288863  9.716152e-01\n",
       "363         1.395542  1.000000e+00\n",
       "364         1.121543  1.000000e+00\n",
       "365        -1.066456  7.946425e-10"
      ]
     },
     "execution_count": 93,
     "metadata": {},
     "output_type": "execute_result"
    }
   ],
   "source": [
    "pd.concat(\n",
    "    [\n",
    "        pd.DataFrame(\n",
    "            filtered_test.coeff_sum0 - filtered_test.coeff_sum1,\n",
    "            index=filtered_test.index,\n",
    "            columns=['old sum0 - sum1']\n",
    "        ),\n",
    "        p0\n",
    "    ],\n",
    "    axis=1\n",
    ")[:10]"
   ]
  },
  {
   "cell_type": "code",
   "execution_count": 94,
   "metadata": {},
   "outputs": [
    {
     "data": {
      "text/html": [
       "<div>\n",
       "<style scoped>\n",
       "    .dataframe tbody tr th:only-of-type {\n",
       "        vertical-align: middle;\n",
       "    }\n",
       "\n",
       "    .dataframe tbody tr th {\n",
       "        vertical-align: top;\n",
       "    }\n",
       "\n",
       "    .dataframe thead th {\n",
       "        text-align: right;\n",
       "    }\n",
       "</style>\n",
       "<table border=\"1\" class=\"dataframe\">\n",
       "  <thead>\n",
       "    <tr style=\"text-align: right;\">\n",
       "      <th></th>\n",
       "      <th>new sum0 - sum1</th>\n",
       "      <th>new p</th>\n",
       "    </tr>\n",
       "  </thead>\n",
       "  <tbody>\n",
       "    <tr>\n",
       "      <th>164</th>\n",
       "      <td>0.547203</td>\n",
       "      <td>1.000000</td>\n",
       "    </tr>\n",
       "    <tr>\n",
       "      <th>166</th>\n",
       "      <td>0.017971</td>\n",
       "      <td>0.581986</td>\n",
       "    </tr>\n",
       "    <tr>\n",
       "      <th>168</th>\n",
       "      <td>0.000000</td>\n",
       "      <td>0.500000</td>\n",
       "    </tr>\n",
       "    <tr>\n",
       "      <th>169</th>\n",
       "      <td>0.804424</td>\n",
       "      <td>1.000000</td>\n",
       "    </tr>\n",
       "    <tr>\n",
       "      <th>359</th>\n",
       "      <td>0.000110</td>\n",
       "      <td>0.500619</td>\n",
       "    </tr>\n",
       "    <tr>\n",
       "      <th>361</th>\n",
       "      <td>-0.552935</td>\n",
       "      <td>0.046251</td>\n",
       "    </tr>\n",
       "    <tr>\n",
       "      <th>362</th>\n",
       "      <td>0.544792</td>\n",
       "      <td>0.999837</td>\n",
       "    </tr>\n",
       "    <tr>\n",
       "      <th>363</th>\n",
       "      <td>0.804424</td>\n",
       "      <td>1.000000</td>\n",
       "    </tr>\n",
       "    <tr>\n",
       "      <th>364</th>\n",
       "      <td>0.017971</td>\n",
       "      <td>0.589678</td>\n",
       "    </tr>\n",
       "    <tr>\n",
       "      <th>365</th>\n",
       "      <td>0.000000</td>\n",
       "      <td>0.500000</td>\n",
       "    </tr>\n",
       "  </tbody>\n",
       "</table>\n",
       "</div>"
      ],
      "text/plain": [
       "     new sum0 - sum1     new p\n",
       "164         0.547203  1.000000\n",
       "166         0.017971  0.581986\n",
       "168         0.000000  0.500000\n",
       "169         0.804424  1.000000\n",
       "359         0.000110  0.500619\n",
       "361        -0.552935  0.046251\n",
       "362         0.544792  0.999837\n",
       "363         0.804424  1.000000\n",
       "364         0.017971  0.589678\n",
       "365         0.000000  0.500000"
      ]
     },
     "execution_count": 94,
     "metadata": {},
     "output_type": "execute_result"
    }
   ],
   "source": [
    "pd.concat(\n",
    "    [\n",
    "        pd.DataFrame(coeff_sum0_new - coeff_sum1_new, index=filtered_test.index, columns=['new sum0 - sum1']),\n",
    "        p1\n",
    "    ],\n",
    "    axis=1\n",
    ")[:10]"
   ]
  },
  {
   "cell_type": "code",
   "execution_count": null,
   "metadata": {},
   "outputs": [],
   "source": []
  },
  {
   "cell_type": "markdown",
   "metadata": {},
   "source": [
    "## Calculate clipped ips"
   ]
  },
  {
   "cell_type": "code",
   "execution_count": 95,
   "metadata": {},
   "outputs": [
    {
     "data": {
      "text/plain": [
       "old p    0.0\n",
       "dtype: float64"
      ]
     },
     "execution_count": 95,
     "metadata": {},
     "output_type": "execute_result"
    }
   ],
   "source": [
    "p0.min()"
   ]
  },
  {
   "cell_type": "code",
   "execution_count": 96,
   "metadata": {},
   "outputs": [
    {
     "data": {
      "text/plain": [
       "old p    142504\n",
       "dtype: int64"
      ]
     },
     "execution_count": 96,
     "metadata": {},
     "output_type": "execute_result"
    }
   ],
   "source": [
    "(p0 <= 0).sum()"
   ]
  },
  {
   "cell_type": "code",
   "execution_count": 97,
   "metadata": {},
   "outputs": [
    {
     "data": {
      "text/plain": [
       "old p    142504\n",
       "dtype: int64"
      ]
     },
     "execution_count": 97,
     "metadata": {},
     "output_type": "execute_result"
    }
   ],
   "source": [
    "(p0 <= 0).sum()"
   ]
  },
  {
   "cell_type": "code",
   "execution_count": 98,
   "metadata": {},
   "outputs": [
    {
     "data": {
      "text/plain": [
       "(array([266904.,  37176.,  48429.,  70327., 225036., 267145.,  92711.,\n",
       "         79225.,  80699., 543096.]),\n",
       " array([5.90322107e-311, 1.00000000e-001, 2.00000000e-001, 3.00000000e-001,\n",
       "        4.00000000e-001, 5.00000000e-001, 6.00000000e-001, 7.00000000e-001,\n",
       "        8.00000000e-001, 9.00000000e-001, 1.00000000e+000]),\n",
       " <BarContainer object of 10 artists>)"
      ]
     },
     "execution_count": 98,
     "metadata": {},
     "output_type": "execute_result"
    },
    {
     "data": {
      "image/png": "[encoded data removed]",
      "text/plain": [
       "<Figure size 432x288 with 1 Axes>"
      ]
     },
     "metadata": {
      "needs_background": "light"
     },
     "output_type": "display_data"
    }
   ],
   "source": [
    "plt.hist(p0[p0 > 0])"
   ]
  },
  {
   "cell_type": "code",
   "execution_count": 99,
   "metadata": {},
   "outputs": [
    {
     "data": {
      "text/plain": [
       "(array([226633.,   6936.,   5467.,   4687.,   4262.,   4231.,   3720.,\n",
       "          3709.,   3606.,   3653.]),\n",
       " array([5.90322107e-311, 9.99994471e-003, 1.99998894e-002, 2.99998341e-002,\n",
       "        3.99997788e-002, 4.99997235e-002, 5.99996683e-002, 6.99996130e-002,\n",
       "        7.99995577e-002, 8.99995024e-002, 9.99994471e-002]),\n",
       " <BarContainer object of 10 artists>)"
      ]
     },
     "execution_count": 99,
     "metadata": {},
     "output_type": "execute_result"
    },
    {
     "data": {
      "image/png": "[encoded data removed]",
      "text/plain": [
       "<Figure size 432x288 with 1 Axes>"
      ]
     },
     "metadata": {
      "needs_background": "light"
     },
     "output_type": "display_data"
    }
   ],
   "source": [
    "plt.hist(p0[(0.1 > p0) & (p0 > 0)])"
   ]
  },
  {
   "cell_type": "code",
   "execution_count": 100,
   "metadata": {},
   "outputs": [
    {
     "data": {
      "text/plain": [
       "(array([  6937.,   7130.,   7448.,   6946.,   8299.,  10608.,  12594.,\n",
       "         16023.,  35351., 155568.]),\n",
       " array([-714.32846578, -643.12587826, -571.92329074, -500.72070323,\n",
       "        -429.51811571, -358.3155282 , -287.11294068, -215.91035317,\n",
       "        -144.70776565,  -73.50517814,   -2.30259062]),\n",
       " <BarContainer object of 10 artists>)"
      ]
     },
     "execution_count": 100,
     "metadata": {},
     "output_type": "execute_result"
    },
    {
     "data": {
      "image/png": "[encoded data removed]",
      "text/plain": [
       "<Figure size 432x288 with 1 Axes>"
      ]
     },
     "metadata": {
      "needs_background": "light"
     },
     "output_type": "display_data"
    }
   ],
   "source": [
    "plt.hist(np.log(p0[(0.1 > p0) & (p0 > 0)]))"
   ]
  },
  {
   "cell_type": "code",
   "execution_count": 101,
   "metadata": {},
   "outputs": [],
   "source": [
    "lmbd = 10"
   ]
  },
  {
   "cell_type": "code",
   "execution_count": 102,
   "metadata": {},
   "outputs": [
    {
     "name": "stdout",
     "output_type": "stream",
     "text": [
      "CPU times: user 204 ms, sys: 68 ms, total: 272 ms\n",
      "Wall time: 245 ms\n"
     ]
    }
   ],
   "source": [
    "%%time\n",
    "\n",
    "good_indices = p0[\"old p\"] > 0\n",
    "\n",
    "cips_terms = filtered_test[good_indices].clicks * np.minimum(p1[good_indices][\"new p\"] / p0[good_indices][\"old p\"], lmbd)"
   ]
  },
  {
   "cell_type": "code",
   "execution_count": 103,
   "metadata": {},
   "outputs": [
    {
     "data": {
      "text/plain": [
       "164     1.000000\n",
       "166     0.581986\n",
       "168    10.000000\n",
       "169     1.000000\n",
       "359     0.500619\n",
       "dtype: float64"
      ]
     },
     "execution_count": 103,
     "metadata": {},
     "output_type": "execute_result"
    }
   ],
   "source": [
    "cips_terms.head()"
   ]
  },
  {
   "cell_type": "code",
   "execution_count": 104,
   "metadata": {},
   "outputs": [
    {
     "data": {
      "text/html": [
       "<div>\n",
       "<style scoped>\n",
       "    .dataframe tbody tr th:only-of-type {\n",
       "        vertical-align: middle;\n",
       "    }\n",
       "\n",
       "    .dataframe tbody tr th {\n",
       "        vertical-align: top;\n",
       "    }\n",
       "\n",
       "    .dataframe thead th {\n",
       "        text-align: right;\n",
       "    }\n",
       "</style>\n",
       "<table border=\"1\" class=\"dataframe\">\n",
       "  <thead>\n",
       "    <tr style=\"text-align: right;\">\n",
       "      <th></th>\n",
       "      <th>cips</th>\n",
       "      <th>p0</th>\n",
       "      <th>p1</th>\n",
       "      <th>clicks</th>\n",
       "    </tr>\n",
       "  </thead>\n",
       "  <tbody>\n",
       "    <tr>\n",
       "      <th>164</th>\n",
       "      <td>1.000000</td>\n",
       "      <td>1.000000e+00</td>\n",
       "      <td>1.000000</td>\n",
       "      <td>1</td>\n",
       "    </tr>\n",
       "    <tr>\n",
       "      <th>166</th>\n",
       "      <td>0.581986</td>\n",
       "      <td>1.000000e+00</td>\n",
       "      <td>0.581986</td>\n",
       "      <td>1</td>\n",
       "    </tr>\n",
       "    <tr>\n",
       "      <th>168</th>\n",
       "      <td>10.000000</td>\n",
       "      <td>8.233476e-11</td>\n",
       "      <td>0.500000</td>\n",
       "      <td>1</td>\n",
       "    </tr>\n",
       "    <tr>\n",
       "      <th>169</th>\n",
       "      <td>1.000000</td>\n",
       "      <td>1.000000e+00</td>\n",
       "      <td>1.000000</td>\n",
       "      <td>1</td>\n",
       "    </tr>\n",
       "    <tr>\n",
       "      <th>359</th>\n",
       "      <td>0.500619</td>\n",
       "      <td>1.000000e+00</td>\n",
       "      <td>0.500619</td>\n",
       "      <td>1</td>\n",
       "    </tr>\n",
       "    <tr>\n",
       "      <th>361</th>\n",
       "      <td>0.089164</td>\n",
       "      <td>5.187158e-01</td>\n",
       "      <td>0.046251</td>\n",
       "      <td>1</td>\n",
       "    </tr>\n",
       "    <tr>\n",
       "      <th>362</th>\n",
       "      <td>1.029046</td>\n",
       "      <td>9.716152e-01</td>\n",
       "      <td>0.999837</td>\n",
       "      <td>1</td>\n",
       "    </tr>\n",
       "    <tr>\n",
       "      <th>363</th>\n",
       "      <td>1.000000</td>\n",
       "      <td>1.000000e+00</td>\n",
       "      <td>1.000000</td>\n",
       "      <td>1</td>\n",
       "    </tr>\n",
       "    <tr>\n",
       "      <th>364</th>\n",
       "      <td>0.589678</td>\n",
       "      <td>1.000000e+00</td>\n",
       "      <td>0.589678</td>\n",
       "      <td>1</td>\n",
       "    </tr>\n",
       "    <tr>\n",
       "      <th>365</th>\n",
       "      <td>10.000000</td>\n",
       "      <td>7.946425e-10</td>\n",
       "      <td>0.500000</td>\n",
       "      <td>1</td>\n",
       "    </tr>\n",
       "  </tbody>\n",
       "</table>\n",
       "</div>"
      ],
      "text/plain": [
       "          cips            p0        p1  clicks\n",
       "164   1.000000  1.000000e+00  1.000000       1\n",
       "166   0.581986  1.000000e+00  0.581986       1\n",
       "168  10.000000  8.233476e-11  0.500000       1\n",
       "169   1.000000  1.000000e+00  1.000000       1\n",
       "359   0.500619  1.000000e+00  0.500619       1\n",
       "361   0.089164  5.187158e-01  0.046251       1\n",
       "362   1.029046  9.716152e-01  0.999837       1\n",
       "363   1.000000  1.000000e+00  1.000000       1\n",
       "364   0.589678  1.000000e+00  0.589678       1\n",
       "365  10.000000  7.946425e-10  0.500000       1"
      ]
     },
     "execution_count": 104,
     "metadata": {},
     "output_type": "execute_result"
    }
   ],
   "source": [
    "pd.concat([\n",
    "        pd.DataFrame(cips_terms, index=filtered_test[good_indices].index),\n",
    "        p0[good_indices],\n",
    "        p1[good_indices],\n",
    "        filtered_test[good_indices].clicks,\n",
    "    ],\n",
    "    axis=1\n",
    ").set_axis(['cips', 'p0', 'p1', 'clicks'], axis=1)[:10]"
   ]
  },
  {
   "cell_type": "code",
   "execution_count": 105,
   "metadata": {},
   "outputs": [
    {
     "data": {
      "text/html": [
       "<div>\n",
       "<style scoped>\n",
       "    .dataframe tbody tr th:only-of-type {\n",
       "        vertical-align: middle;\n",
       "    }\n",
       "\n",
       "    .dataframe tbody tr th {\n",
       "        vertical-align: top;\n",
       "    }\n",
       "\n",
       "    .dataframe thead th {\n",
       "        text-align: right;\n",
       "    }\n",
       "</style>\n",
       "<table border=\"1\" class=\"dataframe\">\n",
       "  <thead>\n",
       "    <tr style=\"text-align: right;\">\n",
       "      <th></th>\n",
       "      <th>cips</th>\n",
       "      <th>p0</th>\n",
       "      <th>p1</th>\n",
       "      <th>clicks</th>\n",
       "    </tr>\n",
       "  </thead>\n",
       "  <tbody>\n",
       "    <tr>\n",
       "      <th>1000</th>\n",
       "      <td>0.967257</td>\n",
       "      <td>9.999213e-01</td>\n",
       "      <td>0.967181</td>\n",
       "      <td>1</td>\n",
       "    </tr>\n",
       "    <tr>\n",
       "      <th>1002</th>\n",
       "      <td>0.000838</td>\n",
       "      <td>6.260620e-02</td>\n",
       "      <td>0.000052</td>\n",
       "      <td>1</td>\n",
       "    </tr>\n",
       "    <tr>\n",
       "      <th>1003</th>\n",
       "      <td>0.995603</td>\n",
       "      <td>1.000000e+00</td>\n",
       "      <td>0.995603</td>\n",
       "      <td>1</td>\n",
       "    </tr>\n",
       "    <tr>\n",
       "      <th>1004</th>\n",
       "      <td>0.939311</td>\n",
       "      <td>8.864047e-01</td>\n",
       "      <td>0.832610</td>\n",
       "      <td>1</td>\n",
       "    </tr>\n",
       "    <tr>\n",
       "      <th>1005</th>\n",
       "      <td>0.773321</td>\n",
       "      <td>1.000000e+00</td>\n",
       "      <td>0.773321</td>\n",
       "      <td>1</td>\n",
       "    </tr>\n",
       "    <tr>\n",
       "      <th>1023</th>\n",
       "      <td>1.771829</td>\n",
       "      <td>5.001344e-01</td>\n",
       "      <td>0.886153</td>\n",
       "      <td>1</td>\n",
       "    </tr>\n",
       "    <tr>\n",
       "      <th>1024</th>\n",
       "      <td>1.000000</td>\n",
       "      <td>1.000000e+00</td>\n",
       "      <td>1.000000</td>\n",
       "      <td>1</td>\n",
       "    </tr>\n",
       "    <tr>\n",
       "      <th>1026</th>\n",
       "      <td>0.774576</td>\n",
       "      <td>1.000000e+00</td>\n",
       "      <td>0.774576</td>\n",
       "      <td>1</td>\n",
       "    </tr>\n",
       "    <tr>\n",
       "      <th>1027</th>\n",
       "      <td>10.000000</td>\n",
       "      <td>4.122504e-08</td>\n",
       "      <td>0.000046</td>\n",
       "      <td>1</td>\n",
       "    </tr>\n",
       "    <tr>\n",
       "      <th>1028</th>\n",
       "      <td>1.231934</td>\n",
       "      <td>8.117263e-01</td>\n",
       "      <td>0.999993</td>\n",
       "      <td>1</td>\n",
       "    </tr>\n",
       "  </tbody>\n",
       "</table>\n",
       "</div>"
      ],
      "text/plain": [
       "           cips            p0        p1  clicks\n",
       "1000   0.967257  9.999213e-01  0.967181       1\n",
       "1002   0.000838  6.260620e-02  0.000052       1\n",
       "1003   0.995603  1.000000e+00  0.995603       1\n",
       "1004   0.939311  8.864047e-01  0.832610       1\n",
       "1005   0.773321  1.000000e+00  0.773321       1\n",
       "1023   1.771829  5.001344e-01  0.886153       1\n",
       "1024   1.000000  1.000000e+00  1.000000       1\n",
       "1026   0.774576  1.000000e+00  0.774576       1\n",
       "1027  10.000000  4.122504e-08  0.000046       1\n",
       "1028   1.231934  8.117263e-01  0.999993       1"
      ]
     },
     "execution_count": 105,
     "metadata": {},
     "output_type": "execute_result"
    }
   ],
   "source": [
    "pd.concat([\n",
    "        pd.DataFrame(cips_terms, index=filtered_test[good_indices].index),\n",
    "        p0[good_indices],\n",
    "        p1[good_indices],\n",
    "        filtered_test[good_indices].clicks,\n",
    "    ],\n",
    "    axis=1\n",
    ").set_axis(['cips', 'p0', 'p1', 'clicks'], axis=1)[90:100]"
   ]
  },
  {
   "cell_type": "code",
   "execution_count": 106,
   "metadata": {},
   "outputs": [
    {
     "data": {
      "text/html": [
       "<div>\n",
       "<style scoped>\n",
       "    .dataframe tbody tr th:only-of-type {\n",
       "        vertical-align: middle;\n",
       "    }\n",
       "\n",
       "    .dataframe tbody tr th {\n",
       "        vertical-align: top;\n",
       "    }\n",
       "\n",
       "    .dataframe thead th {\n",
       "        text-align: right;\n",
       "    }\n",
       "</style>\n",
       "<table border=\"1\" class=\"dataframe\">\n",
       "  <thead>\n",
       "    <tr style=\"text-align: right;\">\n",
       "      <th></th>\n",
       "      <th>cips</th>\n",
       "      <th>p0</th>\n",
       "      <th>p1</th>\n",
       "      <th>clicks</th>\n",
       "    </tr>\n",
       "  </thead>\n",
       "  <tbody>\n",
       "    <tr>\n",
       "      <th>9182140</th>\n",
       "      <td>0.0</td>\n",
       "      <td>6.993238e-01</td>\n",
       "      <td>5.000000e-01</td>\n",
       "      <td>0</td>\n",
       "    </tr>\n",
       "    <tr>\n",
       "      <th>9182154</th>\n",
       "      <td>0.0</td>\n",
       "      <td>9.688807e-01</td>\n",
       "      <td>1.000000e+00</td>\n",
       "      <td>0</td>\n",
       "    </tr>\n",
       "    <tr>\n",
       "      <th>9182157</th>\n",
       "      <td>0.0</td>\n",
       "      <td>4.572967e-01</td>\n",
       "      <td>1.000000e+00</td>\n",
       "      <td>0</td>\n",
       "    </tr>\n",
       "    <tr>\n",
       "      <th>9182160</th>\n",
       "      <td>0.0</td>\n",
       "      <td>1.000000e+00</td>\n",
       "      <td>1.608526e-15</td>\n",
       "      <td>0</td>\n",
       "    </tr>\n",
       "    <tr>\n",
       "      <th>9182162</th>\n",
       "      <td>0.0</td>\n",
       "      <td>2.809104e-03</td>\n",
       "      <td>7.213109e-01</td>\n",
       "      <td>0</td>\n",
       "    </tr>\n",
       "    <tr>\n",
       "      <th>9182179</th>\n",
       "      <td>0.0</td>\n",
       "      <td>1.909707e-17</td>\n",
       "      <td>2.086228e-03</td>\n",
       "      <td>0</td>\n",
       "    </tr>\n",
       "    <tr>\n",
       "      <th>9182198</th>\n",
       "      <td>0.0</td>\n",
       "      <td>4.061156e-01</td>\n",
       "      <td>9.999094e-01</td>\n",
       "      <td>0</td>\n",
       "    </tr>\n",
       "    <tr>\n",
       "      <th>9182199</th>\n",
       "      <td>0.0</td>\n",
       "      <td>5.929534e-01</td>\n",
       "      <td>2.793164e-01</td>\n",
       "      <td>0</td>\n",
       "    </tr>\n",
       "    <tr>\n",
       "      <th>9182204</th>\n",
       "      <td>0.0</td>\n",
       "      <td>8.875620e-01</td>\n",
       "      <td>1.000000e+00</td>\n",
       "      <td>0</td>\n",
       "    </tr>\n",
       "    <tr>\n",
       "      <th>9182261</th>\n",
       "      <td>0.0</td>\n",
       "      <td>1.575496e-01</td>\n",
       "      <td>5.128322e-03</td>\n",
       "      <td>0</td>\n",
       "    </tr>\n",
       "  </tbody>\n",
       "</table>\n",
       "</div>"
      ],
      "text/plain": [
       "         cips            p0            p1  clicks\n",
       "9182140   0.0  6.993238e-01  5.000000e-01       0\n",
       "9182154   0.0  9.688807e-01  1.000000e+00       0\n",
       "9182157   0.0  4.572967e-01  1.000000e+00       0\n",
       "9182160   0.0  1.000000e+00  1.608526e-15       0\n",
       "9182162   0.0  2.809104e-03  7.213109e-01       0\n",
       "9182179   0.0  1.909707e-17  2.086228e-03       0\n",
       "9182198   0.0  4.061156e-01  9.999094e-01       0\n",
       "9182199   0.0  5.929534e-01  2.793164e-01       0\n",
       "9182204   0.0  8.875620e-01  1.000000e+00       0\n",
       "9182261   0.0  1.575496e-01  5.128322e-03       0"
      ]
     },
     "execution_count": 106,
     "metadata": {},
     "output_type": "execute_result"
    }
   ],
   "source": [
    "pd.concat([\n",
    "        pd.DataFrame(cips_terms, index=filtered_test[good_indices].index),\n",
    "        p0[good_indices],\n",
    "        p1[good_indices],\n",
    "        filtered_test[good_indices].clicks,\n",
    "    ],\n",
    "    axis=1\n",
    ").set_axis(['cips', 'p0', 'p1', 'clicks'], axis=1)[1000000:1000010]"
   ]
  },
  {
   "cell_type": "markdown",
   "metadata": {},
   "source": [
    "## CIPS value"
   ]
  },
  {
   "cell_type": "code",
   "execution_count": 107,
   "metadata": {},
   "outputs": [
    {
     "data": {
      "text/plain": [
       "0.06093327402062962"
      ]
     },
     "execution_count": 107,
     "metadata": {},
     "output_type": "execute_result"
    }
   ],
   "source": [
    "cips_terms.mean()"
   ]
  },
  {
   "cell_type": "code",
   "execution_count": 108,
   "metadata": {},
   "outputs": [
    {
     "data": {
      "text/plain": [
       "0.038002674853339004"
      ]
     },
     "execution_count": 108,
     "metadata": {},
     "output_type": "execute_result"
    }
   ],
   "source": [
    "filtered_test[good_indices].clicks.mean()"
   ]
  },
  {
   "cell_type": "markdown",
   "metadata": {},
   "source": [
    "## Tune regularization coefficient using CIPS value"
   ]
  },
  {
   "cell_type": "code",
   "execution_count": 109,
   "metadata": {},
   "outputs": [],
   "source": [
    "def calc_cips(model, ):\n",
    "    coeff_sum0_new_proba = model.predict_proba(ohe.transform(banner_0_feats.to_numpy()))\n",
    "    coeff_sum1_new_proba = model.predict_proba(ohe.transform(banner_1_feats.to_numpy()))\n",
    "    \n",
    "    coeff_sum0_new = scipy.special.logit(coeff_sum0_new_proba[:, 1])\n",
    "    coeff_sum1_new = scipy.special.logit(coeff_sum1_new_proba[:, 1])\n",
    "    \n",
    "    p0 = calc_policy(\n",
    "        filtered_test.coeff_sum0, filtered_test.coeff_sum1,\n",
    "        filtered_test.g0, filtered_test.g1\n",
    "    )\n",
    "    p0 = pd.DataFrame(p0, index=filtered_test.index, columns=['old p'])\n",
    "    \n",
    "    p1 = calc_policy(\n",
    "        coeff_sum0_new, coeff_sum1_new,\n",
    "        filtered_test.g0, filtered_test.g1\n",
    "    )\n",
    "    p1 = pd.DataFrame(p1, index=filtered_test.index, columns=['new p'])\n",
    "    \n",
    "    good_indices = p0[\"old p\"] > 0\n",
    "    cips_terms = filtered_test[good_indices].clicks * np.minimum(p1[good_indices][\"new p\"] / p0[good_indices][\"old p\"], lmbd)\n",
    "    \n",
    "    assert cips_terms.isna().sum() == 0\n",
    "    \n",
    "    return cips_terms.mean()"
   ]
  },
  {
   "cell_type": "code",
   "execution_count": 110,
   "metadata": {},
   "outputs": [
    {
     "data": {
      "text/plain": [
       "0.06093327402062962"
      ]
     },
     "execution_count": 110,
     "metadata": {},
     "output_type": "execute_result"
    }
   ],
   "source": [
    "calc_cips(model)"
   ]
  },
  {
   "cell_type": "code",
   "execution_count": 116,
   "metadata": {},
   "outputs": [
    {
     "data": {
      "text/plain": [
       "array([1.00000000e-02, 1.58489319e-02, 2.51188643e-02, 3.98107171e-02,\n",
       "       6.30957344e-02, 1.00000000e-01, 1.58489319e-01, 2.51188643e-01,\n",
       "       3.98107171e-01, 6.30957344e-01, 1.00000000e+00, 1.58489319e+00,\n",
       "       2.51188643e+00, 3.98107171e+00, 6.30957344e+00, 1.00000000e+01,\n",
       "       1.58489319e+01, 2.51188643e+01, 3.98107171e+01, 6.30957344e+01,\n",
       "       1.00000000e+02])"
      ]
     },
     "execution_count": 116,
     "metadata": {},
     "output_type": "execute_result"
    }
   ],
   "source": [
    "coefs = np.logspace(-2, 2, num=21)\n",
    "coefs"
   ]
  },
  {
   "cell_type": "code",
   "execution_count": 117,
   "metadata": {},
   "outputs": [
    {
     "name": "stdout",
     "output_type": "stream",
     "text": [
      "C=0.01, penalty=l2 done\n",
      "C=0.015848931924611134, penalty=l2 done\n",
      "C=0.025118864315095794, penalty=l2 done\n",
      "C=0.039810717055349734, penalty=l2 done\n",
      "C=0.06309573444801933, penalty=l2 done\n",
      "C=0.1, penalty=l2 done\n",
      "C=0.15848931924611143, penalty=l2 done\n",
      "C=0.25118864315095807, penalty=l2 done\n",
      "C=0.3981071705534973, penalty=l2 done\n",
      "C=0.6309573444801934, penalty=l2 done\n",
      "C=1.0, penalty=l2 done\n",
      "C=1.584893192461114, penalty=l2 done\n",
      "C=2.5118864315095824, penalty=l2 done\n",
      "C=3.981071705534973, penalty=l2 done\n",
      "C=6.309573444801936, penalty=l2 done\n",
      "C=10.0, penalty=l2 done\n",
      "C=15.848931924611142, penalty=l2 done\n",
      "C=25.11886431509582, penalty=l2 done\n",
      "C=39.810717055349734, penalty=l2 done\n",
      "C=63.095734448019364, penalty=l2 done\n",
      "C=100.0, penalty=l2 done\n",
      "CPU times: user 38min 54s, sys: 1min 55s, total: 40min 49s\n",
      "Wall time: 15min 53s\n"
     ]
    }
   ],
   "source": [
    "%%time\n",
    "\n",
    "all_metrics = []\n",
    "for C in coefs:\n",
    "    for penalty in ['l2']:\n",
    "        current_model = linear_model.LogisticRegression(penalty=penalty, solver='liblinear', C=C)\n",
    "        \n",
    "        current_model.fit(X_train[shuffled_train_idxs[:2000000]], train.clicks.to_numpy()[shuffled_train_idxs[:2000000]])\n",
    "\n",
    "        X_dev = ohe.transform(dev[feature_columns].to_numpy())\n",
    "        dev_predict = current_model.predict_proba(X_dev)\n",
    "        dev_log_loss = metrics.log_loss(dev.clicks, dev_predict)\n",
    "        \n",
    "        X_test = ohe.transform(test_feats[feature_columns].to_numpy())\n",
    "        test_predict = current_model.predict_proba(X_test)\n",
    "        test_log_loss = metrics.log_loss(test.clicks, test_predict)\n",
    "        \n",
    "        cips = calc_cips(current_model)\n",
    "        \n",
    "        all_metrics.append((C, penalty, dev_log_loss, test_log_loss, cips))\n",
    "        print(f\"C={C}, penalty={penalty} done\")"
   ]
  },
  {
   "cell_type": "code",
   "execution_count": 123,
   "metadata": {},
   "outputs": [
    {
     "data": {
      "text/html": [
       "<div>\n",
       "<style scoped>\n",
       "    .dataframe tbody tr th:only-of-type {\n",
       "        vertical-align: middle;\n",
       "    }\n",
       "\n",
       "    .dataframe tbody tr th {\n",
       "        vertical-align: top;\n",
       "    }\n",
       "\n",
       "    .dataframe thead th {\n",
       "        text-align: right;\n",
       "    }\n",
       "</style>\n",
       "<table border=\"1\" class=\"dataframe\">\n",
       "  <thead>\n",
       "    <tr style=\"text-align: right;\">\n",
       "      <th></th>\n",
       "      <th>C</th>\n",
       "      <th>penalty</th>\n",
       "      <th>dev log_loss</th>\n",
       "      <th>test log_loss</th>\n",
       "      <th>cips</th>\n",
       "    </tr>\n",
       "  </thead>\n",
       "  <tbody>\n",
       "    <tr>\n",
       "      <th>0</th>\n",
       "      <td>0.010000</td>\n",
       "      <td>l2</td>\n",
       "      <td>0.155511</td>\n",
       "      <td>0.138326</td>\n",
       "      <td>0.062454</td>\n",
       "    </tr>\n",
       "    <tr>\n",
       "      <th>1</th>\n",
       "      <td>0.015849</td>\n",
       "      <td>l2</td>\n",
       "      <td>0.154568</td>\n",
       "      <td>0.137644</td>\n",
       "      <td>0.062382</td>\n",
       "    </tr>\n",
       "    <tr>\n",
       "      <th>2</th>\n",
       "      <td>0.025119</td>\n",
       "      <td>l2</td>\n",
       "      <td>0.153827</td>\n",
       "      <td>0.137136</td>\n",
       "      <td>0.061886</td>\n",
       "    </tr>\n",
       "    <tr>\n",
       "      <th>3</th>\n",
       "      <td>0.039811</td>\n",
       "      <td>l2</td>\n",
       "      <td>0.153286</td>\n",
       "      <td>0.136788</td>\n",
       "      <td>0.061834</td>\n",
       "    </tr>\n",
       "    <tr>\n",
       "      <th>4</th>\n",
       "      <td>0.063096</td>\n",
       "      <td>l2</td>\n",
       "      <td>0.152909</td>\n",
       "      <td>0.136572</td>\n",
       "      <td>0.062029</td>\n",
       "    </tr>\n",
       "    <tr>\n",
       "      <th>5</th>\n",
       "      <td>0.100000</td>\n",
       "      <td>l2</td>\n",
       "      <td>0.152661</td>\n",
       "      <td>0.136452</td>\n",
       "      <td>0.061977</td>\n",
       "    </tr>\n",
       "    <tr>\n",
       "      <th>6</th>\n",
       "      <td>0.158489</td>\n",
       "      <td>l2</td>\n",
       "      <td>0.152504</td>\n",
       "      <td>0.136396</td>\n",
       "      <td>0.061851</td>\n",
       "    </tr>\n",
       "    <tr>\n",
       "      <th>7</th>\n",
       "      <td>0.251189</td>\n",
       "      <td>l2</td>\n",
       "      <td>0.152417</td>\n",
       "      <td>0.136382</td>\n",
       "      <td>0.061642</td>\n",
       "    </tr>\n",
       "    <tr>\n",
       "      <th>8</th>\n",
       "      <td>0.398107</td>\n",
       "      <td>l2</td>\n",
       "      <td>0.152377</td>\n",
       "      <td>0.136395</td>\n",
       "      <td>0.061447</td>\n",
       "    </tr>\n",
       "    <tr>\n",
       "      <th>9</th>\n",
       "      <td>0.630957</td>\n",
       "      <td>l2</td>\n",
       "      <td>0.152370</td>\n",
       "      <td>0.136424</td>\n",
       "      <td>0.061197</td>\n",
       "    </tr>\n",
       "    <tr>\n",
       "      <th>10</th>\n",
       "      <td>1.000000</td>\n",
       "      <td>l2</td>\n",
       "      <td>0.152384</td>\n",
       "      <td>0.136465</td>\n",
       "      <td>0.060933</td>\n",
       "    </tr>\n",
       "    <tr>\n",
       "      <th>11</th>\n",
       "      <td>1.584893</td>\n",
       "      <td>l2</td>\n",
       "      <td>0.152415</td>\n",
       "      <td>0.136513</td>\n",
       "      <td>0.060730</td>\n",
       "    </tr>\n",
       "    <tr>\n",
       "      <th>12</th>\n",
       "      <td>2.511886</td>\n",
       "      <td>l2</td>\n",
       "      <td>0.152459</td>\n",
       "      <td>0.136570</td>\n",
       "      <td>0.060599</td>\n",
       "    </tr>\n",
       "    <tr>\n",
       "      <th>13</th>\n",
       "      <td>3.981072</td>\n",
       "      <td>l2</td>\n",
       "      <td>0.152515</td>\n",
       "      <td>0.136634</td>\n",
       "      <td>0.060471</td>\n",
       "    </tr>\n",
       "    <tr>\n",
       "      <th>14</th>\n",
       "      <td>6.309573</td>\n",
       "      <td>l2</td>\n",
       "      <td>0.152579</td>\n",
       "      <td>0.136708</td>\n",
       "      <td>0.060396</td>\n",
       "    </tr>\n",
       "    <tr>\n",
       "      <th>15</th>\n",
       "      <td>10.000000</td>\n",
       "      <td>l2</td>\n",
       "      <td>0.152656</td>\n",
       "      <td>0.136795</td>\n",
       "      <td>0.060310</td>\n",
       "    </tr>\n",
       "    <tr>\n",
       "      <th>16</th>\n",
       "      <td>15.848932</td>\n",
       "      <td>l2</td>\n",
       "      <td>0.152734</td>\n",
       "      <td>0.136887</td>\n",
       "      <td>0.060253</td>\n",
       "    </tr>\n",
       "    <tr>\n",
       "      <th>17</th>\n",
       "      <td>25.118864</td>\n",
       "      <td>l2</td>\n",
       "      <td>0.152821</td>\n",
       "      <td>0.136991</td>\n",
       "      <td>0.060197</td>\n",
       "    </tr>\n",
       "    <tr>\n",
       "      <th>18</th>\n",
       "      <td>39.810717</td>\n",
       "      <td>l2</td>\n",
       "      <td>0.152919</td>\n",
       "      <td>0.137111</td>\n",
       "      <td>0.060141</td>\n",
       "    </tr>\n",
       "    <tr>\n",
       "      <th>19</th>\n",
       "      <td>63.095734</td>\n",
       "      <td>l2</td>\n",
       "      <td>0.153021</td>\n",
       "      <td>0.137236</td>\n",
       "      <td>0.060114</td>\n",
       "    </tr>\n",
       "    <tr>\n",
       "      <th>20</th>\n",
       "      <td>100.000000</td>\n",
       "      <td>l2</td>\n",
       "      <td>0.153122</td>\n",
       "      <td>0.137368</td>\n",
       "      <td>0.060073</td>\n",
       "    </tr>\n",
       "  </tbody>\n",
       "</table>\n",
       "</div>"
      ],
      "text/plain": [
       "             C penalty  dev log_loss  test log_loss      cips\n",
       "0     0.010000      l2      0.155511       0.138326  0.062454\n",
       "1     0.015849      l2      0.154568       0.137644  0.062382\n",
       "2     0.025119      l2      0.153827       0.137136  0.061886\n",
       "3     0.039811      l2      0.153286       0.136788  0.061834\n",
       "4     0.063096      l2      0.152909       0.136572  0.062029\n",
       "5     0.100000      l2      0.152661       0.136452  0.061977\n",
       "6     0.158489      l2      0.152504       0.136396  0.061851\n",
       "7     0.251189      l2      0.152417       0.136382  0.061642\n",
       "8     0.398107      l2      0.152377       0.136395  0.061447\n",
       "9     0.630957      l2      0.152370       0.136424  0.061197\n",
       "10    1.000000      l2      0.152384       0.136465  0.060933\n",
       "11    1.584893      l2      0.152415       0.136513  0.060730\n",
       "12    2.511886      l2      0.152459       0.136570  0.060599\n",
       "13    3.981072      l2      0.152515       0.136634  0.060471\n",
       "14    6.309573      l2      0.152579       0.136708  0.060396\n",
       "15   10.000000      l2      0.152656       0.136795  0.060310\n",
       "16   15.848932      l2      0.152734       0.136887  0.060253\n",
       "17   25.118864      l2      0.152821       0.136991  0.060197\n",
       "18   39.810717      l2      0.152919       0.137111  0.060141\n",
       "19   63.095734      l2      0.153021       0.137236  0.060114\n",
       "20  100.000000      l2      0.153122       0.137368  0.060073"
      ]
     },
     "execution_count": 123,
     "metadata": {},
     "output_type": "execute_result"
    }
   ],
   "source": [
    "table = pd.DataFrame(all_metrics, columns=['C', 'penalty', 'dev log_loss', 'test log_loss', 'cips'])\n",
    "table"
   ]
  },
  {
   "cell_type": "code",
   "execution_count": 124,
   "metadata": {},
   "outputs": [
    {
     "data": {
      "text/plain": [
       "C                0.630957\n",
       "penalty                l2\n",
       "dev log_loss      0.15237\n",
       "test log_loss    0.136424\n",
       "cips             0.061197\n",
       "Name: 9, dtype: object"
      ]
     },
     "execution_count": 124,
     "metadata": {},
     "output_type": "execute_result"
    }
   ],
   "source": [
    "table.iloc[table['dev log_loss'].argmin()]"
   ]
  },
  {
   "cell_type": "code",
   "execution_count": 125,
   "metadata": {},
   "outputs": [
    {
     "data": {
      "text/plain": [
       "C                0.251189\n",
       "penalty                l2\n",
       "dev log_loss     0.152417\n",
       "test log_loss    0.136382\n",
       "cips             0.061642\n",
       "Name: 7, dtype: object"
      ]
     },
     "execution_count": 125,
     "metadata": {},
     "output_type": "execute_result"
    }
   ],
   "source": [
    "table.iloc[table['test log_loss'].argmin()]"
   ]
  },
  {
   "cell_type": "code",
   "execution_count": 127,
   "metadata": {},
   "outputs": [
    {
     "data": {
      "text/plain": [
       "C                    0.01\n",
       "penalty                l2\n",
       "dev log_loss     0.155511\n",
       "test log_loss    0.138326\n",
       "cips             0.062454\n",
       "Name: 0, dtype: object"
      ]
     },
     "execution_count": 127,
     "metadata": {},
     "output_type": "execute_result"
    }
   ],
   "source": [
    "table.iloc[table['cips'].argmax()]"
   ]
  },
  {
   "cell_type": "markdown",
   "metadata": {},
   "source": [
    "## So given test cips the best C is 0.01\n",
    "\n",
    "Note:\n",
    "- it is more correct to use cips on devset to choose C instead of test cips\n",
    "- probably decreasing C will increase test cips\n",
    "- C does not affect log loss and cips too much\n",
    "- train with l1 penalty was too slow so I use l2 only"
   ]
  },
  {
   "cell_type": "code",
   "execution_count": null,
   "metadata": {},
   "outputs": [],
   "source": []
  }
 ],
 "metadata": {
  "kernelspec": {
   "display_name": "Python 3",
   "language": "python",
   "name": "python3"
  },
  "language_info": {
   "codemirror_mode": {
    "name": "ipython",
    "version": 3
   },
   "file_extension": ".py",
   "mimetype": "text/x-python",
   "name": "python",
   "nbconvert_exporter": "python",
   "pygments_lexer": "ipython3",
   "version": "3.9.7"
  }
 },
 "nbformat": 4,
 "nbformat_minor": 1
}
